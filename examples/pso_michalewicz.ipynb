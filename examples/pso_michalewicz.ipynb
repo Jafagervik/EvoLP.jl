{
 "cells": [
  {
   "cell_type": "markdown",
   "metadata": {},
   "source": [
    "# Particle Swarm Optimisation"
   ]
  },
  {
   "cell_type": "markdown",
   "metadata": {},
   "source": [
    "This notebook showcases how to use the built-in Particle Swarm Optimisation (PSO) algorithm."
   ]
  },
  {
   "cell_type": "code",
   "execution_count": 1,
   "metadata": {},
   "outputs": [],
   "source": [
    "using EvoLP\n",
    "using Statistics\n",
    "using OrderedCollections"
   ]
  },
  {
   "cell_type": "markdown",
   "metadata": {},
   "source": [
    "For this example, we will use the Michalewicz function:"
   ]
  },
  {
   "cell_type": "code",
   "execution_count": 2,
   "metadata": {},
   "outputs": [
    {
     "data": {
      "text/latex": [
       "\\begin{verbatim}\n",
       "michalewicz(x; m=10)\n",
       "\\end{verbatim}\n",
       "The \\textbf{Michalewicz} function is a $d$-dimensional function with several steep valleys, where \\texttt{m} controls the steepness. \\texttt{m} is usually set at 10. For 2 dimensions, $x^* = [2.20, 1.57]$, with $f(x^*) = -1.8011$.\n",
       "\n",
       "$$f(x) = -\\sum_{i=1}^{d}\\sin(x_i) \\sin^{2m}\\left(\\frac{ix_i^2}{\\pi}\\right)$$\n"
      ],
      "text/markdown": [
       "```\n",
       "michalewicz(x; m=10)\n",
       "```\n",
       "\n",
       "The **Michalewicz** function is a $d$-dimensional function with several steep valleys, where `m` controls the steepness. `m` is usually set at 10. For 2 dimensions, $x^* = [2.20, 1.57]$, with $f(x^*) = -1.8011$.\n",
       "\n",
       "$$\n",
       "f(x) = -\\sum_{i=1}^{d}\\sin(x_i) \\sin^{2m}\\left(\\frac{ix_i^2}{\\pi}\\right)\n",
       "$$\n"
      ],
      "text/plain": [
       "\u001b[36m  michalewicz(x; m=10)\u001b[39m\n",
       "\n",
       "  The \u001b[1mMichalewicz\u001b[22m function is a \u001b[35md\u001b[39m-dimensional function with several steep\n",
       "  valleys, where \u001b[36mm\u001b[39m controls the steepness. \u001b[36mm\u001b[39m is usually set at 10. For 2\n",
       "  dimensions, \u001b[35mx^* = [2.20, 1.57]\u001b[39m, with \u001b[35mf(x^*) = -1.8011\u001b[39m.\n",
       "\n",
       "\u001b[35m  f(x) = -\\sum_{i=1}^{d}\\sin(x_i) \\sin^{2m}\\left(\\frac{ix_i^2}{\\pi}\\right)\u001b[39m"
      ]
     },
     "metadata": {},
     "output_type": "display_data"
    }
   ],
   "source": [
    "@doc michalewicz"
   ]
  },
  {
   "cell_type": "markdown",
   "metadata": {},
   "source": [
    "In this case we will use $d=2$ and $m=10$, which is the default value implemented in EvoLP."
   ]
  },
  {
   "cell_type": "markdown",
   "metadata": {},
   "source": [
    "In PSO, we use _particles_. Each particle has a position and a velocity, and remembers the best position it has visited."
   ]
  },
  {
   "cell_type": "markdown",
   "metadata": {},
   "source": [
    "We can create a population of particles in multiple ways, but EvoLP provides 2 particle generators with random positions: either uniform or following a normal distribution.\n",
    "\n",
    "Let's use the normal generator:"
   ]
  },
  {
   "cell_type": "code",
   "execution_count": 3,
   "metadata": {},
   "outputs": [
    {
     "data": {
      "text/latex": [
       "\\begin{verbatim}\n",
       "normal_rand_particle_pop(n, μ, Σ; rng=Random.GLOBAL_RNG)\n",
       "\\end{verbatim}\n",
       "Generate a population of \\texttt{n} \\href{@ref}{\\texttt{Particle}} using a normal distribution with means \\texttt{μ and covariance}Σ`.\n",
       "\n",
       "\\texttt{μ} expects a vector of length \\emph{l} (i.e. number of dimensions) while \\texttt{Σ} expects an \\emph{l x l} matrix of covariances.\n",
       "\n",
       "\\section{Examples}\n",
       "\\begin{verbatim}\n",
       "julia> normal_rand_particle_pop(3, [-1, -1], [1 0; 0 1])\n",
       "3-element Vector{Any}:\n",
       " Particle([-2.3026589618390214, 0.25907687184121864], [0.0, 0.0], [-2.3026589618390214, 0.25907687184121864])\n",
       " Particle([-0.5118786279984703, -0.5948648935657292], [0.0, 0.0], [-0.5118786279984703, -0.5948648935657292])\n",
       " Particle([-1.3230210847731094, -1.6234307114658497], [0.0, 0.0], [-1.3230210847731094, -1.6234307114658497])\n",
       "\\end{verbatim}\n"
      ],
      "text/markdown": [
       "```\n",
       "normal_rand_particle_pop(n, μ, Σ; rng=Random.GLOBAL_RNG)\n",
       "```\n",
       "\n",
       "Generate a population of `n` [`Particle`](@ref) using a normal distribution with means `μ and covariance`Σ`.\n",
       "\n",
       "`μ` expects a vector of length *l* (i.e. number of dimensions) while `Σ` expects an *l x l* matrix of covariances.\n",
       "\n",
       "# Examples\n",
       "\n",
       "```julia\n",
       "julia> normal_rand_particle_pop(3, [-1, -1], [1 0; 0 1])\n",
       "3-element Vector{Any}:\n",
       " Particle([-2.3026589618390214, 0.25907687184121864], [0.0, 0.0], [-2.3026589618390214, 0.25907687184121864])\n",
       " Particle([-0.5118786279984703, -0.5948648935657292], [0.0, 0.0], [-0.5118786279984703, -0.5948648935657292])\n",
       " Particle([-1.3230210847731094, -1.6234307114658497], [0.0, 0.0], [-1.3230210847731094, -1.6234307114658497])\n",
       "```\n"
      ],
      "text/plain": [
       "\u001b[36m  normal_rand_particle_pop(n, μ, Σ; rng=Random.GLOBAL_RNG)\u001b[39m\n",
       "\n",
       "  Generate a population of \u001b[36mn\u001b[39m \u001b[36mParticle\u001b[39m using a normal distribution with means \u001b[36mμ\n",
       "  and covariance\u001b[39mΣ`.\n",
       "\n",
       "  \u001b[36mμ\u001b[39m expects a vector of length \u001b[4ml\u001b[24m (i.e. number of dimensions) while \u001b[36mΣ\u001b[39m expects\n",
       "  an \u001b[4ml x l\u001b[24m matrix of covariances.\n",
       "\n",
       "\u001b[1m  Examples\u001b[22m\n",
       "\u001b[1m  ≡≡≡≡≡≡≡≡≡≡\u001b[22m\n",
       "\n",
       "\u001b[36m  julia> normal_rand_particle_pop(3, [-1, -1], [1 0; 0 1])\u001b[39m\n",
       "\u001b[36m  3-element Vector{Any}:\u001b[39m\n",
       "\u001b[36m   Particle([-2.3026589618390214, 0.25907687184121864], [0.0, 0.0], [-2.3026589618390214, 0.25907687184121864])\u001b[39m\n",
       "\u001b[36m   Particle([-0.5118786279984703, -0.5948648935657292], [0.0, 0.0], [-0.5118786279984703, -0.5948648935657292])\u001b[39m\n",
       "\u001b[36m   Particle([-1.3230210847731094, -1.6234307114658497], [0.0, 0.0], [-1.3230210847731094, -1.6234307114658497])\u001b[39m"
      ]
     },
     "metadata": {},
     "output_type": "display_data"
    }
   ],
   "source": [
    "@doc normal_rand_particle_pop"
   ]
  },
  {
   "cell_type": "code",
   "execution_count": 4,
   "metadata": {},
   "outputs": [
    {
     "data": {
      "text/plain": [
       "3-element Vector{Any}:\n",
       " Particle([-0.22703948747578281, 1.7689889087227626], [0.0, 0.0], [-0.22703948747578281, 1.7689889087227626])\n",
       " Particle([0.9523372333139276, 1.8452380648469366], [0.0, 0.0], [0.9523372333139276, 1.8452380648469366])\n",
       " Particle([-1.2560899837782407, 0.15303679468484374], [0.0, 0.0], [-1.2560899837782407, 0.15303679468484374])"
      ]
     },
     "metadata": {},
     "output_type": "display_data"
    }
   ],
   "source": [
    "population = normal_rand_particle_pop(50, [0, 0], [1 0; 0 1])\n",
    "first(population, 3)"
   ]
  },
  {
   "cell_type": "markdown",
   "metadata": {},
   "source": [
    "Let's use the `Logbook` to save information about each iteration of the run:"
   ]
  },
  {
   "cell_type": "code",
   "execution_count": 5,
   "metadata": {},
   "outputs": [
    {
     "data": {
      "text/latex": [
       "\\begin{verbatim}\n",
       "Logbook(S::LittleDict)\n",
       "\\end{verbatim}\n",
       "A log for statistics intended for use on every iteration of an algorithm. The logbook is constructed from a \\texttt{LittleDict} ordered dictionary which maps stat names (strings) to callables, such that \\emph{statname} $i$ can be computed from \\emph{callable} $i$.\n",
       "\n",
       "The resulting \\texttt{Logbook} contains:\n",
       "\n",
       "\\begin{itemize}\n",
       "\\item \\texttt{S::LittleDict}: The ordered dict of stat names and callables\n",
       "\n",
       "\n",
       "\\item \\texttt{records::AbstractVector}: A vector of NamedTuples where each field is a statistic.\n",
       "\n",
       "\\end{itemize}\n"
      ],
      "text/markdown": [
       "```\n",
       "Logbook(S::LittleDict)\n",
       "```\n",
       "\n",
       "A log for statistics intended for use on every iteration of an algorithm. The logbook is constructed from a `LittleDict` ordered dictionary which maps stat names (strings) to callables, such that *statname* $i$ can be computed from *callable* $i$.\n",
       "\n",
       "The resulting `Logbook` contains:\n",
       "\n",
       "  * `S::LittleDict`: The ordered dict of stat names and callables\n",
       "  * `records::AbstractVector`: A vector of NamedTuples where each field is a statistic.\n"
      ],
      "text/plain": [
       "\u001b[36m  Logbook(S::LittleDict)\u001b[39m\n",
       "\n",
       "  A log for statistics intended for use on every iteration of an algorithm.\n",
       "  The logbook is constructed from a \u001b[36mLittleDict\u001b[39m ordered dictionary which maps\n",
       "  stat names (strings) to callables, such that \u001b[4mstatname\u001b[24m \u001b[35mi\u001b[39m can be computed from\n",
       "  \u001b[4mcallable\u001b[24m \u001b[35mi\u001b[39m.\n",
       "\n",
       "  The resulting \u001b[36mLogbook\u001b[39m contains:\n",
       "\n",
       "    •  \u001b[36mS::LittleDict\u001b[39m: The ordered dict of stat names and callables\n",
       "\n",
       "    •  \u001b[36mrecords::AbstractVector\u001b[39m: A vector of NamedTuples where each field\n",
       "       is a statistic."
      ]
     },
     "metadata": {},
     "output_type": "display_data"
    }
   ],
   "source": [
    "@doc Logbook"
   ]
  },
  {
   "cell_type": "code",
   "execution_count": 6,
   "metadata": {},
   "outputs": [
    {
     "data": {
      "text/plain": [
       "Logbook(LittleDict{AbstractString, Function, Vector{AbstractString}, Vector{Function}}(\"avg_fit\" => Statistics.mean, \"median_fit\" => Statistics.median, \"best_fit\" => minimum), NamedTuple{(:avg_fit, :median_fit, :best_fit)}[])"
      ]
     },
     "metadata": {},
     "output_type": "display_data"
    }
   ],
   "source": [
    "statnames = [\"avg_fit\", \"median_fit\", \"best_fit\"]\n",
    "callables = [mean, median, minimum]\n",
    "\n",
    "thedict = LittleDict(statnames, callables)\n",
    "logbook = Logbook(thedict)"
   ]
  },
  {
   "cell_type": "markdown",
   "metadata": {},
   "source": [
    "We can now use the built-in algorithm:"
   ]
  },
  {
   "cell_type": "code",
   "execution_count": 7,
   "metadata": {},
   "outputs": [
    {
     "data": {
      "text/latex": [
       "\\begin{verbatim}\n",
       "PSO(f::Function, population, k_max; w=1, c1=1, c2=1)\n",
       "PSO(logger::Logbook, f::Function, population, k_max; w=1, c1=1, c2=1)\n",
       "\\end{verbatim}\n",
       "\\subsection{Arguments}\n",
       "\\begin{itemize}\n",
       "\\item \\texttt{f::Function}: Objective function to minimise\n",
       "\n",
       "\n",
       "\\item \\texttt{population}: Population—a list of \\href{@ref}{\\texttt{Particle}} individuals\n",
       "\n",
       "\n",
       "\\item \\texttt{k\\_max}: maximum iterations\n",
       "\n",
       "\n",
       "\\item \\texttt{w}: Inertia weight. Optional, by default 1.\n",
       "\n",
       "\n",
       "\\item \\texttt{c1}: Cognitive coefficient (my position). Optional, by default 1\n",
       "\n",
       "\n",
       "\\item \\texttt{c2}: Social coefficient (swarm position). Optional, by default 1\n",
       "\n",
       "\\end{itemize}\n",
       "Returns a \\href{@ref}{\\texttt{Result}}.\n",
       "\n"
      ],
      "text/markdown": [
       "```\n",
       "PSO(f::Function, population, k_max; w=1, c1=1, c2=1)\n",
       "PSO(logger::Logbook, f::Function, population, k_max; w=1, c1=1, c2=1)\n",
       "```\n",
       "\n",
       "## Arguments\n",
       "\n",
       "  * `f::Function`: Objective function to minimise\n",
       "  * `population`: Population—a list of [`Particle`](@ref) individuals\n",
       "  * `k_max`: maximum iterations\n",
       "  * `w`: Inertia weight. Optional, by default 1.\n",
       "  * `c1`: Cognitive coefficient (my position). Optional, by default 1\n",
       "  * `c2`: Social coefficient (swarm position). Optional, by default 1\n",
       "\n",
       "Returns a [`Result`](@ref).\n"
      ],
      "text/plain": [
       "\u001b[36m  PSO(f::Function, population, k_max; w=1, c1=1, c2=1)\u001b[39m\n",
       "\u001b[36m  PSO(logger::Logbook, f::Function, population, k_max; w=1, c1=1, c2=1)\u001b[39m\n",
       "\n",
       "\u001b[1m  Arguments\u001b[22m\n",
       "\u001b[1m  ===========\u001b[22m\n",
       "\n",
       "    •  \u001b[36mf::Function\u001b[39m: Objective function to minimise\n",
       "\n",
       "    •  \u001b[36mpopulation\u001b[39m: Population—a list of \u001b[36mParticle\u001b[39m individuals\n",
       "\n",
       "    •  \u001b[36mk_max\u001b[39m: maximum iterations\n",
       "\n",
       "    •  \u001b[36mw\u001b[39m: Inertia weight. Optional, by default 1.\n",
       "\n",
       "    •  \u001b[36mc1\u001b[39m: Cognitive coefficient (my position). Optional, by default 1\n",
       "\n",
       "    •  \u001b[36mc2\u001b[39m: Social coefficient (swarm position). Optional, by default 1\n",
       "\n",
       "  Returns a \u001b[36mResult\u001b[39m."
      ]
     },
     "metadata": {},
     "output_type": "display_data"
    }
   ],
   "source": [
    "@doc PSO"
   ]
  },
  {
   "cell_type": "code",
   "execution_count": 8,
   "metadata": {},
   "outputs": [],
   "source": [
    "results = PSO(logbook, michalewicz, population, 30);"
   ]
  },
  {
   "cell_type": "markdown",
   "metadata": {},
   "source": [
    "The output was suppressed so that we can analyse each part of the result separately:"
   ]
  },
  {
   "cell_type": "code",
   "execution_count": 9,
   "metadata": {},
   "outputs": [
    {
     "name": "stdout",
     "output_type": "stream",
     "text": [
      "optimum(results) = -1.7945699649685944\n",
      "optimizer(results) = Particle([2.4587719347604904, 1.5710645311634195], [-0.3065425967254033, 3.75884997817273e-5], [2.1824224667308583, 1.5710530344414129])\n",
      "iterations(results) = 30\n",
      "f_calls(results) = 4601\n"
     ]
    }
   ],
   "source": [
    "@show optimum(results)\n",
    "\n",
    "@show optimizer(results)\n",
    "\n",
    "@show iterations(results)\n",
    "@show f_calls(results);"
   ]
  },
  {
   "cell_type": "markdown",
   "metadata": {},
   "source": [
    "We can also take a look at the logbook's records and see how the statistics we calculated changed throughout the run:"
   ]
  },
  {
   "cell_type": "code",
   "execution_count": 10,
   "metadata": {},
   "outputs": [
    {
     "name": "stdout",
     "output_type": "stream",
     "text": [
      "it: 1 with best_pos: -0.6906794768370129 and avg_pos: -0.005754793636862157 \n",
      "it: 2 with best_pos: -0.9897012274595496 and avg_pos: -0.17476488948373003 \n",
      "it: 3 with best_pos: -1.102946135488689 and avg_pos: -0.2783471388805291 \n",
      "it: 4 with best_pos: -0.968940921732735 and avg_pos: -0.3095523155518831 \n",
      "it: 5 with best_pos: -1.472368499905572 and avg_pos: -0.3379717198952197 \n",
      "it: 6 with best_pos: -1.3055867468693856 and avg_pos: -0.3258715803445814 \n",
      "it: 7 with best_pos: -1.3634607463646478 and avg_pos: -0.45466359334515916 \n",
      "it: 8 with best_pos: -1.6705825784286839 and avg_pos: -0.6029634734635035 \n",
      "it: 9 with best_pos: -1.5345866019317895 and avg_pos: -0.5501090751560626 \n",
      "it: 10 with best_pos: -1.7212146343892145 and avg_pos: -0.5773626889249354 \n",
      "it: 11 with best_pos: -1.779247279246615 and avg_pos: -0.6533233522934709 \n",
      "it: 12 with best_pos: -1.7838823541946531 and avg_pos: -0.6378969618098259 \n",
      "it: 13 with best_pos: -1.7931685047158967 and avg_pos: -0.6128555872381239 \n",
      "it: 14 with best_pos: -1.7602231973069682 and avg_pos: -0.6399893054000261 \n",
      "it: 15 with best_pos: -1.7903696633328317 and avg_pos: -0.5750118483927428 \n",
      "it: 16 with best_pos: -1.7898716807412165 and avg_pos: -0.5954660432077975 \n",
      "it: 17 with best_pos: -1.785632556103051 and avg_pos: -0.6282199097964665 \n",
      "it: 18 with best_pos: -1.793412068667957 and avg_pos: -0.5967425923776992 \n",
      "it: 19 with best_pos: -1.7945699649685944 and avg_pos: -0.5916369173134188 \n",
      "it: 20 with best_pos: -1.7523847497822869 and avg_pos: -0.6651822602448447 \n",
      "it: 21 with best_pos: -1.7851864041976486 and avg_pos: -0.5823099403323408 \n",
      "it: 22 with best_pos: -1.7838001095222875 and avg_pos: -0.6533675831853937 \n",
      "it: 23 with best_pos: -1.7739653477376558 and avg_pos: -0.6095419482154109 \n",
      "it: 24 with best_pos: -1.7818070429845911 and avg_pos: -0.6334580923663595 \n",
      "it: 25 with best_pos: -1.7849119381216694 and avg_pos: -0.5762643811160446 \n",
      "it: 26 with best_pos: -1.7938521468057878 and avg_pos: -0.684789042512983 \n",
      "it: 27 with best_pos: -1.7808066875854238 and avg_pos: -0.5577077719919309 \n",
      "it: 28 with best_pos: -1.7608941215987302 and avg_pos: -0.6351975353921133 \n",
      "it: 29 with best_pos: -1.7829383704900754 and avg_pos: -0.5261806929819258 \n",
      "it: 30 with best_pos: -1.7905107361608266 and avg_pos: -0.575240903673051 \n"
     ]
    }
   ],
   "source": [
    "for (i, I) in enumerate(logbook.records)\n",
    "    print(\"it: $(i) with best_pos: $(I[3]) and avg_pos: $(I[1]) \\n\")\n",
    "end"
   ]
  }
 ],
 "metadata": {
  "kernelspec": {
   "display_name": "Julia 1.8.5",
   "language": "julia",
   "name": "julia-1.8"
  },
  "language_info": {
   "file_extension": ".jl",
   "mimetype": "application/julia",
   "name": "julia",
   "version": "1.8.3"
  },
  "vscode": {
   "interpreter": {
    "hash": "916dbcbb3f70747c44a77c7bcd40155683ae19c65e1c03b4aa3499c5328201f1"
   }
  }
 },
 "nbformat": 4,
 "nbformat_minor": 2
}
