{
 "cells": [
  {
   "cell_type": "markdown",
   "metadata": {},
   "source": [
    "# Particle Swarm Optimisation"
   ]
  },
  {
   "cell_type": "markdown",
   "metadata": {},
   "source": [
    "This notebook showcases how to use the built-in Particle Swarm Optimisation (PSO) algorithm."
   ]
  },
  {
   "cell_type": "code",
   "execution_count": 1,
   "metadata": {},
   "outputs": [],
   "source": [
    "using EvoLP\n",
    "using Statistics\n",
    "using OrderedCollections"
   ]
  },
  {
   "cell_type": "markdown",
   "metadata": {},
   "source": [
    "For this example, we will use the Michalewicz function:\n",
    "\n",
    "$$f(x) = -\\sum_{i=1}^{d}\\sin(x_i) \\sin^{2m}\\left(\\frac{ix_i^2}{\\pi}\\right)$$\n",
    "\n",
    "In this case we will use $d=2$ and $m=10$, which is the default value implemented in EvoLP:"
   ]
  },
  {
   "cell_type": "code",
   "execution_count": 2,
   "metadata": {},
   "outputs": [
    {
     "data": {
      "text/latex": [
       "\\begin{verbatim}\n",
       "michalewicz(x; m=10)\n",
       "\\end{verbatim}\n",
       "The \\textbf{Michalewicz} function is a $d$-dimensional function with several steep valleys, where \\texttt{m} controls the steepness. \\texttt{m} is usually set at 10. For 2 dimensions, $x^* = [2.20, 1.57]$, with $f(x^*) = -1.8011$.\n",
       "\n",
       "$$f(x) = -\\sum_{i=1}^{d}\\sin(x_i) \\sin^{2m}\\left(\\frac{ix_i^2}{\\pi}\\right)$$\n"
      ],
      "text/markdown": [
       "```\n",
       "michalewicz(x; m=10)\n",
       "```\n",
       "\n",
       "The **Michalewicz** function is a $d$-dimensional function with several steep valleys, where `m` controls the steepness. `m` is usually set at 10. For 2 dimensions, $x^* = [2.20, 1.57]$, with $f(x^*) = -1.8011$.\n",
       "\n",
       "$$\n",
       "f(x) = -\\sum_{i=1}^{d}\\sin(x_i) \\sin^{2m}\\left(\\frac{ix_i^2}{\\pi}\\right)\n",
       "$$\n"
      ],
      "text/plain": [
       "\u001b[36m  michalewicz(x; m=10)\u001b[39m\n",
       "\n",
       "  The \u001b[1mMichalewicz\u001b[22m function is a \u001b[35md\u001b[39m-dimensional function with several steep\n",
       "  valleys, where \u001b[36mm\u001b[39m controls the steepness. \u001b[36mm\u001b[39m is usually set at 10. For 2\n",
       "  dimensions, \u001b[35mx^* = [2.20, 1.57]\u001b[39m, with \u001b[35mf(x^*) = -1.8011\u001b[39m.\n",
       "\n",
       "\u001b[35m  f(x) = -\\sum_{i=1}^{d}\\sin(x_i) \\sin^{2m}\\left(\\frac{ix_i^2}{\\pi}\\right)\u001b[39m"
      ]
     },
     "metadata": {},
     "output_type": "display_data"
    }
   ],
   "source": [
    "@doc michalewicz"
   ]
  },
  {
   "cell_type": "markdown",
   "metadata": {},
   "source": [
    "In PSO, we use _particles_. Each particle has a position and a velocity, and remembers the best position it has visited."
   ]
  },
  {
   "cell_type": "markdown",
   "metadata": {},
   "source": [
    "We can create a population of particles in multiple ways, but EvoLP provides 2 particle generators with random positions: either uniform or following a normal distribution.\n",
    "\n",
    "Let's use the normal generator:"
   ]
  },
  {
   "cell_type": "code",
   "execution_count": 3,
   "metadata": {},
   "outputs": [
    {
     "data": {
      "text/latex": [
       "\\begin{verbatim}\n",
       "rand_particle_normal(n, μ, Σ)\n",
       "\\end{verbatim}\n",
       "Generate a population of \\texttt{n} particles using a normal distribution with means \\texttt{μ} and covariance \\texttt{Σ}.\n",
       "\n",
       "\\texttt{μ} expects a vector of length \\emph{l} (i.e. number of dimensions) while \\texttt{Σ} expects an \\emph{l x l} matrix of covariances.\n",
       "\n"
      ],
      "text/markdown": [
       "```\n",
       "rand_particle_normal(n, μ, Σ)\n",
       "```\n",
       "\n",
       "Generate a population of `n` particles using a normal distribution with means `μ` and covariance `Σ`.\n",
       "\n",
       "`μ` expects a vector of length *l* (i.e. number of dimensions) while `Σ` expects an *l x l* matrix of covariances.\n"
      ],
      "text/plain": [
       "\u001b[36m  rand_particle_normal(n, μ, Σ)\u001b[39m\n",
       "\n",
       "  Generate a population of \u001b[36mn\u001b[39m particles using a normal distribution with means\n",
       "  \u001b[36mμ\u001b[39m and covariance \u001b[36mΣ\u001b[39m.\n",
       "\n",
       "  \u001b[36mμ\u001b[39m expects a vector of length \u001b[4ml\u001b[24m (i.e. number of dimensions) while \u001b[36mΣ\u001b[39m expects\n",
       "  an \u001b[4ml x l\u001b[24m matrix of covariances."
      ]
     },
     "metadata": {},
     "output_type": "display_data"
    }
   ],
   "source": [
    "@doc rand_particle_normal"
   ]
  },
  {
   "cell_type": "code",
   "execution_count": 4,
   "metadata": {},
   "outputs": [
    {
     "data": {
      "text/plain": [
       "3-element Vector{Any}:\n",
       " Particle([0.1623039301617126, -0.19149272564194164], [0.0, 0.0], [0.1623039301617126, -0.19149272564194164])\n",
       " Particle([-0.8771304556229012, -1.4109695910553732], [0.0, 0.0], [-0.8771304556229012, -1.4109695910553732])\n",
       " Particle([0.17462037217507043, -0.9885025340968195], [0.0, 0.0], [0.17462037217507043, -0.9885025340968195])"
      ]
     },
     "metadata": {},
     "output_type": "display_data"
    }
   ],
   "source": [
    "population = rand_particle_normal(50, [0, 0], [1 0; 0 1])\n",
    "first(population, 3)"
   ]
  },
  {
   "cell_type": "markdown",
   "metadata": {},
   "source": [
    "Let's use the `Logbook` to save information about each iteration of the run:"
   ]
  },
  {
   "cell_type": "code",
   "execution_count": 5,
   "metadata": {},
   "outputs": [
    {
     "data": {
      "text/latex": [
       "\\begin{verbatim}\n",
       "Logbook(S::LittleDict)\n",
       "\\end{verbatim}\n",
       "A log for statistics intended for use on every iteration of an algorithm. The logbook is constructed from a \\texttt{LittleDict} ordered dictionary which maps stat names (strings) to callables, such that \\emph{statname} $i$ can be computed from \\emph{callable} $i$.\n",
       "\n",
       "The resulting \\texttt{Logbook} contains:\n",
       "\n",
       "\\begin{itemize}\n",
       "\\item \\texttt{S::LittleDict}: The ordered dict of stat names and callables\n",
       "\n",
       "\n",
       "\\item \\texttt{records::AbstractVector}: A vector of NamedTuples where each field is a statistic.\n",
       "\n",
       "\\end{itemize}\n"
      ],
      "text/markdown": [
       "```\n",
       "Logbook(S::LittleDict)\n",
       "```\n",
       "\n",
       "A log for statistics intended for use on every iteration of an algorithm. The logbook is constructed from a `LittleDict` ordered dictionary which maps stat names (strings) to callables, such that *statname* $i$ can be computed from *callable* $i$.\n",
       "\n",
       "The resulting `Logbook` contains:\n",
       "\n",
       "  * `S::LittleDict`: The ordered dict of stat names and callables\n",
       "  * `records::AbstractVector`: A vector of NamedTuples where each field is a statistic.\n"
      ],
      "text/plain": [
       "\u001b[36m  Logbook(S::LittleDict)\u001b[39m\n",
       "\n",
       "  A log for statistics intended for use on every iteration of an algorithm.\n",
       "  The logbook is constructed from a \u001b[36mLittleDict\u001b[39m ordered dictionary which maps\n",
       "  stat names (strings) to callables, such that \u001b[4mstatname\u001b[24m \u001b[35mi\u001b[39m can be computed from\n",
       "  \u001b[4mcallable\u001b[24m \u001b[35mi\u001b[39m.\n",
       "\n",
       "  The resulting \u001b[36mLogbook\u001b[39m contains:\n",
       "\n",
       "    •  \u001b[36mS::LittleDict\u001b[39m: The ordered dict of stat names and callables\n",
       "\n",
       "    •  \u001b[36mrecords::AbstractVector\u001b[39m: A vector of NamedTuples where each field\n",
       "       is a statistic."
      ]
     },
     "metadata": {},
     "output_type": "display_data"
    }
   ],
   "source": [
    "@doc Logbook"
   ]
  },
  {
   "cell_type": "code",
   "execution_count": 6,
   "metadata": {},
   "outputs": [
    {
     "data": {
      "text/plain": [
       "Logbook(LittleDict{AbstractString, Function, Vector{AbstractString}, Vector{Function}}(\"avg_fit\" => Statistics.mean, \"median_fit\" => Statistics.median, \"best_fit\" => minimum), NamedTuple{(:avg_fit, :median_fit, :best_fit)}[])"
      ]
     },
     "metadata": {},
     "output_type": "display_data"
    }
   ],
   "source": [
    "statnames = [\"avg_fit\", \"median_fit\", \"best_fit\"]\n",
    "callables = [mean, median, minimum]\n",
    "\n",
    "thedict = LittleDict(statnames, callables)\n",
    "logbook = Logbook(thedict)"
   ]
  },
  {
   "cell_type": "markdown",
   "metadata": {},
   "source": [
    "We can now use the built-in algorithm:"
   ]
  },
  {
   "cell_type": "code",
   "execution_count": 7,
   "metadata": {},
   "outputs": [
    {
     "data": {
      "text/latex": [
       "\\begin{verbatim}\n",
       "PSO(f::Function, population, k_max; w=1, c1=1, c2=1)\n",
       "PSO(logger::Logbook, f::Function, population, k_max; w=1, c1=1, c2=1)\n",
       "\\end{verbatim}\n",
       "\\subsection{Arguments}\n",
       "\\begin{itemize}\n",
       "\\item \\texttt{f::Function}: Objective function to minimise\n",
       "\n",
       "\n",
       "\\item \\texttt{population}: Population—a list of \\texttt{Particle} individuals\n",
       "\n",
       "\n",
       "\\item \\texttt{k\\_max}: maximum iterations\n",
       "\n",
       "\n",
       "\\item \\texttt{w}: Inertia weight. Optional, by default 1.\n",
       "\n",
       "\n",
       "\\item \\texttt{c1}: Cognitive coefficient (my position). Optional, by default 1\n",
       "\n",
       "\n",
       "\\item \\texttt{c2}: Social coefficient (swarm position). Optional, by default 1\n",
       "\n",
       "\\end{itemize}\n",
       "Returns a 2-tuple of the form \\texttt{(best, pop)} of the best individual and the population.\n",
       "\n"
      ],
      "text/markdown": [
       "```\n",
       "PSO(f::Function, population, k_max; w=1, c1=1, c2=1)\n",
       "PSO(logger::Logbook, f::Function, population, k_max; w=1, c1=1, c2=1)\n",
       "```\n",
       "\n",
       "## Arguments\n",
       "\n",
       "  * `f::Function`: Objective function to minimise\n",
       "  * `population`: Population—a list of `Particle` individuals\n",
       "  * `k_max`: maximum iterations\n",
       "  * `w`: Inertia weight. Optional, by default 1.\n",
       "  * `c1`: Cognitive coefficient (my position). Optional, by default 1\n",
       "  * `c2`: Social coefficient (swarm position). Optional, by default 1\n",
       "\n",
       "Returns a 2-tuple of the form `(best, pop)` of the best individual and the population.\n"
      ],
      "text/plain": [
       "\u001b[36m  PSO(f::Function, population, k_max; w=1, c1=1, c2=1)\u001b[39m\n",
       "\u001b[36m  PSO(logger::Logbook, f::Function, population, k_max; w=1, c1=1, c2=1)\u001b[39m\n",
       "\n",
       "\u001b[1m  Arguments\u001b[22m\n",
       "\u001b[1m  ===========\u001b[22m\n",
       "\n",
       "    •  \u001b[36mf::Function\u001b[39m: Objective function to minimise\n",
       "\n",
       "    •  \u001b[36mpopulation\u001b[39m: Population—a list of \u001b[36mParticle\u001b[39m individuals\n",
       "\n",
       "    •  \u001b[36mk_max\u001b[39m: maximum iterations\n",
       "\n",
       "    •  \u001b[36mw\u001b[39m: Inertia weight. Optional, by default 1.\n",
       "\n",
       "    •  \u001b[36mc1\u001b[39m: Cognitive coefficient (my position). Optional, by default 1\n",
       "\n",
       "    •  \u001b[36mc2\u001b[39m: Social coefficient (swarm position). Optional, by default 1\n",
       "\n",
       "  Returns a 2-tuple of the form \u001b[36m(best, pop)\u001b[39m of the best individual and the\n",
       "  population."
      ]
     },
     "metadata": {},
     "output_type": "display_data"
    }
   ],
   "source": [
    "@doc PSO"
   ]
  },
  {
   "cell_type": "code",
   "execution_count": 8,
   "metadata": {},
   "outputs": [],
   "source": [
    "results = PSO(logbook, michalewicz, population, 30);"
   ]
  },
  {
   "cell_type": "markdown",
   "metadata": {},
   "source": [
    "The output was suppressed so that we can analyse each part of the result separately:"
   ]
  },
  {
   "cell_type": "code",
   "execution_count": 9,
   "metadata": {},
   "outputs": [
    {
     "name": "stdout",
     "output_type": "stream",
     "text": [
      "optimum(results) = -1.8011103520193907\n",
      "optimizer(results) = Particle([2.197333595684975, 1.4946759855337437], [0.019607350091761875, 0.05508442482093267], [2.1995755202002747, 1.570227211271397])\n",
      "iterations(results) = 30\n",
      "f_calls(results) = 4601\n"
     ]
    }
   ],
   "source": [
    "@show optimum(results)\n",
    "\n",
    "@show optimizer(results)\n",
    "\n",
    "@show iterations(results)\n",
    "@show f_calls(results);"
   ]
  },
  {
   "cell_type": "markdown",
   "metadata": {},
   "source": [
    "We can also take a look at the logbook's records and see how the statistics we calculated changed throughout the run:"
   ]
  },
  {
   "cell_type": "code",
   "execution_count": 10,
   "metadata": {},
   "outputs": [
    {
     "name": "stdout",
     "output_type": "stream",
     "text": [
      "it: 1 with best_pos: -0.9950328621227564 and avg_pos: -0.05688074065604775 \n",
      "it: 2 with best_pos: -0.9950328621227564 and avg_pos: -0.2054184439259217 \n",
      "it: 3 with best_pos: -1.0697421060414731 and avg_pos: -0.3718085795996275 \n",
      "it: 4 with best_pos: -1.0269660757864598 and avg_pos: -0.3598328811184197 \n",
      "it: 5 with best_pos: -1.4953648447320096 and avg_pos: -0.5371281044335379 \n",
      "it: 6 with best_pos: -1.7977204786529999 and avg_pos: -0.7507054916270728 \n",
      "it: 7 with best_pos: -1.7195429116921637 and avg_pos: -0.6781041804959455 \n",
      "it: 8 with best_pos: -1.7870737803352394 and avg_pos: -0.7335382328919142 \n",
      "it: 9 with best_pos: -1.788730534637112 and avg_pos: -0.7721986242033421 \n",
      "it: 10 with best_pos: -1.7559487255798822 and avg_pos: -0.6536669609135363 \n",
      "it: 11 with best_pos: -1.7988525589808428 and avg_pos: -0.8007520325240084 \n",
      "it: 12 with best_pos: -1.7978474397953377 and avg_pos: -0.683658333118904 \n",
      "it: 13 with best_pos: -1.760885834159173 and avg_pos: -0.6968742795317888 \n",
      "it: 14 with best_pos: -1.782982041567625 and avg_pos: -0.7737696206423772 \n",
      "it: 15 with best_pos: -1.7798976885621705 and avg_pos: -0.7154570940756666 \n",
      "it: 16 with best_pos: -1.7940934032280706 and avg_pos: -0.6961100629313398 \n",
      "it: 17 with best_pos: -1.7980305177479807 and avg_pos: -0.7122327768583342 \n",
      "it: 18 with best_pos: -1.7961682445162501 and avg_pos: -0.6544044914405477 \n",
      "it: 19 with best_pos: -1.8011103520193907 and avg_pos: -0.7833925895600834 \n",
      "it: 20 with best_pos: -1.799927308839874 and avg_pos: -0.668805793218416 \n",
      "it: 21 with best_pos: -1.8002136014226353 and avg_pos: -0.6000584804992883 \n",
      "it: 22 with best_pos: -1.7972116157415914 and avg_pos: -0.7120321247727841 \n",
      "it: 23 with best_pos: -1.7951907787535895 and avg_pos: -0.7318041882774386 \n",
      "it: 24 with best_pos: -1.796459452251003 and avg_pos: -0.5909385218939772 \n",
      "it: 25 with best_pos: -1.799881633704455 and avg_pos: -0.6038636752929407 \n",
      "it: 26 with best_pos: -1.7875356452350206 and avg_pos: -0.639535724460111 \n",
      "it: 27 with best_pos: -1.7853440472377495 and avg_pos: -0.6277631533027407 \n",
      "it: 28 with best_pos: -1.8001581992359914 and avg_pos: -0.6493288645206639 \n",
      "it: 29 with best_pos: -1.7697792293481154 and avg_pos: -0.6215465534637473 \n",
      "it: 30 with best_pos: -1.7931787599935696 and avg_pos: -0.6406849675545859 \n"
     ]
    }
   ],
   "source": [
    "for (i, I) in enumerate(logbook.records)\n",
    "    print(\"it: $(i) with best_pos: $(I[3]) and avg_pos: $(I[1]) \\n\")\n",
    "end"
   ]
  }
 ],
 "metadata": {
  "kernelspec": {
   "display_name": "Julia 1.8.3",
   "language": "julia",
   "name": "julia-1.8"
  },
  "language_info": {
   "file_extension": ".jl",
   "mimetype": "application/julia",
   "name": "julia",
   "version": "1.8.3"
  },
  "vscode": {
   "interpreter": {
    "hash": "916dbcbb3f70747c44a77c7bcd40155683ae19c65e1c03b4aa3499c5328201f1"
   }
  }
 },
 "nbformat": 4,
 "nbformat_minor": 2
}
