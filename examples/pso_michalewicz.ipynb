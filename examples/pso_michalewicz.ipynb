{
 "cells": [
  {
   "cell_type": "markdown",
   "metadata": {},
   "source": [
    "# Particle Swarm Optimisation"
   ]
  },
  {
   "cell_type": "markdown",
   "metadata": {},
   "source": [
    "This notebook showcases how to use the built-in Particle Swarm Optimisation (PSO) algorithm."
   ]
  },
  {
   "cell_type": "code",
   "execution_count": 31,
   "metadata": {},
   "outputs": [],
   "source": [
    "using EvoLP\n",
    "using Statistics\n",
    "using OrderedCollections"
   ]
  },
  {
   "cell_type": "markdown",
   "metadata": {},
   "source": [
    "For this example, we will use the Michalewicz function:"
   ]
  },
  {
   "cell_type": "code",
   "execution_count": 32,
   "metadata": {},
   "outputs": [
    {
     "data": {
      "text/latex": [
       "\\begin{verbatim}\n",
       "michalewicz(x; m=10)\n",
       "\\end{verbatim}\n",
       "The \\textbf{Michalewicz} function is a `d`-dimensional function with several steep valleys, where \\texttt{m} controls the steepness. \\texttt{m} is usually set at 10. For 2 dimensions, `x^* = [2.20, 1.57]`, with `f(x^*) = -1.8011`.\n",
       "\n",
       "``f(x) = -\\sum_{i=1}^{d}\\sin(x_i) \\sin^{2m}\\left(\\frac{ix_i^2}{\\pi}\\right)``\n"
      ],
      "text/markdown": [
       "```\n",
       "michalewicz(x; m=10)\n",
       "```\n",
       "\n",
       "The **Michalewicz** function is a `d`-dimensional function with several steep valleys, where `m` controls the steepness. `m` is usually set at 10. For 2 dimensions, `x^* = [2.20, 1.57]`, with `f(x^*) = -1.8011`.\n",
       "\n",
       "``\n",
       "f(x) = -\\sum_{i=1}^{d}\\sin(x_i) \\sin^{2m}\\left(\\frac{ix_i^2}{\\pi}\\right)\n",
       "``\n"
      ],
      "text/plain": [
       "\u001b[36m  michalewicz(x; m=10)\u001b[39m\n",
       "\n",
       "  The \u001b[1mMichalewicz\u001b[22m function is a \u001b[35md\u001b[39m-dimensional function with several steep\n",
       "  valleys, where \u001b[36mm\u001b[39m controls the steepness. \u001b[36mm\u001b[39m is usually set at 10. For 2\n",
       "  dimensions, \u001b[35mx^* = [2.20, 1.57]\u001b[39m, with \u001b[35mf(x^*) = -1.8011\u001b[39m.\n",
       "\n",
       "\u001b[35m  f(x) = -\\sum_{i=1}^{d}\\sin(x_i) \\sin^{2m}\\left(\\frac{ix_i^2}{\\pi}\\right)\u001b[39m"
      ]
     },
     "metadata": {},
     "output_type": "display_data"
    }
   ],
   "source": [
    "@doc michalewicz"
   ]
  },
  {
   "cell_type": "markdown",
   "metadata": {},
   "source": [
    "In this case we will use `d=2` and `m=10`, which is the default value implemented in EvoLP."
   ]
  },
  {
   "cell_type": "markdown",
   "metadata": {},
   "source": [
    "In PSO, we use _particles_. Each particle has a position and a velocity, and remembers the best position it has visited."
   ]
  },
  {
   "cell_type": "markdown",
   "metadata": {},
   "source": [
    "We can create a population of particles in multiple ways, but EvoLP provides 2 particle generators with random positions: either uniform or following a normal distribution.\n",
    "\n",
    "Let's use the normal generator:"
   ]
  },
  {
   "cell_type": "code",
   "execution_count": 33,
   "metadata": {},
   "outputs": [
    {
     "data": {
      "text/latex": [
       "\\begin{verbatim}\n",
       "normal_rand_particle_pop(n, μ, Σ; rng=Random.GLOBAL_RNG)\n",
       "\\end{verbatim}\n",
       "Generate a population of \\texttt{n} \\href{@ref}{\\texttt{Particle}} using a normal distribution with means \\texttt{μ}\\texttt{and covariance}Σ`.\n",
       "\n",
       "\\texttt{μ} expects a vector of length \\emph{l} (i.e. number of dimensions) while \\texttt{Σ} expects an \\emph{l x l} matrix of covariances.\n",
       "\n",
       "\\section{Examples}\n",
       "\\begin{verbatim}\n",
       "julia> normal_rand_particle_pop(3, [-1, -1], [1 0; 0 1])\n",
       "3-element Vector{Particle}:\n",
       " Particle([-2.3026589618390214, 0.25907687184121864], [0.0, 0.0], [-2.3026589618390214, 0.25907687184121864])\n",
       " Particle([-0.5118786279984703, -0.5948648935657292], [0.0, 0.0], [-0.5118786279984703, -0.5948648935657292])\n",
       " Particle([-1.3230210847731094, -1.6234307114658497], [0.0, 0.0], [-1.3230210847731094, -1.6234307114658497])\n",
       "\\end{verbatim}\n"
      ],
      "text/markdown": [
       "```\n",
       "normal_rand_particle_pop(n, μ, Σ; rng=Random.GLOBAL_RNG)\n",
       "```\n",
       "\n",
       "Generate a population of `n` [`Particle`](@ref) using a normal distribution with means `μ``and covariance`Σ`.\n",
       "\n",
       "`μ` expects a vector of length *l* (i.e. number of dimensions) while `Σ` expects an *l x l* matrix of covariances.\n",
       "\n",
       "# Examples\n",
       "\n",
       "```julia\n",
       "julia> normal_rand_particle_pop(3, [-1, -1], [1 0; 0 1])\n",
       "3-element Vector{Particle}:\n",
       " Particle([-2.3026589618390214, 0.25907687184121864], [0.0, 0.0], [-2.3026589618390214, 0.25907687184121864])\n",
       " Particle([-0.5118786279984703, -0.5948648935657292], [0.0, 0.0], [-0.5118786279984703, -0.5948648935657292])\n",
       " Particle([-1.3230210847731094, -1.6234307114658497], [0.0, 0.0], [-1.3230210847731094, -1.6234307114658497])\n",
       "```\n"
      ],
      "text/plain": [
       "\u001b[36m  normal_rand_particle_pop(n, μ, Σ; rng=Random.GLOBAL_RNG)\u001b[39m\n",
       "\n",
       "  Generate a population of \u001b[36mn\u001b[39m \u001b[36mParticle\u001b[39m using a normal distribution with means\n",
       "  \u001b[36mμ\u001b[39m\u001b[36mand covariance\u001b[39mΣ`.\n",
       "\n",
       "  \u001b[36mμ\u001b[39m expects a vector of length \u001b[4ml\u001b[24m (i.e. number of dimensions) while \u001b[36mΣ\u001b[39m expects\n",
       "  an \u001b[4ml x l\u001b[24m matrix of covariances.\n",
       "\n",
       "\u001b[1m  Examples\u001b[22m\n",
       "\u001b[1m  ≡≡≡≡≡≡≡≡≡≡\u001b[22m\n",
       "\n",
       "\u001b[36m  julia> normal_rand_particle_pop(3, [-1, -1], [1 0; 0 1])\u001b[39m\n",
       "\u001b[36m  3-element Vector{Particle}:\u001b[39m\n",
       "\u001b[36m   Particle([-2.3026589618390214, 0.25907687184121864], [0.0, 0.0], [-2.3026589618390214, 0.25907687184121864])\u001b[39m\n",
       "\u001b[36m   Particle([-0.5118786279984703, -0.5948648935657292], [0.0, 0.0], [-0.5118786279984703, -0.5948648935657292])\u001b[39m\n",
       "\u001b[36m   Particle([-1.3230210847731094, -1.6234307114658497], [0.0, 0.0], [-1.3230210847731094, -1.6234307114658497])\u001b[39m"
      ]
     },
     "metadata": {},
     "output_type": "display_data"
    }
   ],
   "source": [
    "@doc normal_rand_particle_pop"
   ]
  },
  {
   "cell_type": "code",
   "execution_count": 34,
   "metadata": {},
   "outputs": [
    {
     "data": {
      "text/plain": [
       "3-element Vector{Particle}:\n",
       " Particle([0.03927725570611182, -1.5409672086890238], [0.0, 0.0], [0.03927725570611182, -1.5409672086890238])\n",
       " Particle([0.7194563875235808, 0.41669123659493], [0.0, 0.0], [0.7194563875235808, 0.41669123659493])\n",
       " Particle([0.941528800148215, -1.0003522646667797], [0.0, 0.0], [0.941528800148215, -1.0003522646667797])"
      ]
     },
     "metadata": {},
     "output_type": "display_data"
    }
   ],
   "source": [
    "population = normal_rand_particle_pop(50, [0, 0], [1 0; 0 1])\n",
    "first(population, 3)"
   ]
  },
  {
   "cell_type": "markdown",
   "metadata": {},
   "source": [
    "Let's use the `Logbook` to save information about each iteration of the run:"
   ]
  },
  {
   "cell_type": "code",
   "execution_count": 35,
   "metadata": {},
   "outputs": [
    {
     "data": {
      "text/latex": [
       "\\begin{verbatim}\n",
       "Logbook(S::LittleDict)\n",
       "\\end{verbatim}\n",
       "A log for statistics intended for use on every iteration of an algorithm. The logbook is constructed from a \\texttt{LittleDict} ordered dictionary which maps stat names (strings) to callables, such that \\emph{statname} `i` can be computed from \\emph{callable} `i`.\n",
       "\n",
       "The resulting \\texttt{Logbook} contains:\n",
       "\n",
       "\\begin{itemize}\n",
       "\\item \\texttt{S::LittleDict}: The ordered dict of stat names and callables\n",
       "\n",
       "\n",
       "\\item \\texttt{records::AbstractVector}: A vector of NamedTuples where each field is a statistic.\n",
       "\n",
       "\\end{itemize}\n"
      ],
      "text/markdown": [
       "```\n",
       "Logbook(S::LittleDict)\n",
       "```\n",
       "\n",
       "A log for statistics intended for use on every iteration of an algorithm. The logbook is constructed from a `LittleDict` ordered dictionary which maps stat names (strings) to callables, such that *statname* `i` can be computed from *callable* `i`.\n",
       "\n",
       "The resulting `Logbook` contains:\n",
       "\n",
       "  * `S::LittleDict`: The ordered dict of stat names and callables\n",
       "  * `records::AbstractVector`: A vector of NamedTuples where each field is a statistic.\n"
      ],
      "text/plain": [
       "\u001b[36m  Logbook(S::LittleDict)\u001b[39m\n",
       "\n",
       "  A log for statistics intended for use on every iteration of an algorithm.\n",
       "  The logbook is constructed from a \u001b[36mLittleDict\u001b[39m ordered dictionary which maps\n",
       "  stat names (strings) to callables, such that \u001b[4mstatname\u001b[24m \u001b[35mi\u001b[39m can be computed from\n",
       "  \u001b[4mcallable\u001b[24m \u001b[35mi\u001b[39m.\n",
       "\n",
       "  The resulting \u001b[36mLogbook\u001b[39m contains:\n",
       "\n",
       "    •  \u001b[36mS::LittleDict\u001b[39m: The ordered dict of stat names and callables\n",
       "\n",
       "    •  \u001b[36mrecords::AbstractVector\u001b[39m: A vector of NamedTuples where each field\n",
       "       is a statistic."
      ]
     },
     "metadata": {},
     "output_type": "display_data"
    }
   ],
   "source": [
    "@doc Logbook"
   ]
  },
  {
   "cell_type": "code",
   "execution_count": 36,
   "metadata": {},
   "outputs": [
    {
     "data": {
      "text/plain": [
       "Logbook(LittleDict{AbstractString, Function, Vector{AbstractString}, Vector{Function}}(\"avg_fit\" => Statistics.mean, \"median_fit\" => Statistics.median, \"best_fit\" => minimum), NamedTuple{(:avg_fit, :median_fit, :best_fit)}[])"
      ]
     },
     "metadata": {},
     "output_type": "display_data"
    }
   ],
   "source": [
    "statnames = [\"avg_fit\", \"median_fit\", \"best_fit\"]\n",
    "callables = [mean, median, minimum]\n",
    "\n",
    "thedict = LittleDict(statnames, callables)\n",
    "logbook = Logbook(thedict)"
   ]
  },
  {
   "cell_type": "markdown",
   "metadata": {},
   "source": [
    "We can now use the built-in algorithm:"
   ]
  },
  {
   "cell_type": "code",
   "execution_count": 37,
   "metadata": {},
   "outputs": [
    {
     "data": {
      "text/latex": [
       "\\begin{verbatim}\n",
       "PSO(f, population, k_max; w=1, c1=1, c2=1)\n",
       "PSO(logger::Logbook, f, population, k_max; w=1, c1=1, c2=1)\n",
       "\\end{verbatim}\n",
       "\\subsection{Arguments}\n",
       "\\begin{itemize}\n",
       "\\item \\texttt{f::Function}: Objective function to \\textbf{minimise}.\n",
       "\n",
       "\n",
       "\\item \\texttt{population::Vector\\{Particle\\}}: a list of \\href{@ref}{\\texttt{Particle}} individuals.\n",
       "\n",
       "\n",
       "\\item \\texttt{k\\_max::Integer}: number of iterations.\n",
       "\n",
       "\\end{itemize}\n",
       "\\subsection{Keywords}\n",
       "\\begin{itemize}\n",
       "\\item \\texttt{w}: inertia weight. Optional, by default 1.\n",
       "\n",
       "\n",
       "\\item \\texttt{c1}: cognitive coefficient (own's position). Optional, by default 1.\n",
       "\n",
       "\n",
       "\\item \\texttt{c2}: social coefficient (others' position). Optional, by default 1.\n",
       "\n",
       "\\end{itemize}\n",
       "Returns a \\href{@ref}{\\texttt{Result}}.\n",
       "\n"
      ],
      "text/markdown": [
       "```\n",
       "PSO(f, population, k_max; w=1, c1=1, c2=1)\n",
       "PSO(logger::Logbook, f, population, k_max; w=1, c1=1, c2=1)\n",
       "```\n",
       "\n",
       "## Arguments\n",
       "\n",
       "  * `f::Function`: Objective function to **minimise**.\n",
       "  * `population::Vector{Particle}`: a list of [`Particle`](@ref) individuals.\n",
       "  * `k_max::Integer`: number of iterations.\n",
       "\n",
       "## Keywords\n",
       "\n",
       "  * `w`: inertia weight. Optional, by default 1.\n",
       "  * `c1`: cognitive coefficient (own's position). Optional, by default 1.\n",
       "  * `c2`: social coefficient (others' position). Optional, by default 1.\n",
       "\n",
       "Returns a [`Result`](@ref).\n"
      ],
      "text/plain": [
       "\u001b[36m  PSO(f, population, k_max; w=1, c1=1, c2=1)\u001b[39m\n",
       "\u001b[36m  PSO(logger::Logbook, f, population, k_max; w=1, c1=1, c2=1)\u001b[39m\n",
       "\n",
       "\u001b[1m  Arguments\u001b[22m\n",
       "\u001b[1m  ===========\u001b[22m\n",
       "\n",
       "    •  \u001b[36mf::Function\u001b[39m: Objective function to \u001b[1mminimise\u001b[22m.\n",
       "\n",
       "    •  \u001b[36mpopulation::Vector{Particle}\u001b[39m: a list of \u001b[36mParticle\u001b[39m individuals.\n",
       "\n",
       "    •  \u001b[36mk_max::Integer\u001b[39m: number of iterations.\n",
       "\n",
       "\u001b[1m  Keywords\u001b[22m\n",
       "\u001b[1m  ==========\u001b[22m\n",
       "\n",
       "    •  \u001b[36mw\u001b[39m: inertia weight. Optional, by default 1.\n",
       "\n",
       "    •  \u001b[36mc1\u001b[39m: cognitive coefficient (own's position). Optional, by default\n",
       "       1.\n",
       "\n",
       "    •  \u001b[36mc2\u001b[39m: social coefficient (others' position). Optional, by default 1.\n",
       "\n",
       "  Returns a \u001b[36mResult\u001b[39m."
      ]
     },
     "metadata": {},
     "output_type": "display_data"
    }
   ],
   "source": [
    "@doc PSO"
   ]
  },
  {
   "cell_type": "code",
   "execution_count": 38,
   "metadata": {},
   "outputs": [],
   "source": [
    "results = PSO(logbook, michalewicz, population, 30);"
   ]
  },
  {
   "cell_type": "markdown",
   "metadata": {},
   "source": [
    "The output was suppressed so that we can analyse each part of the result separately:"
   ]
  },
  {
   "cell_type": "code",
   "execution_count": 39,
   "metadata": {},
   "outputs": [
    {
     "name": "stdout",
     "output_type": "stream",
     "text": [
      "optimum(results) = -1.8012777065081398\n",
      "optimizer(results) = Particle([2.1941369557532604, 1.577623088106274], [7.589188430026585e-5, 0.027062528403300177], [2.2031120352369147, 1.5715819746382012])\n",
      "iterations(results) = 30\n",
      "f_calls(results) = 4601\n"
     ]
    }
   ],
   "source": [
    "@show optimum(results)\n",
    "\n",
    "@show optimizer(results)\n",
    "\n",
    "@show iterations(results)\n",
    "@show f_calls(results);"
   ]
  },
  {
   "cell_type": "markdown",
   "metadata": {},
   "source": [
    "We can also take a look at the logbook's records and see how the statistics we calculated changed throughout the run:"
   ]
  },
  {
   "cell_type": "code",
   "execution_count": 40,
   "metadata": {},
   "outputs": [
    {
     "name": "stdout",
     "output_type": "stream",
     "text": [
      "it: 1 with best_pos: -0.8532613383506504 and avg_pos: 0.03473516241252558 \n",
      "it: 2 with best_pos: -0.9927048695636607 and avg_pos: -0.1577251683580324 \n",
      "it: 3 with best_pos: -0.9999295278808307 and avg_pos: -0.3167917408663068 \n",
      "it: 4 with best_pos: -1.253320908614812 and avg_pos: -0.2870204986951112 \n",
      "it: 5 with best_pos: -1.763451683540858 and avg_pos: -0.46763573875126246 \n",
      "it: 6 with best_pos: -1.7031359749076254 and avg_pos: -0.5481064225106334 \n",
      "it: 7 with best_pos: -1.663800749730735 and avg_pos: -0.5040449289429634 \n",
      "it: 8 with best_pos: -1.6025853335285132 and avg_pos: -0.5401496516608956 \n",
      "it: 9 with best_pos: -1.7999530006299724 and avg_pos: -0.6114323104205884 \n",
      "it: 10 with best_pos: -1.7896384145117228 and avg_pos: -0.545188966942549 \n",
      "it: 11 with best_pos: -1.716128254760954 and avg_pos: -0.6620877763680777 \n",
      "it: 12 with best_pos: -1.7853784586218633 and avg_pos: -0.733565723960469 \n",
      "it: 13 with best_pos: -1.7937551111658312 and avg_pos: -0.5999299680270959 \n",
      "it: 14 with best_pos: -1.791959099479254 and avg_pos: -0.5738263500210885 \n",
      "it: 15 with best_pos: -1.7924897105972684 and avg_pos: -0.6994975731660837 \n",
      "it: 16 with best_pos: -1.790240464413683 and avg_pos: -0.6049068309454975 \n",
      "it: 17 with best_pos: -1.7741781999569306 and avg_pos: -0.47333348697221483 \n",
      "it: 18 with best_pos: -1.8012777065081398 and avg_pos: -0.6642540142551395 \n",
      "it: 19 with best_pos: -1.7996632024000108 and avg_pos: -0.5718780081757603 \n",
      "it: 20 with best_pos: -1.7813006772046536 and avg_pos: -0.622732849315557 \n",
      "it: 21 with best_pos: -1.797155480514784 and avg_pos: -0.6094161596455863 \n",
      "it: 22 with best_pos: -1.797967851450788 and avg_pos: -0.5726796727588394 \n",
      "it: 23 with best_pos: -1.7882339296950374 and avg_pos: -0.5271867801313743 \n",
      "it: 24 with best_pos: -1.7715268103343687 and avg_pos: -0.6444971415154903 \n",
      "it: 25 with best_pos: -1.7790711560090893 and avg_pos: -0.5371454270043741 \n",
      "it: 26 with best_pos: -1.7814762476318253 and avg_pos: -0.620193953533152 \n",
      "it: 27 with best_pos: -1.7951984704861412 and avg_pos: -0.5603595693495858 \n",
      "it: 28 with best_pos: -1.7950903837321137 and avg_pos: -0.6592311376482715 \n",
      "it: 29 with best_pos: -1.780523438277754 and avg_pos: -0.5072362874067683 \n",
      "it: 30 with best_pos: -1.7981656057693323 and avg_pos: -0.5597594828694971 \n"
     ]
    }
   ],
   "source": [
    "for (i, I) in enumerate(logbook.records)\n",
    "    print(\"it: $(i) with best_pos: $(I[3]) and avg_pos: $(I[1]) \\n\")\n",
    "end"
   ]
  }
 ],
 "metadata": {
  "kernelspec": {
   "display_name": "Julia 1.8.3",
   "language": "julia",
   "name": "julia-1.8"
  },
  "language_info": {
   "file_extension": ".jl",
   "mimetype": "application/julia",
   "name": "julia",
   "version": "1.8.3"
  },
  "vscode": {
   "interpreter": {
    "hash": "916dbcbb3f70747c44a77c7bcd40155683ae19c65e1c03b4aa3499c5328201f1"
   }
  }
 },
 "nbformat": 4,
 "nbformat_minor": 2
}
