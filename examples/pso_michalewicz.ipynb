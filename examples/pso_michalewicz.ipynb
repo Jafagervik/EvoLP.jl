{
 "cells": [
  {
   "attachments": {},
   "cell_type": "markdown",
   "metadata": {},
   "source": [
    "# Particle Swarm Optimisation"
   ]
  },
  {
   "attachments": {},
   "cell_type": "markdown",
   "metadata": {},
   "source": [
    "This notebook showcases how to use the built-in Particle Swarm Optimisation (PSO) algorithm."
   ]
  },
  {
   "cell_type": "code",
   "execution_count": 1,
   "metadata": {},
   "outputs": [],
   "source": [
    "using EvoLP\n",
    "using Statistics\n",
    "using OrderedCollections"
   ]
  },
  {
   "attachments": {},
   "cell_type": "markdown",
   "metadata": {},
   "source": [
    "For this example, we will use the Michalewicz function:"
   ]
  },
  {
   "cell_type": "code",
   "execution_count": 2,
   "metadata": {},
   "outputs": [
    {
     "data": {
      "text/latex": [
       "\\begin{verbatim}\n",
       "michalewicz(x; m=10)\n",
       "\\end{verbatim}\n",
       "The \\textbf{Michalewicz} function is a $d$-dimensional function with several steep valleys, where \\texttt{m} controls the steepness. \\texttt{m} is usually set at 10. For 2 dimensions, $x^* = [2.20, 1.57]$, with $f(x^*) = -1.8011$.\n",
       "\n",
       "$$f(x) = -\\sum_{i=1}^{d}\\sin(x_i) \\sin^{2m}\\left(\\frac{ix_i^2}{\\pi}\\right)$$\n"
      ],
      "text/markdown": [
       "```\n",
       "michalewicz(x; m=10)\n",
       "```\n",
       "\n",
       "The **Michalewicz** function is a $d$-dimensional function with several steep valleys, where `m` controls the steepness. `m` is usually set at 10. For 2 dimensions, $x^* = [2.20, 1.57]$, with $f(x^*) = -1.8011$.\n",
       "\n",
       "$$\n",
       "f(x) = -\\sum_{i=1}^{d}\\sin(x_i) \\sin^{2m}\\left(\\frac{ix_i^2}{\\pi}\\right)\n",
       "$$\n"
      ],
      "text/plain": [
       "\u001b[36m  michalewicz(x; m=10)\u001b[39m\n",
       "\n",
       "  The \u001b[1mMichalewicz\u001b[22m function is a \u001b[35md\u001b[39m-dimensional function with several steep\n",
       "  valleys, where \u001b[36mm\u001b[39m controls the steepness. \u001b[36mm\u001b[39m is usually set at 10. For 2\n",
       "  dimensions, \u001b[35mx^* = [2.20, 1.57]\u001b[39m, with \u001b[35mf(x^*) = -1.8011\u001b[39m.\n",
       "\n",
       "\u001b[35m  f(x) = -\\sum_{i=1}^{d}\\sin(x_i) \\sin^{2m}\\left(\\frac{ix_i^2}{\\pi}\\right)\u001b[39m"
      ]
     },
     "metadata": {},
     "output_type": "display_data"
    }
   ],
   "source": [
    "@doc michalewicz"
   ]
  },
  {
   "attachments": {},
   "cell_type": "markdown",
   "metadata": {},
   "source": [
    "In this case we will use `d=2` and `m=10`, which is the default value implemented in EvoLP."
   ]
  },
  {
   "attachments": {},
   "cell_type": "markdown",
   "metadata": {},
   "source": [
    "In PSO, we use _particles_. Each particle has a position and a velocity, and remembers the best position it has visited."
   ]
  },
  {
   "attachments": {},
   "cell_type": "markdown",
   "metadata": {},
   "source": [
    "We can create a population of particles in multiple ways, but EvoLP provides 2 particle generators with random positions: either uniform or following a normal distribution.\n",
    "\n",
    "Let's use the normal generator:"
   ]
  },
  {
   "cell_type": "code",
   "execution_count": 3,
   "metadata": {},
   "outputs": [
    {
     "data": {
      "text/latex": [
       "\\begin{verbatim}\n",
       "normal_rand_particle_pop(n, μ, Σ; rng=Random.GLOBAL_RNG)\n",
       "\\end{verbatim}\n",
       "Generate a population of \\texttt{n} \\href{@ref}{\\texttt{Particle}} using a normal distribution with means \\texttt{μ}\\texttt{and covariance}Σ`.\n",
       "\n",
       "\\texttt{μ} expects a vector of length \\emph{l} (i.e. number of dimensions) while \\texttt{Σ} expects an \\emph{l x l} matrix of covariances.\n",
       "\n",
       "\\section{Examples}\n",
       "\\begin{verbatim}\n",
       "julia> normal_rand_particle_pop(3, [0, 0], [1 0; 0 1])\n",
       "3-element Vector{Particle}:\n",
       " Particle([-0.6025996585348097, -1.0055548956861133], [0.0, 0.0], Inf, [-0.6025996585348097, -1.0055548956861133], Inf)\n",
       " Particle([-0.7562454555135321, 1.9490439959687778], [0.0, 0.0], Inf, [-0.7562454555135321, 1.9490439959687778], Inf)\n",
       " Particle([0.5687241357408321, -0.7406267072113427], [0.0, 0.0], Inf, [0.5687241357408321, -0.7406267072113427], Inf)\n",
       "\\end{verbatim}\n"
      ],
      "text/markdown": [
       "```\n",
       "normal_rand_particle_pop(n, μ, Σ; rng=Random.GLOBAL_RNG)\n",
       "```\n",
       "\n",
       "Generate a population of `n` [`Particle`](@ref) using a normal distribution with means `μ``and covariance`Σ`.\n",
       "\n",
       "`μ` expects a vector of length *l* (i.e. number of dimensions) while `Σ` expects an *l x l* matrix of covariances.\n",
       "\n",
       "# Examples\n",
       "\n",
       "```julia\n",
       "julia> normal_rand_particle_pop(3, [0, 0], [1 0; 0 1])\n",
       "3-element Vector{Particle}:\n",
       " Particle([-0.6025996585348097, -1.0055548956861133], [0.0, 0.0], Inf, [-0.6025996585348097, -1.0055548956861133], Inf)\n",
       " Particle([-0.7562454555135321, 1.9490439959687778], [0.0, 0.0], Inf, [-0.7562454555135321, 1.9490439959687778], Inf)\n",
       " Particle([0.5687241357408321, -0.7406267072113427], [0.0, 0.0], Inf, [0.5687241357408321, -0.7406267072113427], Inf)\n",
       "```\n"
      ],
      "text/plain": [
       "\u001b[36m  normal_rand_particle_pop(n, μ, Σ; rng=Random.GLOBAL_RNG)\u001b[39m\n",
       "\n",
       "  Generate a population of \u001b[36mn\u001b[39m \u001b[36mParticle\u001b[39m using a normal distribution with means\n",
       "  \u001b[36mμ\u001b[39m\u001b[36mand covariance\u001b[39mΣ`.\n",
       "\n",
       "  \u001b[36mμ\u001b[39m expects a vector of length \u001b[4ml\u001b[24m (i.e. number of dimensions) while \u001b[36mΣ\u001b[39m expects\n",
       "  an \u001b[4ml x l\u001b[24m matrix of covariances.\n",
       "\n",
       "\u001b[1m  Examples\u001b[22m\n",
       "\u001b[1m  ≡≡≡≡≡≡≡≡≡≡\u001b[22m\n",
       "\n",
       "\u001b[36m  julia> normal_rand_particle_pop(3, [0, 0], [1 0; 0 1])\u001b[39m\n",
       "\u001b[36m  3-element Vector{Particle}:\u001b[39m\n",
       "\u001b[36m   Particle([-0.6025996585348097, -1.0055548956861133], [0.0, 0.0], Inf, [-0.6025996585348097, -1.0055548956861133], Inf)\u001b[39m\n",
       "\u001b[36m   Particle([-0.7562454555135321, 1.9490439959687778], [0.0, 0.0], Inf, [-0.7562454555135321, 1.9490439959687778], Inf)\u001b[39m\n",
       "\u001b[36m   Particle([0.5687241357408321, -0.7406267072113427], [0.0, 0.0], Inf, [0.5687241357408321, -0.7406267072113427], Inf)\u001b[39m"
      ]
     },
     "metadata": {},
     "output_type": "display_data"
    }
   ],
   "source": [
    "@doc normal_rand_particle_pop"
   ]
  },
  {
   "cell_type": "code",
   "execution_count": 4,
   "metadata": {},
   "outputs": [
    {
     "data": {
      "text/plain": [
       "3-element Vector{Particle}:\n",
       " Particle([-0.1290950189447983, 0.3501210500290379], [0.0, 0.0], Inf, [-0.1290950189447983, 0.3501210500290379], Inf)\n",
       " Particle([1.4975284747195907, -0.29564202794924843], [0.0, 0.0], Inf, [1.4975284747195907, -0.29564202794924843], Inf)\n",
       " Particle([-0.9245723438152627, 0.2860461202845279], [0.0, 0.0], Inf, [-0.9245723438152627, 0.2860461202845279], Inf)"
      ]
     },
     "metadata": {},
     "output_type": "display_data"
    }
   ],
   "source": [
    "population = normal_rand_particle_pop(50, [0, 0], [1 0; 0 1])\n",
    "first(population, 3)"
   ]
  },
  {
   "attachments": {},
   "cell_type": "markdown",
   "metadata": {},
   "source": [
    "Let's use the `Logbook` to save information about each iteration of the run:"
   ]
  },
  {
   "cell_type": "code",
   "execution_count": 5,
   "metadata": {},
   "outputs": [
    {
     "data": {
      "text/latex": [
       "\\begin{verbatim}\n",
       "Logbook()\n",
       "Logbook(S::LittleDict)\n",
       "\\end{verbatim}\n",
       "A log for statistics intended for use on every iteration of an algorithm. The logbook is constructed from a \\texttt{LittleDict} ordered dictionary which maps stat names (strings) to callables, such that \\emph{statname} $i$ can be computed from \\emph{callable} $i$.\n",
       "\n",
       "The resulting \\texttt{Logbook} contains:\n",
       "\n",
       "\\begin{itemize}\n",
       "\\item \\texttt{S::LittleDict}: The ordered dict of stat names and callables\n",
       "\n",
       "\n",
       "\\item \\texttt{records::AbstractVector}: A vector of NamedTuples where each field is a statistic.\n",
       "\n",
       "\\end{itemize}\n",
       "If no argument is passed, the logbook is constructed with a set of commonly statistics such as minimum, mean, median, maximum and standard deviation; in that order.\n",
       "\n"
      ],
      "text/markdown": [
       "```\n",
       "Logbook()\n",
       "Logbook(S::LittleDict)\n",
       "```\n",
       "\n",
       "A log for statistics intended for use on every iteration of an algorithm. The logbook is constructed from a `LittleDict` ordered dictionary which maps stat names (strings) to callables, such that *statname* $i$ can be computed from *callable* $i$.\n",
       "\n",
       "The resulting `Logbook` contains:\n",
       "\n",
       "  * `S::LittleDict`: The ordered dict of stat names and callables\n",
       "  * `records::AbstractVector`: A vector of NamedTuples where each field is a statistic.\n",
       "\n",
       "If no argument is passed, the logbook is constructed with a set of commonly statistics such as minimum, mean, median, maximum and standard deviation; in that order.\n"
      ],
      "text/plain": [
       "\u001b[36m  Logbook()\u001b[39m\n",
       "\u001b[36m  Logbook(S::LittleDict)\u001b[39m\n",
       "\n",
       "  A log for statistics intended for use on every iteration of an algorithm.\n",
       "  The logbook is constructed from a \u001b[36mLittleDict\u001b[39m ordered dictionary which maps\n",
       "  stat names (strings) to callables, such that \u001b[4mstatname\u001b[24m \u001b[35mi\u001b[39m can be computed from\n",
       "  \u001b[4mcallable\u001b[24m \u001b[35mi\u001b[39m.\n",
       "\n",
       "  The resulting \u001b[36mLogbook\u001b[39m contains:\n",
       "\n",
       "    •  \u001b[36mS::LittleDict\u001b[39m: The ordered dict of stat names and callables\n",
       "\n",
       "    •  \u001b[36mrecords::AbstractVector\u001b[39m: A vector of NamedTuples where each field\n",
       "       is a statistic.\n",
       "\n",
       "  If no argument is passed, the logbook is constructed with a set of commonly\n",
       "  statistics such as minimum, mean, median, maximum and standard deviation; in\n",
       "  that order."
      ]
     },
     "metadata": {},
     "output_type": "display_data"
    }
   ],
   "source": [
    "@doc Logbook"
   ]
  },
  {
   "cell_type": "code",
   "execution_count": 6,
   "metadata": {},
   "outputs": [
    {
     "data": {
      "text/plain": [
       "Logbook(LittleDict{AbstractString, Function, Vector{AbstractString}, Vector{Function}}(\"avg_fit\" => Statistics.mean, \"median_fit\" => Statistics.median, \"best_fit\" => minimum), NamedTuple{(:avg_fit, :median_fit, :best_fit)}[])"
      ]
     },
     "metadata": {},
     "output_type": "display_data"
    }
   ],
   "source": [
    "statnames = [\"avg_fit\", \"median_fit\", \"best_fit\"]\n",
    "callables = [mean, median, minimum]\n",
    "\n",
    "thedict = LittleDict(statnames, callables)\n",
    "logbook = Logbook(thedict)"
   ]
  },
  {
   "attachments": {},
   "cell_type": "markdown",
   "metadata": {},
   "source": [
    "We can now use the built-in algorithm:"
   ]
  },
  {
   "cell_type": "code",
   "execution_count": 7,
   "metadata": {},
   "outputs": [
    {
     "data": {
      "text/latex": [
       "\\begin{verbatim}\n",
       "PSO(f, population, k_max; w=1, c1=1, c2=1)\n",
       "PSO(logger::Logbook, f, population, k_max; w=1, c1=1, c2=1)\n",
       "\\end{verbatim}\n",
       "\\subsection{Arguments}\n",
       "\\begin{itemize}\n",
       "\\item \\texttt{f::Function}: Objective function to \\textbf{minimise}.\n",
       "\n",
       "\n",
       "\\item \\texttt{population::Vector\\{Particle\\}}: a list of \\href{@ref}{\\texttt{Particle}} individuals.\n",
       "\n",
       "\n",
       "\\item \\texttt{k\\_max::Integer}: number of iterations.\n",
       "\n",
       "\\end{itemize}\n",
       "\\subsection{Keywords}\n",
       "\\begin{itemize}\n",
       "\\item \\texttt{w}: inertia weight. Optional, by default 1.\n",
       "\n",
       "\n",
       "\\item \\texttt{c1}: cognitive coefficient (own's position). Optional, by default 1.\n",
       "\n",
       "\n",
       "\\item \\texttt{c2}: social coefficient (others' position). Optional, by default 1.\n",
       "\n",
       "\\end{itemize}\n",
       "Returns a \\href{@ref}{\\texttt{Result}}.\n",
       "\n"
      ],
      "text/markdown": [
       "```\n",
       "PSO(f, population, k_max; w=1, c1=1, c2=1)\n",
       "PSO(logger::Logbook, f, population, k_max; w=1, c1=1, c2=1)\n",
       "```\n",
       "\n",
       "## Arguments\n",
       "\n",
       "  * `f::Function`: Objective function to **minimise**.\n",
       "  * `population::Vector{Particle}`: a list of [`Particle`](@ref) individuals.\n",
       "  * `k_max::Integer`: number of iterations.\n",
       "\n",
       "## Keywords\n",
       "\n",
       "  * `w`: inertia weight. Optional, by default 1.\n",
       "  * `c1`: cognitive coefficient (own's position). Optional, by default 1.\n",
       "  * `c2`: social coefficient (others' position). Optional, by default 1.\n",
       "\n",
       "Returns a [`Result`](@ref).\n"
      ],
      "text/plain": [
       "\u001b[36m  PSO(f, population, k_max; w=1, c1=1, c2=1)\u001b[39m\n",
       "\u001b[36m  PSO(logger::Logbook, f, population, k_max; w=1, c1=1, c2=1)\u001b[39m\n",
       "\n",
       "\u001b[1m  Arguments\u001b[22m\n",
       "\u001b[1m  ===========\u001b[22m\n",
       "\n",
       "    •  \u001b[36mf::Function\u001b[39m: Objective function to \u001b[1mminimise\u001b[22m.\n",
       "\n",
       "    •  \u001b[36mpopulation::Vector{Particle}\u001b[39m: a list of \u001b[36mParticle\u001b[39m individuals.\n",
       "\n",
       "    •  \u001b[36mk_max::Integer\u001b[39m: number of iterations.\n",
       "\n",
       "\u001b[1m  Keywords\u001b[22m\n",
       "\u001b[1m  ==========\u001b[22m\n",
       "\n",
       "    •  \u001b[36mw\u001b[39m: inertia weight. Optional, by default 1.\n",
       "\n",
       "    •  \u001b[36mc1\u001b[39m: cognitive coefficient (own's position). Optional, by default\n",
       "       1.\n",
       "\n",
       "    •  \u001b[36mc2\u001b[39m: social coefficient (others' position). Optional, by default 1.\n",
       "\n",
       "  Returns a \u001b[36mResult\u001b[39m."
      ]
     },
     "metadata": {},
     "output_type": "display_data"
    }
   ],
   "source": [
    "@doc PSO"
   ]
  },
  {
   "cell_type": "code",
   "execution_count": 8,
   "metadata": {},
   "outputs": [],
   "source": [
    "results = PSO(logbook, michalewicz, population, 30);"
   ]
  },
  {
   "attachments": {},
   "cell_type": "markdown",
   "metadata": {},
   "source": [
    "The output was suppressed so that we can analyse each part of the result separately:"
   ]
  },
  {
   "cell_type": "code",
   "execution_count": 9,
   "metadata": {},
   "outputs": [
    {
     "name": "stdout",
     "output_type": "stream",
     "text": [
      "optimum(results) = -1.8012909805009536\n",
      "optimizer(results) = "
     ]
    },
    {
     "name": "stdout",
     "output_type": "stream",
     "text": [
      "[2.2020691613746304, 1.5706341549186813]\n",
      "iterations(results) = 30\n",
      "f_calls(results) = 1550\n"
     ]
    }
   ],
   "source": [
    "@show optimum(results)\n",
    "\n",
    "@show optimizer(results)\n",
    "\n",
    "@show iterations(results)\n",
    "@show f_calls(results);"
   ]
  },
  {
   "attachments": {},
   "cell_type": "markdown",
   "metadata": {},
   "source": [
    "We can also take a look at the logbook's records and see how the statistics we calculated changed throughout the run:"
   ]
  },
  {
   "cell_type": "code",
   "execution_count": 14,
   "metadata": {},
   "outputs": [
    {
     "name": "stdout",
     "output_type": "stream",
     "text": [
      "iteration: end-0 with best_pos: -1.800603898924665 and avg_pos: -0.5390680730400352 \n",
      "iteration: end-1 with best_pos: -1.8012909805009536 and avg_pos: -0.5579480641388794 \n",
      "iteration: end-2 with best_pos: -1.8007014593612416 and avg_pos: -0.4999215009701753 \n",
      "iteration: end-3 with best_pos: -1.8009863448728947 and avg_pos: -0.5064147295304965 \n",
      "iteration: end-4 with best_pos: -1.801223803629051 and avg_pos: -0.568827195140446 \n",
      "iteration: end-5 with best_pos: -1.8007807467177979 and avg_pos: -0.6327865064430491 \n"
     ]
    }
   ],
   "source": [
    "for (i, I) in enumerate(logbook.records[end:-1:25])\n",
    "    print(\"iteration: end-$(i-1) with best_pos: $(I[3]) and avg_pos: $(I[1]) \\n\")\n",
    "end"
   ]
  }
 ],
 "metadata": {
  "kernelspec": {
   "display_name": "Julia 1.9.2",
   "language": "julia",
   "name": "julia-1.9"
  },
  "language_info": {
   "file_extension": ".jl",
   "mimetype": "application/julia",
   "name": "julia",
   "version": "1.9.2"
  },
  "vscode": {
   "interpreter": {
    "hash": "916dbcbb3f70747c44a77c7bcd40155683ae19c65e1c03b4aa3499c5328201f1"
   }
  }
 },
 "nbformat": 4,
 "nbformat_minor": 2
}
