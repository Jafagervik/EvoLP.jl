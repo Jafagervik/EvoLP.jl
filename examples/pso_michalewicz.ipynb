{
 "cells": [
  {
   "attachments": {},
   "cell_type": "markdown",
   "metadata": {},
   "source": [
    "# Particle Swarm Optimisation"
   ]
  },
  {
   "attachments": {},
   "cell_type": "markdown",
   "metadata": {},
   "source": [
    "This notebook showcases how to use the built-in Particle Swarm Optimisation (PSO) algorithm."
   ]
  },
  {
   "cell_type": "code",
   "execution_count": 11,
   "metadata": {},
   "outputs": [],
   "source": [
    "using EvoLP\n",
    "using Statistics\n",
    "using OrderedCollections"
   ]
  },
  {
   "attachments": {},
   "cell_type": "markdown",
   "metadata": {},
   "source": [
    "For this example, we will use the Michalewicz function:"
   ]
  },
  {
   "cell_type": "code",
   "execution_count": 12,
   "metadata": {},
   "outputs": [
    {
     "data": {
      "text/latex": [
       "\\begin{verbatim}\n",
       "michalewicz(x; m=10)\n",
       "\\end{verbatim}\n",
       "The \\textbf{Michalewicz} function is a $d$-dimensional function with several steep valleys, where \\texttt{m} controls the steepness. \\texttt{m} is usually set at 10. For 2 dimensions, $x^* = [2.20, 1.57]$, with $f(x^*) = -1.8011$.\n",
       "\n",
       "$$f(x) = -\\sum_{i=1}^{d}\\sin(x_i) \\sin^{2m}\\left(\\frac{ix_i^2}{\\pi}\\right)$$\n"
      ],
      "text/markdown": [
       "```\n",
       "michalewicz(x; m=10)\n",
       "```\n",
       "\n",
       "The **Michalewicz** function is a $d$-dimensional function with several steep valleys, where `m` controls the steepness. `m` is usually set at 10. For 2 dimensions, $x^* = [2.20, 1.57]$, with $f(x^*) = -1.8011$.\n",
       "\n",
       "$$\n",
       "f(x) = -\\sum_{i=1}^{d}\\sin(x_i) \\sin^{2m}\\left(\\frac{ix_i^2}{\\pi}\\right)\n",
       "$$\n"
      ],
      "text/plain": [
       "\u001b[36m  michalewicz(x; m=10)\u001b[39m\n",
       "\n",
       "  The \u001b[1mMichalewicz\u001b[22m function is a \u001b[35md\u001b[39m-dimensional function with several steep\n",
       "  valleys, where \u001b[36mm\u001b[39m controls the steepness. \u001b[36mm\u001b[39m is usually set at 10. For 2\n",
       "  dimensions, \u001b[35mx^* = [2.20, 1.57]\u001b[39m, with \u001b[35mf(x^*) = -1.8011\u001b[39m.\n",
       "\n",
       "\u001b[35m  f(x) = -\\sum_{i=1}^{d}\\sin(x_i) \\sin^{2m}\\left(\\frac{ix_i^2}{\\pi}\\right)\u001b[39m"
      ]
     },
     "metadata": {},
     "output_type": "display_data"
    }
   ],
   "source": [
    "@doc michalewicz"
   ]
  },
  {
   "attachments": {},
   "cell_type": "markdown",
   "metadata": {},
   "source": [
    "In this case we will use `d=2` and `m=10`, which is the default value implemented in EvoLP."
   ]
  },
  {
   "attachments": {},
   "cell_type": "markdown",
   "metadata": {},
   "source": [
    "In PSO, we use _particles_. Each particle has a position and a velocity, and remembers the best position it has visited."
   ]
  },
  {
   "attachments": {},
   "cell_type": "markdown",
   "metadata": {},
   "source": [
    "We can create a population of particles in multiple ways, but EvoLP provides 2 particle generators with random positions: either uniform or following a normal distribution.\n",
    "\n",
    "Let's use the normal generator:"
   ]
  },
  {
   "cell_type": "code",
   "execution_count": 13,
   "metadata": {},
   "outputs": [
    {
     "data": {
      "text/latex": [
       "\\begin{verbatim}\n",
       "normal_rand_particle_pop(n, μ, Σ; rng=Random.GLOBAL_RNG)\n",
       "\\end{verbatim}\n",
       "Generate a population of \\texttt{n} \\href{@ref}{\\texttt{Particle}} using a normal distribution with means \\texttt{μ}\\texttt{and covariance}Σ`.\n",
       "\n",
       "\\texttt{μ} expects a vector of length \\emph{l} (i.e. number of dimensions) while \\texttt{Σ} expects an \\emph{l x l} matrix of covariances.\n",
       "\n",
       "\\section{Examples}\n",
       "\\begin{verbatim}\n",
       "julia> normal_rand_particle_pop(3, [0, 0], [1 0; 0 1])\n",
       "3-element Vector{Particle}:\n",
       " Particle([-0.6025996585348097, -1.0055548956861133], [0.0, 0.0], Inf, [-0.6025996585348097, -1.0055548956861133], Inf)\n",
       " Particle([-0.7562454555135321, 1.9490439959687778], [0.0, 0.0], Inf, [-0.7562454555135321, 1.9490439959687778], Inf)\n",
       " Particle([0.5687241357408321, -0.7406267072113427], [0.0, 0.0], Inf, [0.5687241357408321, -0.7406267072113427], Inf)\n",
       "\\end{verbatim}\n"
      ],
      "text/markdown": [
       "```\n",
       "normal_rand_particle_pop(n, μ, Σ; rng=Random.GLOBAL_RNG)\n",
       "```\n",
       "\n",
       "Generate a population of `n` [`Particle`](@ref) using a normal distribution with means `μ``and covariance`Σ`.\n",
       "\n",
       "`μ` expects a vector of length *l* (i.e. number of dimensions) while `Σ` expects an *l x l* matrix of covariances.\n",
       "\n",
       "# Examples\n",
       "\n",
       "```julia\n",
       "julia> normal_rand_particle_pop(3, [0, 0], [1 0; 0 1])\n",
       "3-element Vector{Particle}:\n",
       " Particle([-0.6025996585348097, -1.0055548956861133], [0.0, 0.0], Inf, [-0.6025996585348097, -1.0055548956861133], Inf)\n",
       " Particle([-0.7562454555135321, 1.9490439959687778], [0.0, 0.0], Inf, [-0.7562454555135321, 1.9490439959687778], Inf)\n",
       " Particle([0.5687241357408321, -0.7406267072113427], [0.0, 0.0], Inf, [0.5687241357408321, -0.7406267072113427], Inf)\n",
       "```\n"
      ],
      "text/plain": [
       "\u001b[36m  normal_rand_particle_pop(n, μ, Σ; rng=Random.GLOBAL_RNG)\u001b[39m\n",
       "\n",
       "  Generate a population of \u001b[36mn\u001b[39m \u001b[36mParticle\u001b[39m using a normal distribution with means\n",
       "  \u001b[36mμ\u001b[39m\u001b[36mand covariance\u001b[39mΣ`.\n",
       "\n",
       "  \u001b[36mμ\u001b[39m expects a vector of length \u001b[4ml\u001b[24m (i.e. number of dimensions) while \u001b[36mΣ\u001b[39m expects\n",
       "  an \u001b[4ml x l\u001b[24m matrix of covariances.\n",
       "\n",
       "\u001b[1m  Examples\u001b[22m\n",
       "\u001b[1m  ≡≡≡≡≡≡≡≡≡≡\u001b[22m\n",
       "\n",
       "\u001b[36m  julia> normal_rand_particle_pop(3, [0, 0], [1 0; 0 1])\u001b[39m\n",
       "\u001b[36m  3-element Vector{Particle}:\u001b[39m\n",
       "\u001b[36m   Particle([-0.6025996585348097, -1.0055548956861133], [0.0, 0.0], Inf, [-0.6025996585348097, -1.0055548956861133], Inf)\u001b[39m\n",
       "\u001b[36m   Particle([-0.7562454555135321, 1.9490439959687778], [0.0, 0.0], Inf, [-0.7562454555135321, 1.9490439959687778], Inf)\u001b[39m\n",
       "\u001b[36m   Particle([0.5687241357408321, -0.7406267072113427], [0.0, 0.0], Inf, [0.5687241357408321, -0.7406267072113427], Inf)\u001b[39m"
      ]
     },
     "metadata": {},
     "output_type": "display_data"
    }
   ],
   "source": [
    "@doc normal_rand_particle_pop"
   ]
  },
  {
   "cell_type": "code",
   "execution_count": 14,
   "metadata": {},
   "outputs": [
    {
     "data": {
      "text/plain": [
       "3-element Vector{Particle}:\n",
       " Particle([0.4040308336567521, -1.0956708260389603], [0.0, 0.0], Inf, [0.4040308336567521, -1.0956708260389603], Inf)\n",
       " Particle([-0.5690754175927688, -1.9016076908148127], [0.0, 0.0], Inf, [-0.5690754175927688, -1.9016076908148127], Inf)\n",
       " Particle([0.9895469924697422, -1.2022337920748436], [0.0, 0.0], Inf, [0.9895469924697422, -1.2022337920748436], Inf)"
      ]
     },
     "metadata": {},
     "output_type": "display_data"
    }
   ],
   "source": [
    "population = normal_rand_particle_pop(50, [0, 0], [1 0; 0 1])\n",
    "first(population, 3)"
   ]
  },
  {
   "attachments": {},
   "cell_type": "markdown",
   "metadata": {},
   "source": [
    "Let's use the `Logbook` to save information about each iteration of the run:"
   ]
  },
  {
   "cell_type": "code",
   "execution_count": 15,
   "metadata": {},
   "outputs": [
    {
     "data": {
      "text/latex": [
       "\\begin{verbatim}\n",
       "Logbook(S::LittleDict)\n",
       "\\end{verbatim}\n",
       "A log for statistics intended for use on every iteration of an algorithm. The logbook is constructed from a \\texttt{LittleDict} ordered dictionary which maps stat names (strings) to callables, such that \\emph{statname} $i$ can be computed from \\emph{callable} $i$.\n",
       "\n",
       "The resulting \\texttt{Logbook} contains:\n",
       "\n",
       "\\begin{itemize}\n",
       "\\item \\texttt{S::LittleDict}: The ordered dict of stat names and callables\n",
       "\n",
       "\n",
       "\\item \\texttt{records::AbstractVector}: A vector of NamedTuples where each field is a statistic.\n",
       "\n",
       "\\end{itemize}\n"
      ],
      "text/markdown": [
       "```\n",
       "Logbook(S::LittleDict)\n",
       "```\n",
       "\n",
       "A log for statistics intended for use on every iteration of an algorithm. The logbook is constructed from a `LittleDict` ordered dictionary which maps stat names (strings) to callables, such that *statname* $i$ can be computed from *callable* $i$.\n",
       "\n",
       "The resulting `Logbook` contains:\n",
       "\n",
       "  * `S::LittleDict`: The ordered dict of stat names and callables\n",
       "  * `records::AbstractVector`: A vector of NamedTuples where each field is a statistic.\n"
      ],
      "text/plain": [
       "\u001b[36m  Logbook(S::LittleDict)\u001b[39m\n",
       "\n",
       "  A log for statistics intended for use on every iteration of an algorithm.\n",
       "  The logbook is constructed from a \u001b[36mLittleDict\u001b[39m ordered dictionary which maps\n",
       "  stat names (strings) to callables, such that \u001b[4mstatname\u001b[24m \u001b[35mi\u001b[39m can be computed from\n",
       "  \u001b[4mcallable\u001b[24m \u001b[35mi\u001b[39m.\n",
       "\n",
       "  The resulting \u001b[36mLogbook\u001b[39m contains:\n",
       "\n",
       "    •  \u001b[36mS::LittleDict\u001b[39m: The ordered dict of stat names and callables\n",
       "\n",
       "    •  \u001b[36mrecords::AbstractVector\u001b[39m: A vector of NamedTuples where each field\n",
       "       is a statistic."
      ]
     },
     "metadata": {},
     "output_type": "display_data"
    }
   ],
   "source": [
    "@doc Logbook"
   ]
  },
  {
   "cell_type": "code",
   "execution_count": 16,
   "metadata": {},
   "outputs": [
    {
     "data": {
      "text/plain": [
       "Logbook(LittleDict{AbstractString, Function, Vector{AbstractString}, Vector{Function}}(\"avg_fit\" => Statistics.mean, \"median_fit\" => Statistics.median, \"best_fit\" => minimum), NamedTuple{(:avg_fit, :median_fit, :best_fit)}[])"
      ]
     },
     "metadata": {},
     "output_type": "display_data"
    }
   ],
   "source": [
    "statnames = [\"avg_fit\", \"median_fit\", \"best_fit\"]\n",
    "callables = [mean, median, minimum]\n",
    "\n",
    "thedict = LittleDict(statnames, callables)\n",
    "logbook = Logbook(thedict)"
   ]
  },
  {
   "attachments": {},
   "cell_type": "markdown",
   "metadata": {},
   "source": [
    "We can now use the built-in algorithm:"
   ]
  },
  {
   "cell_type": "code",
   "execution_count": 17,
   "metadata": {},
   "outputs": [
    {
     "data": {
      "text/latex": [
       "\\begin{verbatim}\n",
       "PSO(f, population, k_max; w=1, c1=1, c2=1)\n",
       "PSO(logger::Logbook, f, population, k_max; w=1, c1=1, c2=1)\n",
       "\\end{verbatim}\n",
       "\\subsection{Arguments}\n",
       "\\begin{itemize}\n",
       "\\item \\texttt{f::Function}: Objective function to \\textbf{minimise}.\n",
       "\n",
       "\n",
       "\\item \\texttt{population::Vector\\{Particle\\}}: a list of \\href{@ref}{\\texttt{Particle}} individuals.\n",
       "\n",
       "\n",
       "\\item \\texttt{k\\_max::Integer}: number of iterations.\n",
       "\n",
       "\\end{itemize}\n",
       "\\subsection{Keywords}\n",
       "\\begin{itemize}\n",
       "\\item \\texttt{w}: inertia weight. Optional, by default 1.\n",
       "\n",
       "\n",
       "\\item \\texttt{c1}: cognitive coefficient (own's position). Optional, by default 1.\n",
       "\n",
       "\n",
       "\\item \\texttt{c2}: social coefficient (others' position). Optional, by default 1.\n",
       "\n",
       "\\end{itemize}\n",
       "Returns a \\href{@ref}{\\texttt{Result}}.\n",
       "\n"
      ],
      "text/markdown": [
       "```\n",
       "PSO(f, population, k_max; w=1, c1=1, c2=1)\n",
       "PSO(logger::Logbook, f, population, k_max; w=1, c1=1, c2=1)\n",
       "```\n",
       "\n",
       "## Arguments\n",
       "\n",
       "  * `f::Function`: Objective function to **minimise**.\n",
       "  * `population::Vector{Particle}`: a list of [`Particle`](@ref) individuals.\n",
       "  * `k_max::Integer`: number of iterations.\n",
       "\n",
       "## Keywords\n",
       "\n",
       "  * `w`: inertia weight. Optional, by default 1.\n",
       "  * `c1`: cognitive coefficient (own's position). Optional, by default 1.\n",
       "  * `c2`: social coefficient (others' position). Optional, by default 1.\n",
       "\n",
       "Returns a [`Result`](@ref).\n"
      ],
      "text/plain": [
       "\u001b[36m  PSO(f, population, k_max; w=1, c1=1, c2=1)\u001b[39m\n",
       "\u001b[36m  PSO(logger::Logbook, f, population, k_max; w=1, c1=1, c2=1)\u001b[39m\n",
       "\n",
       "\u001b[1m  Arguments\u001b[22m\n",
       "\u001b[1m  ===========\u001b[22m\n",
       "\n",
       "    •  \u001b[36mf::Function\u001b[39m: Objective function to \u001b[1mminimise\u001b[22m.\n",
       "\n",
       "    •  \u001b[36mpopulation::Vector{Particle}\u001b[39m: a list of \u001b[36mParticle\u001b[39m individuals.\n",
       "\n",
       "    •  \u001b[36mk_max::Integer\u001b[39m: number of iterations.\n",
       "\n",
       "\u001b[1m  Keywords\u001b[22m\n",
       "\u001b[1m  ==========\u001b[22m\n",
       "\n",
       "    •  \u001b[36mw\u001b[39m: inertia weight. Optional, by default 1.\n",
       "\n",
       "    •  \u001b[36mc1\u001b[39m: cognitive coefficient (own's position). Optional, by default\n",
       "       1.\n",
       "\n",
       "    •  \u001b[36mc2\u001b[39m: social coefficient (others' position). Optional, by default 1.\n",
       "\n",
       "  Returns a \u001b[36mResult\u001b[39m."
      ]
     },
     "metadata": {},
     "output_type": "display_data"
    }
   ],
   "source": [
    "@doc PSO"
   ]
  },
  {
   "cell_type": "code",
   "execution_count": 18,
   "metadata": {},
   "outputs": [],
   "source": [
    "results = PSO(logbook, michalewicz, population, 30);"
   ]
  },
  {
   "attachments": {},
   "cell_type": "markdown",
   "metadata": {},
   "source": [
    "The output was suppressed so that we can analyse each part of the result separately:"
   ]
  },
  {
   "cell_type": "code",
   "execution_count": 19,
   "metadata": {},
   "outputs": [
    {
     "name": "stdout",
     "output_type": "stream",
     "text": [
      "optimum(results) = -1.7987560672102798\n",
      "optimizer(results) = [2.1935299266534836, 1.5760612400982805]\n",
      "iterations(results) = 30\n",
      "f_calls(results) = 1550\n"
     ]
    }
   ],
   "source": [
    "@show optimum(results)\n",
    "\n",
    "@show optimizer(results)\n",
    "\n",
    "@show iterations(results)\n",
    "@show f_calls(results);"
   ]
  },
  {
   "attachments": {},
   "cell_type": "markdown",
   "metadata": {},
   "source": [
    "We can also take a look at the logbook's records and see how the statistics we calculated changed throughout the run:"
   ]
  },
  {
   "cell_type": "code",
   "execution_count": 20,
   "metadata": {},
   "outputs": [
    {
     "name": "stdout",
     "output_type": "stream",
     "text": [
      "it: 1 with best_pos: -0.7504688680623768 and avg_pos: 0.027014191784156233 \n",
      "it: 2 with best_pos: -0.7906765701486448 and avg_pos: -0.11592097787713364 \n",
      "it: 3 with best_pos: -0.8012991501612791 and avg_pos: -0.17770241942233952 \n",
      "it: 4 with best_pos: -0.7963864986732629 and avg_pos: -0.17023969225290894 \n",
      "it: 5 with best_pos: -0.8726099514277835 and avg_pos: -0.2928504362404555 \n",
      "it: 6 with best_pos: -1.1697700406204043 and avg_pos: -0.33670799217170105 \n",
      "it: 7 with best_pos: -1.6221334762010642 and avg_pos: -0.3834145274427395 \n",
      "it: 8 with best_pos: -0.9285497521300503 and avg_pos: -0.37119067568197167 \n",
      "it: 9 with best_pos: -1.7520089205738312 and avg_pos: -0.42151516296756136 \n",
      "it: 10 with best_pos: -1.587048845608525 and avg_pos: -0.3869242929292781 \n",
      "it: 11 with best_pos: -1.771893190795443 and avg_pos: -0.4246700864565007 \n",
      "it: 12 with best_pos: -1.7416264377070607 and avg_pos: -0.5136524380147719 \n",
      "it: 13 with best_pos: -1.7871172991946955 and avg_pos: -0.4094174620962018 \n",
      "it: 14 with best_pos: -1.7934112291858186 and avg_pos: -0.5528945413321673 \n",
      "it: 15 with best_pos: -1.7987560672102798 and avg_pos: -0.5683518814536109 \n",
      "it: 16 with best_pos: -1.789908468666102 and avg_pos: -0.5026852621455967 \n",
      "it: 17 with best_pos: -1.777851285762785 and avg_pos: -0.542096422013148 \n",
      "it: 18 with best_pos: -1.772903622464895 and avg_pos: -0.49975750235969896 \n",
      "it: 19 with best_pos: -1.7907125737837164 and avg_pos: -0.5127964967967558 \n",
      "it: 20 with best_pos: -1.7694024650754905 and avg_pos: -0.4876083714601009 \n",
      "it: 21 with best_pos: -1.78412902982459 and avg_pos: -0.5061004838877687 \n",
      "it: 22 with best_pos: -1.785451869596275 and avg_pos: -0.4720119976227387 \n",
      "it: 23 with best_pos: -1.7662698935057248 and avg_pos: -0.43858339554143905 \n",
      "it: 24 with best_pos: -1.798543107313794 and avg_pos: -0.41677520426279246 \n",
      "it: 25 with best_pos: -1.780626173949324 and avg_pos: -0.4871775470825685 \n",
      "it: 26 with best_pos: -1.7732168018808347 and avg_pos: -0.4561362036973722 \n",
      "it: 27 with best_pos: -1.7971172748131834 and avg_pos: -0.4865895651379651 \n",
      "it: 28 with best_pos: -1.787184774482611 and avg_pos: -0.4625727297276257 \n",
      "it: 29 with best_pos: -1.7916306274124452 and avg_pos: -0.42381102968626794 \n",
      "it: 30 with best_pos: -1.77202650821346 and avg_pos: -0.46380678949496384 \n"
     ]
    }
   ],
   "source": [
    "for (i, I) in enumerate(logbook.records)\n",
    "    print(\"it: $(i) with best_pos: $(I[3]) and avg_pos: $(I[1]) \\n\")\n",
    "end"
   ]
  }
 ],
 "metadata": {
  "kernelspec": {
   "display_name": "Julia 1.9.0",
   "language": "julia",
   "name": "julia-1.9"
  },
  "language_info": {
   "file_extension": ".jl",
   "mimetype": "application/julia",
   "name": "julia",
   "version": "1.9.0"
  },
  "vscode": {
   "interpreter": {
    "hash": "916dbcbb3f70747c44a77c7bcd40155683ae19c65e1c03b4aa3499c5328201f1"
   }
  }
 },
 "nbformat": 4,
 "nbformat_minor": 2
}
