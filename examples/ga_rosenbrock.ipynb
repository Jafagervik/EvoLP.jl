{
 "cells": [
  {
   "cell_type": "markdown",
   "metadata": {},
   "source": [
    "# Genetic Algorithm\n",
    "\n",
    "This notebook showcases how to use the built-in Genetic Algorithm (GA)"
   ]
  },
  {
   "cell_type": "code",
   "execution_count": 49,
   "metadata": {},
   "outputs": [],
   "source": [
    "using Statistics\n",
    "using EvoLP\n",
    "using OrderedCollections"
   ]
  },
  {
   "cell_type": "markdown",
   "metadata": {},
   "source": [
    "For this example we will use the **Rosenbrock** function:"
   ]
  },
  {
   "cell_type": "code",
   "execution_count": 50,
   "metadata": {},
   "outputs": [
    {
     "data": {
      "text/latex": [
       "\\begin{verbatim}\n",
       "rosenbrock(x; a=1, b=5)\n",
       "\\end{verbatim}\n",
       "\\textbf{Rosenbrock} benchmark function. With `a=1` and `b=5`, minimum is at `f([a, a^2]) = 0`\n",
       "\n",
       "``f(x) = (a - x_1)^2 + b(x_2 - x_1^2)^2``\n"
      ],
      "text/markdown": [
       "```\n",
       "rosenbrock(x; a=1, b=5)\n",
       "```\n",
       "\n",
       "**Rosenbrock** benchmark function. With `a=1` and `b=5`, minimum is at `f([a, a^2]) = 0`\n",
       "\n",
       "``\n",
       "f(x) = (a - x_1)^2 + b(x_2 - x_1^2)^2\n",
       "``\n"
      ],
      "text/plain": [
       "\u001b[36m  rosenbrock(x; a=1, b=5)\u001b[39m\n",
       "\n",
       "  \u001b[1mRosenbrock\u001b[22m benchmark function. With \u001b[35ma=1\u001b[39m and \u001b[35mb=5\u001b[39m, minimum is at \u001b[35mf([a, a^2]) =\n",
       "  0\u001b[39m\n",
       "\n",
       "\u001b[35m  f(x) = (a - x_1)^2 + b(x_2 - x_1^2)^2\u001b[39m"
      ]
     },
     "metadata": {},
     "output_type": "display_data"
    }
   ],
   "source": [
    "@doc rosenbrock"
   ]
  },
  {
   "cell_type": "markdown",
   "metadata": {},
   "source": [
    "In a GA, we use vectors as _individuals_.\n",
    "\n",
    "Let's start creating the population. For that, we can use a generator. Let's use the normal generator:"
   ]
  },
  {
   "cell_type": "code",
   "execution_count": 51,
   "metadata": {},
   "outputs": [
    {
     "data": {
      "text/latex": [
       "\\begin{verbatim}\n",
       "normal_rand_vector_pop(n, μ, Σ; rng=Random.GLOBAL_RNG)\n",
       "\\end{verbatim}\n",
       "Generate a population of \\texttt{n} vector individuals using a normal distribution with means \\texttt{μ} and covariance \\texttt{Σ}.\n",
       "\n",
       "\\texttt{μ} expects a vector of length \\emph{l} (i.e. length of an individual) while \\texttt{Σ} expects an \\emph{l x l} matrix of covariances.\n",
       "\n",
       "\\section{Examples}\n",
       "\\begin{verbatim}\n",
       "julia> normal_rand_vector_pop(3, [0, 0], [1 0; 0 1])\n",
       "3-element Vector{Vector{Float64}}:\n",
       " [-0.15290525182234904, 0.8715880371871617]\n",
       " [-1.1283800329864322, -0.9256584563613383]\n",
       " [-0.5384758126777555, -0.8141702145510666]\n",
       "\\end{verbatim}\n"
      ],
      "text/markdown": [
       "```\n",
       "normal_rand_vector_pop(n, μ, Σ; rng=Random.GLOBAL_RNG)\n",
       "```\n",
       "\n",
       "Generate a population of `n` vector individuals using a normal distribution with means `μ` and covariance `Σ`.\n",
       "\n",
       "`μ` expects a vector of length *l* (i.e. length of an individual) while `Σ` expects an *l x l* matrix of covariances.\n",
       "\n",
       "# Examples\n",
       "\n",
       "```julia\n",
       "julia> normal_rand_vector_pop(3, [0, 0], [1 0; 0 1])\n",
       "3-element Vector{Vector{Float64}}:\n",
       " [-0.15290525182234904, 0.8715880371871617]\n",
       " [-1.1283800329864322, -0.9256584563613383]\n",
       " [-0.5384758126777555, -0.8141702145510666]\n",
       "```\n"
      ],
      "text/plain": [
       "\u001b[36m  normal_rand_vector_pop(n, μ, Σ; rng=Random.GLOBAL_RNG)\u001b[39m\n",
       "\n",
       "  Generate a population of \u001b[36mn\u001b[39m vector individuals using a normal distribution\n",
       "  with means \u001b[36mμ\u001b[39m and covariance \u001b[36mΣ\u001b[39m.\n",
       "\n",
       "  \u001b[36mμ\u001b[39m expects a vector of length \u001b[4ml\u001b[24m (i.e. length of an individual) while \u001b[36mΣ\u001b[39m\n",
       "  expects an \u001b[4ml x l\u001b[24m matrix of covariances.\n",
       "\n",
       "\u001b[1m  Examples\u001b[22m\n",
       "\u001b[1m  ≡≡≡≡≡≡≡≡≡≡\u001b[22m\n",
       "\n",
       "\u001b[36m  julia> normal_rand_vector_pop(3, [0, 0], [1 0; 0 1])\u001b[39m\n",
       "\u001b[36m  3-element Vector{Vector{Float64}}:\u001b[39m\n",
       "\u001b[36m   [-0.15290525182234904, 0.8715880371871617]\u001b[39m\n",
       "\u001b[36m   [-1.1283800329864322, -0.9256584563613383]\u001b[39m\n",
       "\u001b[36m   [-0.5384758126777555, -0.8141702145510666]\u001b[39m"
      ]
     },
     "metadata": {},
     "output_type": "display_data"
    }
   ],
   "source": [
    "@doc normal_rand_vector_pop"
   ]
  },
  {
   "cell_type": "code",
   "execution_count": 52,
   "metadata": {},
   "outputs": [
    {
     "data": {
      "text/plain": [
       "3-element Vector{Vector{Float64}}:\n",
       " [0.6066134412734522, -0.37262517254346783]\n",
       " [1.1578326727914892, -0.593229583706778]\n",
       " [0.4146002932358113, -0.4846849429791206]"
      ]
     },
     "metadata": {},
     "output_type": "display_data"
    }
   ],
   "source": [
    "pop_size = 50\n",
    "population = normal_rand_vector_pop(pop_size, [0, 0], [1 0; 0 1])\n",
    "first(population, 3)"
   ]
  },
  {
   "cell_type": "markdown",
   "metadata": {},
   "source": [
    "In a GA, we have _selection_, _crossover_ and _mutation_.\n",
    "\n",
    "We can easily set up these operators using the built-ins provided by EvoLP.\n",
    "\n",
    "Let's use rank based selection and interpolation crossover with 0.5 as the scaling factor:"
   ]
  },
  {
   "cell_type": "code",
   "execution_count": 53,
   "metadata": {},
   "outputs": [
    {
     "data": {
      "text/latex": [
       "Interpolation crossover with scaling parameter \\texttt{λ}.\n",
       "\n"
      ],
      "text/markdown": [
       "Interpolation crossover with scaling parameter `λ`.\n"
      ],
      "text/plain": [
       "  Interpolation crossover with scaling parameter \u001b[36mλ\u001b[39m."
      ]
     },
     "metadata": {},
     "output_type": "display_data"
    }
   ],
   "source": [
    "@doc InterpolationCrossover"
   ]
  },
  {
   "cell_type": "code",
   "execution_count": 54,
   "metadata": {},
   "outputs": [
    {
     "data": {
      "text/plain": [
       "InterpolationCrossover(0.5)"
      ]
     },
     "metadata": {},
     "output_type": "display_data"
    }
   ],
   "source": [
    "S = RankBasedSelectionGenerational()\n",
    "C = InterpolationCrossover(0.5)"
   ]
  },
  {
   "cell_type": "markdown",
   "metadata": {},
   "source": [
    "For mutation, we can use a Gaussian approach:"
   ]
  },
  {
   "cell_type": "code",
   "execution_count": 55,
   "metadata": {},
   "outputs": [
    {
     "data": {
      "text/latex": [
       "Gaussian mutation with standard deviation \\texttt{σ}, which should be a real number.\n",
       "\n"
      ],
      "text/markdown": [
       "Gaussian mutation with standard deviation `σ`, which should be a real number.\n"
      ],
      "text/plain": [
       "  Gaussian mutation with standard deviation \u001b[36mσ\u001b[39m, which should be a real number."
      ]
     },
     "metadata": {},
     "output_type": "display_data"
    }
   ],
   "source": [
    "@doc GaussianMutation"
   ]
  },
  {
   "cell_type": "code",
   "execution_count": 56,
   "metadata": {},
   "outputs": [
    {
     "data": {
      "text/plain": [
       "GaussianMutation(0.5)"
      ]
     },
     "metadata": {},
     "output_type": "display_data"
    }
   ],
   "source": [
    "M = GaussianMutation(0.5)"
   ]
  },
  {
   "cell_type": "markdown",
   "metadata": {},
   "source": [
    "We can use the `Logbook` to record statistics about our run:"
   ]
  },
  {
   "cell_type": "code",
   "execution_count": 57,
   "metadata": {},
   "outputs": [
    {
     "data": {
      "text/plain": [
       "Logbook(LittleDict{AbstractString, Function, Vector{AbstractString}, Vector{Function}}(\"mean_eval\" => Statistics.mean, \"max_f\" => maximum, \"min_f\" => minimum, \"median_f\" => Statistics.median), NamedTuple{(:mean_eval, :max_f, :min_f, :median_f)}[])"
      ]
     },
     "metadata": {},
     "output_type": "display_data"
    }
   ],
   "source": [
    "statnames = [\"mean_eval\", \"max_f\", \"min_f\", \"median_f\"]\n",
    "fns = [mean, maximum, minimum, median]\n",
    "thedict = LittleDict(statnames, fns)\n",
    "thelogger = Logbook(thedict)"
   ]
  },
  {
   "cell_type": "markdown",
   "metadata": {},
   "source": [
    "And now we're ready to use the `GA` built-in algorithm:"
   ]
  },
  {
   "cell_type": "code",
   "execution_count": 58,
   "metadata": {},
   "outputs": [
    {
     "data": {
      "text/latex": [
       "\\begin{verbatim}\n",
       "GA(f, pop, k_max, S, C, M)\n",
       "GA(logbook::Logbook, f, pop, k_max, S, C, M)\n",
       "\\end{verbatim}\n",
       "Generational Genetic Algorithm.\n",
       "\n",
       "\\subsection{Arguments}\n",
       "\\begin{itemize}\n",
       "\\item \\texttt{f::Function}: objective function to \\textbf{minimise}.\n",
       "\n",
       "\n",
       "\\item \\texttt{pop::AbstractVector}: population—a list of vector individuals.\n",
       "\n",
       "\n",
       "\\item \\texttt{k\\_max::Integer}: number of iterations.\n",
       "\n",
       "\n",
       "\\item \\texttt{S::SelectionMethod}: one of the available \\href{@ref}{\\texttt{SelectionMethod}}.\n",
       "\n",
       "\n",
       "\\item \\texttt{C::CrossoverMethod}: one of the available \\href{@ref}{\\texttt{CrossoverMethod}}.\n",
       "\n",
       "\n",
       "\\item \\texttt{M::MutationMethod}: one of the available \\href{@ref}{\\texttt{MutationMethod}}.\n",
       "\n",
       "\\end{itemize}\n",
       "Returns a \\href{@ref}{\\texttt{Result}}.\n",
       "\n"
      ],
      "text/markdown": [
       "```\n",
       "GA(f, pop, k_max, S, C, M)\n",
       "GA(logbook::Logbook, f, pop, k_max, S, C, M)\n",
       "```\n",
       "\n",
       "Generational Genetic Algorithm.\n",
       "\n",
       "## Arguments\n",
       "\n",
       "  * `f::Function`: objective function to **minimise**.\n",
       "  * `pop::AbstractVector`: population—a list of vector individuals.\n",
       "  * `k_max::Integer`: number of iterations.\n",
       "  * `S::SelectionMethod`: one of the available [`SelectionMethod`](@ref).\n",
       "  * `C::CrossoverMethod`: one of the available [`CrossoverMethod`](@ref).\n",
       "  * `M::MutationMethod`: one of the available [`MutationMethod`](@ref).\n",
       "\n",
       "Returns a [`Result`](@ref).\n"
      ],
      "text/plain": [
       "\u001b[36m  GA(f, pop, k_max, S, C, M)\u001b[39m\n",
       "\u001b[36m  GA(logbook::Logbook, f, pop, k_max, S, C, M)\u001b[39m\n",
       "\n",
       "  Generational Genetic Algorithm.\n",
       "\n",
       "\u001b[1m  Arguments\u001b[22m\n",
       "\u001b[1m  ===========\u001b[22m\n",
       "\n",
       "    •  \u001b[36mf::Function\u001b[39m: objective function to \u001b[1mminimise\u001b[22m.\n",
       "\n",
       "    •  \u001b[36mpop::AbstractVector\u001b[39m: population—a list of vector individuals.\n",
       "\n",
       "    •  \u001b[36mk_max::Integer\u001b[39m: number of iterations.\n",
       "\n",
       "    •  \u001b[36mS::SelectionMethod\u001b[39m: one of the available \u001b[36mSelectionMethod\u001b[39m.\n",
       "\n",
       "    •  \u001b[36mC::CrossoverMethod\u001b[39m: one of the available \u001b[36mCrossoverMethod\u001b[39m.\n",
       "\n",
       "    •  \u001b[36mM::MutationMethod\u001b[39m: one of the available \u001b[36mMutationMethod\u001b[39m.\n",
       "\n",
       "  Returns a \u001b[36mResult\u001b[39m."
      ]
     },
     "metadata": {},
     "output_type": "display_data"
    }
   ],
   "source": [
    "@doc GA"
   ]
  },
  {
   "cell_type": "code",
   "execution_count": 59,
   "metadata": {},
   "outputs": [],
   "source": [
    "result = GA(thelogger, rosenbrock, population, 500, S, C, M);"
   ]
  },
  {
   "cell_type": "markdown",
   "metadata": {},
   "source": [
    "The output was suppressed so that we can analyse each part of the result separately:"
   ]
  },
  {
   "cell_type": "code",
   "execution_count": 60,
   "metadata": {},
   "outputs": [
    {
     "name": "stdout",
     "output_type": "stream",
     "text": [
      "optimum(result) = 0.0015029528354023858\n",
      "optimizer(result) = [1.0367119356341026, 1.0803427525882299]\n",
      "f_calls(result) = 50050\n",
      "thelogger.records[end] = (mean_eval = 3.7839504926952294, max_f = 22.281919411164413, min_f = 0.0015029528354023858, median_f = 2.429775485243721)\n"
     ]
    },
    {
     "data": {
      "text/plain": [
       "(mean_eval = 3.7839504926952294, max_f = 22.281919411164413, min_f = 0.0015029528354023858, median_f = 2.429775485243721)"
      ]
     },
     "metadata": {},
     "output_type": "display_data"
    }
   ],
   "source": [
    "@show optimum(result)\n",
    "\n",
    "@show optimizer(result)\n",
    "\n",
    "@show f_calls(result)\n",
    "\n",
    "@show thelogger.records[end]"
   ]
  },
  {
   "cell_type": "code",
   "execution_count": 61,
   "metadata": {},
   "outputs": [],
   "source": [
    "using DataFrames"
   ]
  },
  {
   "cell_type": "code",
   "execution_count": 62,
   "metadata": {},
   "outputs": [
    {
     "data": {
      "text/html": [
       "<div><div style = \"float: left;\"><span>500×4 DataFrame</span></div><div style = \"float: right;\"><span style = \"font-style: italic;\">475 rows omitted</span></div><div style = \"clear: both;\"></div></div><div class = \"data-frame\" style = \"overflow-x: scroll;\"><table class = \"data-frame\" style = \"margin-bottom: 6px;\"><thead><tr class = \"header\"><th class = \"rowNumber\" style = \"font-weight: bold; text-align: right;\">Row</th><th style = \"text-align: left;\">mean_eval</th><th style = \"text-align: left;\">max_f</th><th style = \"text-align: left;\">min_f</th><th style = \"text-align: left;\">median_f</th></tr><tr class = \"subheader headerLastRow\"><th class = \"rowNumber\" style = \"font-weight: bold; text-align: right;\"></th><th title = \"Float64\" style = \"text-align: left;\">Float64</th><th title = \"Float64\" style = \"text-align: left;\">Float64</th><th title = \"Float64\" style = \"text-align: left;\">Float64</th><th title = \"Float64\" style = \"text-align: left;\">Float64</th></tr></thead><tbody><tr><td class = \"rowNumber\" style = \"font-weight: bold; text-align: right;\">1</td><td style = \"text-align: right;\">9.89648</td><td style = \"text-align: right;\">134.066</td><td style = \"text-align: right;\">0.149169</td><td style = \"text-align: right;\">3.6715</td></tr><tr><td class = \"rowNumber\" style = \"font-weight: bold; text-align: right;\">2</td><td style = \"text-align: right;\">5.73033</td><td style = \"text-align: right;\">40.1663</td><td style = \"text-align: right;\">0.134373</td><td style = \"text-align: right;\">2.94368</td></tr><tr><td class = \"rowNumber\" style = \"font-weight: bold; text-align: right;\">3</td><td style = \"text-align: right;\">4.65904</td><td style = \"text-align: right;\">18.9003</td><td style = \"text-align: right;\">0.181144</td><td style = \"text-align: right;\">3.22389</td></tr><tr><td class = \"rowNumber\" style = \"font-weight: bold; text-align: right;\">4</td><td style = \"text-align: right;\">4.34055</td><td style = \"text-align: right;\">52.1745</td><td style = \"text-align: right;\">0.0813748</td><td style = \"text-align: right;\">2.14014</td></tr><tr><td class = \"rowNumber\" style = \"font-weight: bold; text-align: right;\">5</td><td style = \"text-align: right;\">5.1239</td><td style = \"text-align: right;\">42.4315</td><td style = \"text-align: right;\">0.119411</td><td style = \"text-align: right;\">2.83591</td></tr><tr><td class = \"rowNumber\" style = \"font-weight: bold; text-align: right;\">6</td><td style = \"text-align: right;\">3.70733</td><td style = \"text-align: right;\">37.285</td><td style = \"text-align: right;\">0.0413168</td><td style = \"text-align: right;\">2.17732</td></tr><tr><td class = \"rowNumber\" style = \"font-weight: bold; text-align: right;\">7</td><td style = \"text-align: right;\">4.84669</td><td style = \"text-align: right;\">66.9539</td><td style = \"text-align: right;\">0.00445092</td><td style = \"text-align: right;\">2.52908</td></tr><tr><td class = \"rowNumber\" style = \"font-weight: bold; text-align: right;\">8</td><td style = \"text-align: right;\">3.87748</td><td style = \"text-align: right;\">26.8901</td><td style = \"text-align: right;\">0.345194</td><td style = \"text-align: right;\">1.75084</td></tr><tr><td class = \"rowNumber\" style = \"font-weight: bold; text-align: right;\">9</td><td style = \"text-align: right;\">6.35524</td><td style = \"text-align: right;\">69.8636</td><td style = \"text-align: right;\">0.172651</td><td style = \"text-align: right;\">2.32515</td></tr><tr><td class = \"rowNumber\" style = \"font-weight: bold; text-align: right;\">10</td><td style = \"text-align: right;\">7.69479</td><td style = \"text-align: right;\">78.1207</td><td style = \"text-align: right;\">0.0348444</td><td style = \"text-align: right;\">2.94056</td></tr><tr><td class = \"rowNumber\" style = \"font-weight: bold; text-align: right;\">11</td><td style = \"text-align: right;\">6.02882</td><td style = \"text-align: right;\">40.0432</td><td style = \"text-align: right;\">0.0266108</td><td style = \"text-align: right;\">2.40478</td></tr><tr><td class = \"rowNumber\" style = \"font-weight: bold; text-align: right;\">12</td><td style = \"text-align: right;\">3.36278</td><td style = \"text-align: right;\">30.9894</td><td style = \"text-align: right;\">0.0540495</td><td style = \"text-align: right;\">2.0225</td></tr><tr><td class = \"rowNumber\" style = \"font-weight: bold; text-align: right;\">13</td><td style = \"text-align: right;\">5.43436</td><td style = \"text-align: right;\">36.6355</td><td style = \"text-align: right;\">0.0359288</td><td style = \"text-align: right;\">1.79734</td></tr><tr><td style = \"text-align: right;\">&vellip;</td><td style = \"text-align: right;\">&vellip;</td><td style = \"text-align: right;\">&vellip;</td><td style = \"text-align: right;\">&vellip;</td><td style = \"text-align: right;\">&vellip;</td></tr><tr><td class = \"rowNumber\" style = \"font-weight: bold; text-align: right;\">489</td><td style = \"text-align: right;\">4.49131</td><td style = \"text-align: right;\">38.0768</td><td style = \"text-align: right;\">0.0422603</td><td style = \"text-align: right;\">2.19115</td></tr><tr><td class = \"rowNumber\" style = \"font-weight: bold; text-align: right;\">490</td><td style = \"text-align: right;\">5.28768</td><td style = \"text-align: right;\">59.0009</td><td style = \"text-align: right;\">0.0363694</td><td style = \"text-align: right;\">2.49458</td></tr><tr><td class = \"rowNumber\" style = \"font-weight: bold; text-align: right;\">491</td><td style = \"text-align: right;\">6.00837</td><td style = \"text-align: right;\">41.0296</td><td style = \"text-align: right;\">0.0320982</td><td style = \"text-align: right;\">2.209</td></tr><tr><td class = \"rowNumber\" style = \"font-weight: bold; text-align: right;\">492</td><td style = \"text-align: right;\">5.09414</td><td style = \"text-align: right;\">57.0541</td><td style = \"text-align: right;\">0.0943589</td><td style = \"text-align: right;\">2.00363</td></tr><tr><td class = \"rowNumber\" style = \"font-weight: bold; text-align: right;\">493</td><td style = \"text-align: right;\">4.39356</td><td style = \"text-align: right;\">25.5083</td><td style = \"text-align: right;\">0.0859415</td><td style = \"text-align: right;\">2.62228</td></tr><tr><td class = \"rowNumber\" style = \"font-weight: bold; text-align: right;\">494</td><td style = \"text-align: right;\">5.51245</td><td style = \"text-align: right;\">45.3642</td><td style = \"text-align: right;\">0.117499</td><td style = \"text-align: right;\">2.41964</td></tr><tr><td class = \"rowNumber\" style = \"font-weight: bold; text-align: right;\">495</td><td style = \"text-align: right;\">5.09412</td><td style = \"text-align: right;\">72.8538</td><td style = \"text-align: right;\">0.0135765</td><td style = \"text-align: right;\">2.11911</td></tr><tr><td class = \"rowNumber\" style = \"font-weight: bold; text-align: right;\">496</td><td style = \"text-align: right;\">3.66304</td><td style = \"text-align: right;\">17.0</td><td style = \"text-align: right;\">0.0210391</td><td style = \"text-align: right;\">2.58772</td></tr><tr><td class = \"rowNumber\" style = \"font-weight: bold; text-align: right;\">497</td><td style = \"text-align: right;\">4.10064</td><td style = \"text-align: right;\">19.8701</td><td style = \"text-align: right;\">0.0560638</td><td style = \"text-align: right;\">3.00284</td></tr><tr><td class = \"rowNumber\" style = \"font-weight: bold; text-align: right;\">498</td><td style = \"text-align: right;\">6.0612</td><td style = \"text-align: right;\">36.1623</td><td style = \"text-align: right;\">0.074987</td><td style = \"text-align: right;\">3.02427</td></tr><tr><td class = \"rowNumber\" style = \"font-weight: bold; text-align: right;\">499</td><td style = \"text-align: right;\">5.70933</td><td style = \"text-align: right;\">40.8127</td><td style = \"text-align: right;\">0.000249562</td><td style = \"text-align: right;\">2.73288</td></tr><tr><td class = \"rowNumber\" style = \"font-weight: bold; text-align: right;\">500</td><td style = \"text-align: right;\">3.78395</td><td style = \"text-align: right;\">22.2819</td><td style = \"text-align: right;\">0.00150295</td><td style = \"text-align: right;\">2.42978</td></tr></tbody></table></div>"
      ],
      "text/latex": [
       "\\begin{tabular}{r|cccc}\n",
       "\t& mean\\_eval & max\\_f & min\\_f & median\\_f\\\\\n",
       "\t\\hline\n",
       "\t& Float64 & Float64 & Float64 & Float64\\\\\n",
       "\t\\hline\n",
       "\t1 & 9.89648 & 134.066 & 0.149169 & 3.6715 \\\\\n",
       "\t2 & 5.73033 & 40.1663 & 0.134373 & 2.94368 \\\\\n",
       "\t3 & 4.65904 & 18.9003 & 0.181144 & 3.22389 \\\\\n",
       "\t4 & 4.34055 & 52.1745 & 0.0813748 & 2.14014 \\\\\n",
       "\t5 & 5.1239 & 42.4315 & 0.119411 & 2.83591 \\\\\n",
       "\t6 & 3.70733 & 37.285 & 0.0413168 & 2.17732 \\\\\n",
       "\t7 & 4.84669 & 66.9539 & 0.00445092 & 2.52908 \\\\\n",
       "\t8 & 3.87748 & 26.8901 & 0.345194 & 1.75084 \\\\\n",
       "\t9 & 6.35524 & 69.8636 & 0.172651 & 2.32515 \\\\\n",
       "\t10 & 7.69479 & 78.1207 & 0.0348444 & 2.94056 \\\\\n",
       "\t11 & 6.02882 & 40.0432 & 0.0266108 & 2.40478 \\\\\n",
       "\t12 & 3.36278 & 30.9894 & 0.0540495 & 2.0225 \\\\\n",
       "\t13 & 5.43436 & 36.6355 & 0.0359288 & 1.79734 \\\\\n",
       "\t14 & 7.02662 & 183.992 & 0.0196119 & 2.16254 \\\\\n",
       "\t15 & 2.36497 & 12.8188 & 0.154586 & 1.6682 \\\\\n",
       "\t16 & 5.58578 & 45.8213 & 0.0079721 & 2.1388 \\\\\n",
       "\t17 & 3.35343 & 37.6004 & 0.0354465 & 2.08072 \\\\\n",
       "\t18 & 6.97523 & 65.9874 & 0.0454221 & 3.0263 \\\\\n",
       "\t19 & 4.13267 & 36.2075 & 0.0153313 & 2.40869 \\\\\n",
       "\t20 & 5.7908 & 46.7897 & 0.00357928 & 2.26133 \\\\\n",
       "\t21 & 3.58919 & 19.5366 & 0.157289 & 2.24566 \\\\\n",
       "\t22 & 5.44109 & 58.5702 & 0.0695252 & 1.53404 \\\\\n",
       "\t23 & 6.79225 & 65.9696 & 0.125758 & 2.40734 \\\\\n",
       "\t24 & 7.1952 & 98.9774 & 0.00406058 & 2.0123 \\\\\n",
       "\t`\\dots` & `\\dots` & `\\dots` & `\\dots` & `\\dots` \\\\\n",
       "\\end{tabular}\n"
      ],
      "text/plain": [
       "\u001b[1m500×4 DataFrame\u001b[0m\n",
       "\u001b[1m Row \u001b[0m│\u001b[1m mean_eval \u001b[0m\u001b[1m max_f    \u001b[0m\u001b[1m min_f       \u001b[0m\u001b[1m median_f \u001b[0m\n",
       "     │\u001b[90m Float64   \u001b[0m\u001b[90m Float64  \u001b[0m\u001b[90m Float64     \u001b[0m\u001b[90m Float64  \u001b[0m\n",
       "─────┼────────────────────────────────────────────\n",
       "   1 │   9.89648  134.066   0.149169      3.6715\n",
       "   2 │   5.73033   40.1663  0.134373      2.94368\n",
       "   3 │   4.65904   18.9003  0.181144      3.22389\n",
       "   4 │   4.34055   52.1745  0.0813748     2.14014\n",
       "   5 │   5.1239    42.4315  0.119411      2.83591\n",
       "   6 │   3.70733   37.285   0.0413168     2.17732\n",
       "   7 │   4.84669   66.9539  0.00445092    2.52908\n",
       "   8 │   3.87748   26.8901  0.345194      1.75084\n",
       "  ⋮  │     ⋮         ⋮           ⋮          ⋮\n",
       " 494 │   5.51245   45.3642  0.117499      2.41964\n",
       " 495 │   5.09412   72.8538  0.0135765     2.11911\n",
       " 496 │   3.66304   17.0     0.0210391     2.58772\n",
       " 497 │   4.10064   19.8701  0.0560638     3.00284\n",
       " 498 │   6.0612    36.1623  0.074987      3.02427\n",
       " 499 │   5.70933   40.8127  0.000249562   2.73288\n",
       " 500 │   3.78395   22.2819  0.00150295    2.42978\n",
       "\u001b[36m                                  485 rows omitted\u001b[0m"
      ]
     },
     "metadata": {},
     "output_type": "display_data"
    }
   ],
   "source": [
    "DataFrame(thelogger.records)"
   ]
  }
 ],
 "metadata": {
  "kernelspec": {
   "display_name": "Julia 1.8.3",
   "language": "julia",
   "name": "julia-1.8"
  },
  "language_info": {
   "file_extension": ".jl",
   "mimetype": "application/julia",
   "name": "julia",
   "version": "1.8.3"
  },
  "vscode": {
   "interpreter": {
    "hash": "916dbcbb3f70747c44a77c7bcd40155683ae19c65e1c03b4aa3499c5328201f1"
   }
  }
 },
 "nbformat": 4,
 "nbformat_minor": 2
}
