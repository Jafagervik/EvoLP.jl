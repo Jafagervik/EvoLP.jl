{
 "cells": [
  {
   "attachments": {},
   "cell_type": "markdown",
   "metadata": {},
   "source": [
    "# Genetic Algorithm\n",
    "\n",
    "This notebook showcases how to use the built-in Genetic Algorithm (GA)"
   ]
  },
  {
   "cell_type": "code",
   "execution_count": 1,
   "metadata": {},
   "outputs": [],
   "source": [
    "using Statistics\n",
    "using EvoLP\n",
    "using OrderedCollections"
   ]
  },
  {
   "attachments": {},
   "cell_type": "markdown",
   "metadata": {},
   "source": [
    "For this example we will use the **Rosenbrock** function:"
   ]
  },
  {
   "cell_type": "code",
   "execution_count": 2,
   "metadata": {},
   "outputs": [
    {
     "data": {
      "text/latex": [
       "\\begin{verbatim}\n",
       "rosenbrock(x; a=1, b=5)\n",
       "\\end{verbatim}\n",
       "\\textbf{Rosenbrock} benchmark function. With $a=1$ and $b=5$, minimum is at $f([a, a^2]) = 0$\n",
       "\n",
       "$$f(x) = (a - x_1)^2 + b(x_2 - x_1^2)^2$$\n"
      ],
      "text/markdown": [
       "```\n",
       "rosenbrock(x; a=1, b=5)\n",
       "```\n",
       "\n",
       "**Rosenbrock** benchmark function. With $a=1$ and $b=5$, minimum is at $f([a, a^2]) = 0$\n",
       "\n",
       "$$\n",
       "f(x) = (a - x_1)^2 + b(x_2 - x_1^2)^2\n",
       "$$\n"
      ],
      "text/plain": [
       "\u001b[36m  rosenbrock(x; a=1, b=5)\u001b[39m\n",
       "\n",
       "  \u001b[1mRosenbrock\u001b[22m benchmark function. With \u001b[35ma=1\u001b[39m and \u001b[35mb=5\u001b[39m, minimum is at \u001b[35mf([a, a^2]) =\n",
       "  0\u001b[39m\n",
       "\n",
       "\u001b[35m  f(x) = (a - x_1)^2 + b(x_2 - x_1^2)^2\u001b[39m"
      ]
     },
     "metadata": {},
     "output_type": "display_data"
    }
   ],
   "source": [
    "@doc rosenbrock"
   ]
  },
  {
   "attachments": {},
   "cell_type": "markdown",
   "metadata": {},
   "source": [
    "In a GA, we use vectors as _individuals_.\n",
    "\n",
    "Let's start creating the population. For that, we can use a generator. Let's use the normal generator:"
   ]
  },
  {
   "cell_type": "code",
   "execution_count": 3,
   "metadata": {},
   "outputs": [
    {
     "data": {
      "text/latex": [
       "\\begin{verbatim}\n",
       "normal_rand_vector_pop(n, μ, Σ; rng=Random.GLOBAL_RNG)\n",
       "\\end{verbatim}\n",
       "Generate a population of \\texttt{n} vector individuals using a normal distribution with means \\texttt{μ} and covariance \\texttt{Σ}.\n",
       "\n",
       "\\texttt{μ} expects a vector of length \\emph{l} (i.e. length of an individual) while \\texttt{Σ} expects an \\emph{l x l} matrix of covariances.\n",
       "\n",
       "\\section{Examples}\n",
       "\\begin{verbatim}\n",
       "julia> normal_rand_vector_pop(3, [0, 0], [1 0; 0 1])\n",
       "3-element Vector{Vector{Float64}}:\n",
       " [-0.15290525182234904, 0.8715880371871617]\n",
       " [-1.1283800329864322, -0.9256584563613383]\n",
       " [-0.5384758126777555, -0.8141702145510666]\n",
       "\\end{verbatim}\n"
      ],
      "text/markdown": [
       "```\n",
       "normal_rand_vector_pop(n, μ, Σ; rng=Random.GLOBAL_RNG)\n",
       "```\n",
       "\n",
       "Generate a population of `n` vector individuals using a normal distribution with means `μ` and covariance `Σ`.\n",
       "\n",
       "`μ` expects a vector of length *l* (i.e. length of an individual) while `Σ` expects an *l x l* matrix of covariances.\n",
       "\n",
       "# Examples\n",
       "\n",
       "```julia\n",
       "julia> normal_rand_vector_pop(3, [0, 0], [1 0; 0 1])\n",
       "3-element Vector{Vector{Float64}}:\n",
       " [-0.15290525182234904, 0.8715880371871617]\n",
       " [-1.1283800329864322, -0.9256584563613383]\n",
       " [-0.5384758126777555, -0.8141702145510666]\n",
       "```\n"
      ],
      "text/plain": [
       "\u001b[36m  normal_rand_vector_pop(n, μ, Σ; rng=Random.GLOBAL_RNG)\u001b[39m\n",
       "\n",
       "  Generate a population of \u001b[36mn\u001b[39m vector individuals using a normal distribution\n",
       "  with means \u001b[36mμ\u001b[39m and covariance \u001b[36mΣ\u001b[39m.\n",
       "\n",
       "  \u001b[36mμ\u001b[39m expects a vector of length \u001b[4ml\u001b[24m (i.e. length of an individual) while \u001b[36mΣ\u001b[39m\n",
       "  expects an \u001b[4ml x l\u001b[24m matrix of covariances.\n",
       "\n",
       "\u001b[1m  Examples\u001b[22m\n",
       "\u001b[1m  ≡≡≡≡≡≡≡≡≡≡\u001b[22m\n",
       "\n",
       "\u001b[36m  julia> normal_rand_vector_pop(3, [0, 0], [1 0; 0 1])\u001b[39m\n",
       "\u001b[36m  3-element Vector{Vector{Float64}}:\u001b[39m\n",
       "\u001b[36m   [-0.15290525182234904, 0.8715880371871617]\u001b[39m\n",
       "\u001b[36m   [-1.1283800329864322, -0.9256584563613383]\u001b[39m\n",
       "\u001b[36m   [-0.5384758126777555, -0.8141702145510666]\u001b[39m"
      ]
     },
     "metadata": {},
     "output_type": "display_data"
    }
   ],
   "source": [
    "@doc normal_rand_vector_pop"
   ]
  },
  {
   "cell_type": "code",
   "execution_count": 4,
   "metadata": {},
   "outputs": [
    {
     "data": {
      "text/plain": [
       "3-element Vector{Vector{Float64}}:\n",
       " [-0.25289759101653736, 1.0150132241600427]\n",
       " [-0.9053394512418402, 0.6058801355483802]\n",
       " [0.5784934203305488, -0.20665678122470943]"
      ]
     },
     "metadata": {},
     "output_type": "display_data"
    }
   ],
   "source": [
    "pop_size = 50\n",
    "population = normal_rand_vector_pop(pop_size, [0, 0], [1 0; 0 1])\n",
    "first(population, 3)"
   ]
  },
  {
   "attachments": {},
   "cell_type": "markdown",
   "metadata": {},
   "source": [
    "In a GA, we have _selection_, _crossover_ and _mutation_.\n",
    "\n",
    "We can easily set up these operators using the built-ins provided by EvoLP.\n",
    "\n",
    "Let's use rank based selection and interpolation crossover with 0.5 as the scaling factor:"
   ]
  },
  {
   "cell_type": "code",
   "execution_count": 5,
   "metadata": {},
   "outputs": [
    {
     "data": {
      "text/latex": [
       "Interpolation crossover with scaling parameter \\texttt{λ}.\n",
       "\n"
      ],
      "text/markdown": [
       "Interpolation crossover with scaling parameter `λ`.\n"
      ],
      "text/plain": [
       "  Interpolation crossover with scaling parameter \u001b[36mλ\u001b[39m."
      ]
     },
     "metadata": {},
     "output_type": "display_data"
    }
   ],
   "source": [
    "@doc InterpolationCrossover"
   ]
  },
  {
   "cell_type": "code",
   "execution_count": 6,
   "metadata": {},
   "outputs": [
    {
     "data": {
      "text/plain": [
       "InterpolationCrossover(0.5)"
      ]
     },
     "metadata": {},
     "output_type": "display_data"
    }
   ],
   "source": [
    "S = RankBasedSelectionGenerational()\n",
    "C = InterpolationCrossover(0.5)"
   ]
  },
  {
   "attachments": {},
   "cell_type": "markdown",
   "metadata": {},
   "source": [
    "For mutation, we can use a Gaussian approach:"
   ]
  },
  {
   "cell_type": "code",
   "execution_count": 7,
   "metadata": {},
   "outputs": [
    {
     "data": {
      "text/latex": [
       "Gaussian mutation with standard deviation \\texttt{σ}, which should be a real number.\n",
       "\n"
      ],
      "text/markdown": [
       "Gaussian mutation with standard deviation `σ`, which should be a real number.\n"
      ],
      "text/plain": [
       "  Gaussian mutation with standard deviation \u001b[36mσ\u001b[39m, which should be a real number."
      ]
     },
     "metadata": {},
     "output_type": "display_data"
    }
   ],
   "source": [
    "@doc GaussianMutation"
   ]
  },
  {
   "cell_type": "code",
   "execution_count": 8,
   "metadata": {},
   "outputs": [
    {
     "data": {
      "text/plain": [
       "GaussianMutation(0.05)"
      ]
     },
     "metadata": {},
     "output_type": "display_data"
    }
   ],
   "source": [
    "M = GaussianMutation(0.05)"
   ]
  },
  {
   "attachments": {},
   "cell_type": "markdown",
   "metadata": {},
   "source": [
    "We can use the `Logbook` to record statistics about our run:"
   ]
  },
  {
   "cell_type": "code",
   "execution_count": 9,
   "metadata": {},
   "outputs": [
    {
     "data": {
      "text/plain": [
       "Logbook(LittleDict{AbstractString, Function, Vector{AbstractString}, Vector{Function}}(\"mean_eval\" => Statistics.mean, \"max_f\" => maximum, \"min_f\" => minimum, \"median_f\" => Statistics.median), NamedTuple{(:mean_eval, :max_f, :min_f, :median_f)}[])"
      ]
     },
     "metadata": {},
     "output_type": "display_data"
    }
   ],
   "source": [
    "statnames = [\"mean_eval\", \"max_f\", \"min_f\", \"median_f\"]\n",
    "fns = [mean, maximum, minimum, median]\n",
    "thedict = LittleDict(statnames, fns)\n",
    "thelogger = Logbook(thedict)"
   ]
  },
  {
   "attachments": {},
   "cell_type": "markdown",
   "metadata": {},
   "source": [
    "And now we're ready to use the `GA` built-in algorithm:"
   ]
  },
  {
   "cell_type": "code",
   "execution_count": 10,
   "metadata": {},
   "outputs": [
    {
     "data": {
      "text/latex": [
       "\\begin{verbatim}\n",
       "GA(f, pop, k_max, S, C, M)\n",
       "GA(logbook::Logbook, f, population, k_max, S, C, M)\n",
       "\\end{verbatim}\n",
       "Generational Genetic Algorithm.\n",
       "\n",
       "\\subsection{Arguments}\n",
       "\\begin{itemize}\n",
       "\\item \\texttt{f::Function}: objective function to \\textbf{minimise}.\n",
       "\n",
       "\n",
       "\\item \\texttt{population::AbstractVector}: a list of vector individuals.\n",
       "\n",
       "\n",
       "\\item \\texttt{k\\_max::Integer}: number of iterations.\n",
       "\n",
       "\n",
       "\\item \\texttt{S::SelectionMethod}: one of the available \\href{@ref}{\\texttt{SelectionMethod}}.\n",
       "\n",
       "\n",
       "\\item \\texttt{C::CrossoverMethod}: one of the available \\href{@ref}{\\texttt{CrossoverMethod}}.\n",
       "\n",
       "\n",
       "\\item \\texttt{M::MutationMethod}: one of the available \\href{@ref}{\\texttt{MutationMethod}}.\n",
       "\n",
       "\\end{itemize}\n",
       "Returns a \\href{@ref}{\\texttt{Result}}.\n",
       "\n"
      ],
      "text/markdown": [
       "```\n",
       "GA(f, pop, k_max, S, C, M)\n",
       "GA(logbook::Logbook, f, population, k_max, S, C, M)\n",
       "```\n",
       "\n",
       "Generational Genetic Algorithm.\n",
       "\n",
       "## Arguments\n",
       "\n",
       "  * `f::Function`: objective function to **minimise**.\n",
       "  * `population::AbstractVector`: a list of vector individuals.\n",
       "  * `k_max::Integer`: number of iterations.\n",
       "  * `S::SelectionMethod`: one of the available [`SelectionMethod`](@ref).\n",
       "  * `C::CrossoverMethod`: one of the available [`CrossoverMethod`](@ref).\n",
       "  * `M::MutationMethod`: one of the available [`MutationMethod`](@ref).\n",
       "\n",
       "Returns a [`Result`](@ref).\n"
      ],
      "text/plain": [
       "\u001b[36m  GA(f, pop, k_max, S, C, M)\u001b[39m\n",
       "\u001b[36m  GA(logbook::Logbook, f, population, k_max, S, C, M)\u001b[39m\n",
       "\n",
       "  Generational Genetic Algorithm.\n",
       "\n",
       "\u001b[1m  Arguments\u001b[22m\n",
       "\u001b[1m  ===========\u001b[22m\n",
       "\n",
       "    •  \u001b[36mf::Function\u001b[39m: objective function to \u001b[1mminimise\u001b[22m.\n",
       "\n",
       "    •  \u001b[36mpopulation::AbstractVector\u001b[39m: a list of vector individuals.\n",
       "\n",
       "    •  \u001b[36mk_max::Integer\u001b[39m: number of iterations.\n",
       "\n",
       "    •  \u001b[36mS::SelectionMethod\u001b[39m: one of the available \u001b[36mSelectionMethod\u001b[39m.\n",
       "\n",
       "    •  \u001b[36mC::CrossoverMethod\u001b[39m: one of the available \u001b[36mCrossoverMethod\u001b[39m.\n",
       "\n",
       "    •  \u001b[36mM::MutationMethod\u001b[39m: one of the available \u001b[36mMutationMethod\u001b[39m.\n",
       "\n",
       "  Returns a \u001b[36mResult\u001b[39m."
      ]
     },
     "metadata": {},
     "output_type": "display_data"
    }
   ],
   "source": [
    "@doc GA"
   ]
  },
  {
   "cell_type": "code",
   "execution_count": 11,
   "metadata": {},
   "outputs": [],
   "source": [
    "result = GA(thelogger, rosenbrock, population, 500, S, C, M);"
   ]
  },
  {
   "attachments": {},
   "cell_type": "markdown",
   "metadata": {},
   "source": [
    "The output was suppressed so that we can analyse each part of the result separately:"
   ]
  },
  {
   "cell_type": "code",
   "execution_count": 12,
   "metadata": {},
   "outputs": [
    {
     "name": "stdout",
     "output_type": "stream",
     "text": [
      "optimum(result) = 0.00015325530365919114\n",
      "optimizer(result) = "
     ]
    },
    {
     "name": "stdout",
     "output_type": "stream",
     "text": [
      "[0.9295343671510049, 0.9158201966396184]\n",
      "f_calls(result) = 25000\n",
      "thelogger.records[end] = (mean_eval = 0.07544433008393486, max_f = 0.43255087263181813, min_f = 0.00015325530365919114, median_f = 0.0424343220731829)\n"
     ]
    },
    {
     "data": {
      "text/plain": [
       "(mean_eval = 0.07544433008393486, max_f = 0.43255087263181813, min_f = 0.00015325530365919114, median_f = 0.0424343220731829)"
      ]
     },
     "metadata": {},
     "output_type": "display_data"
    }
   ],
   "source": [
    "@show optimum(result)\n",
    "\n",
    "@show optimizer(result)\n",
    "\n",
    "@show f_calls(result)\n",
    "\n",
    "@show thelogger.records[end]"
   ]
  },
  {
   "cell_type": "code",
   "execution_count": 13,
   "metadata": {},
   "outputs": [],
   "source": [
    "using DataFrames"
   ]
  },
  {
   "cell_type": "code",
   "execution_count": 14,
   "metadata": {},
   "outputs": [
    {
     "data": {
      "text/html": [
       "<div><div style = \"float: left;\"><span>500×4 DataFrame</span></div><div style = \"float: right;\"><span style = \"font-style: italic;\">475 rows omitted</span></div><div style = \"clear: both;\"></div></div><div class = \"data-frame\" style = \"overflow-x: scroll;\"><table class = \"data-frame\" style = \"margin-bottom: 6px;\"><thead><tr class = \"header\"><th class = \"rowNumber\" style = \"font-weight: bold; text-align: right;\">Row</th><th style = \"text-align: left;\">mean_eval</th><th style = \"text-align: left;\">max_f</th><th style = \"text-align: left;\">min_f</th><th style = \"text-align: left;\">median_f</th></tr><tr class = \"subheader headerLastRow\"><th class = \"rowNumber\" style = \"font-weight: bold; text-align: right;\"></th><th title = \"Float64\" style = \"text-align: left;\">Float64</th><th title = \"Float64\" style = \"text-align: left;\">Float64</th><th title = \"Float64\" style = \"text-align: left;\">Float64</th><th title = \"Float64\" style = \"text-align: left;\">Float64</th></tr></thead><tbody><tr><td class = \"rowNumber\" style = \"font-weight: bold; text-align: right;\">1</td><td style = \"text-align: right;\">22.0251</td><td style = \"text-align: right;\">406.9</td><td style = \"text-align: right;\">0.447041</td><td style = \"text-align: right;\">6.78992</td></tr><tr><td class = \"rowNumber\" style = \"font-weight: bold; text-align: right;\">2</td><td style = \"text-align: right;\">3.61617</td><td style = \"text-align: right;\">36.062</td><td style = \"text-align: right;\">0.124031</td><td style = \"text-align: right;\">1.96466</td></tr><tr><td class = \"rowNumber\" style = \"font-weight: bold; text-align: right;\">3</td><td style = \"text-align: right;\">1.13189</td><td style = \"text-align: right;\">3.18343</td><td style = \"text-align: right;\">0.127583</td><td style = \"text-align: right;\">1.07601</td></tr><tr><td class = \"rowNumber\" style = \"font-weight: bold; text-align: right;\">4</td><td style = \"text-align: right;\">0.781777</td><td style = \"text-align: right;\">1.6644</td><td style = \"text-align: right;\">0.309661</td><td style = \"text-align: right;\">0.711803</td></tr><tr><td class = \"rowNumber\" style = \"font-weight: bold; text-align: right;\">5</td><td style = \"text-align: right;\">0.593735</td><td style = \"text-align: right;\">0.935043</td><td style = \"text-align: right;\">0.294026</td><td style = \"text-align: right;\">0.588684</td></tr><tr><td class = \"rowNumber\" style = \"font-weight: bold; text-align: right;\">6</td><td style = \"text-align: right;\">0.527621</td><td style = \"text-align: right;\">0.766033</td><td style = \"text-align: right;\">0.315916</td><td style = \"text-align: right;\">0.518089</td></tr><tr><td class = \"rowNumber\" style = \"font-weight: bold; text-align: right;\">7</td><td style = \"text-align: right;\">0.522381</td><td style = \"text-align: right;\">0.745129</td><td style = \"text-align: right;\">0.37027</td><td style = \"text-align: right;\">0.527158</td></tr><tr><td class = \"rowNumber\" style = \"font-weight: bold; text-align: right;\">8</td><td style = \"text-align: right;\">0.493569</td><td style = \"text-align: right;\">0.807639</td><td style = \"text-align: right;\">0.275269</td><td style = \"text-align: right;\">0.498038</td></tr><tr><td class = \"rowNumber\" style = \"font-weight: bold; text-align: right;\">9</td><td style = \"text-align: right;\">0.429047</td><td style = \"text-align: right;\">0.598718</td><td style = \"text-align: right;\">0.254738</td><td style = \"text-align: right;\">0.43252</td></tr><tr><td class = \"rowNumber\" style = \"font-weight: bold; text-align: right;\">10</td><td style = \"text-align: right;\">0.389763</td><td style = \"text-align: right;\">0.515177</td><td style = \"text-align: right;\">0.268521</td><td style = \"text-align: right;\">0.388166</td></tr><tr><td class = \"rowNumber\" style = \"font-weight: bold; text-align: right;\">11</td><td style = \"text-align: right;\">0.384828</td><td style = \"text-align: right;\">0.794565</td><td style = \"text-align: right;\">0.254907</td><td style = \"text-align: right;\">0.368252</td></tr><tr><td class = \"rowNumber\" style = \"font-weight: bold; text-align: right;\">12</td><td style = \"text-align: right;\">0.360932</td><td style = \"text-align: right;\">0.66405</td><td style = \"text-align: right;\">0.249716</td><td style = \"text-align: right;\">0.346168</td></tr><tr><td class = \"rowNumber\" style = \"font-weight: bold; text-align: right;\">13</td><td style = \"text-align: right;\">0.350562</td><td style = \"text-align: right;\">0.600467</td><td style = \"text-align: right;\">0.227025</td><td style = \"text-align: right;\">0.333479</td></tr><tr><td style = \"text-align: right;\">&vellip;</td><td style = \"text-align: right;\">&vellip;</td><td style = \"text-align: right;\">&vellip;</td><td style = \"text-align: right;\">&vellip;</td><td style = \"text-align: right;\">&vellip;</td></tr><tr><td class = \"rowNumber\" style = \"font-weight: bold; text-align: right;\">489</td><td style = \"text-align: right;\">0.0720991</td><td style = \"text-align: right;\">0.423291</td><td style = \"text-align: right;\">0.000667284</td><td style = \"text-align: right;\">0.0357417</td></tr><tr><td class = \"rowNumber\" style = \"font-weight: bold; text-align: right;\">490</td><td style = \"text-align: right;\">0.0735324</td><td style = \"text-align: right;\">0.386432</td><td style = \"text-align: right;\">0.000399894</td><td style = \"text-align: right;\">0.0388931</td></tr><tr><td class = \"rowNumber\" style = \"font-weight: bold; text-align: right;\">491</td><td style = \"text-align: right;\">0.0551658</td><td style = \"text-align: right;\">0.261441</td><td style = \"text-align: right;\">3.31315e-5</td><td style = \"text-align: right;\">0.0323183</td></tr><tr><td class = \"rowNumber\" style = \"font-weight: bold; text-align: right;\">492</td><td style = \"text-align: right;\">0.0749101</td><td style = \"text-align: right;\">0.370465</td><td style = \"text-align: right;\">0.000137898</td><td style = \"text-align: right;\">0.0256971</td></tr><tr><td class = \"rowNumber\" style = \"font-weight: bold; text-align: right;\">493</td><td style = \"text-align: right;\">0.0673835</td><td style = \"text-align: right;\">0.445777</td><td style = \"text-align: right;\">0.000186547</td><td style = \"text-align: right;\">0.031397</td></tr><tr><td class = \"rowNumber\" style = \"font-weight: bold; text-align: right;\">494</td><td style = \"text-align: right;\">0.13197</td><td style = \"text-align: right;\">1.55455</td><td style = \"text-align: right;\">0.000385237</td><td style = \"text-align: right;\">0.0550304</td></tr><tr><td class = \"rowNumber\" style = \"font-weight: bold; text-align: right;\">495</td><td style = \"text-align: right;\">0.0929212</td><td style = \"text-align: right;\">0.480931</td><td style = \"text-align: right;\">0.000562428</td><td style = \"text-align: right;\">0.0534073</td></tr><tr><td class = \"rowNumber\" style = \"font-weight: bold; text-align: right;\">496</td><td style = \"text-align: right;\">0.0957949</td><td style = \"text-align: right;\">0.724942</td><td style = \"text-align: right;\">0.00181208</td><td style = \"text-align: right;\">0.0236198</td></tr><tr><td class = \"rowNumber\" style = \"font-weight: bold; text-align: right;\">497</td><td style = \"text-align: right;\">0.0907079</td><td style = \"text-align: right;\">0.682467</td><td style = \"text-align: right;\">1.1188e-5</td><td style = \"text-align: right;\">0.0402871</td></tr><tr><td class = \"rowNumber\" style = \"font-weight: bold; text-align: right;\">498</td><td style = \"text-align: right;\">0.0870497</td><td style = \"text-align: right;\">0.411671</td><td style = \"text-align: right;\">0.00099613</td><td style = \"text-align: right;\">0.0325288</td></tr><tr><td class = \"rowNumber\" style = \"font-weight: bold; text-align: right;\">499</td><td style = \"text-align: right;\">0.0888973</td><td style = \"text-align: right;\">0.60451</td><td style = \"text-align: right;\">0.000355061</td><td style = \"text-align: right;\">0.0320864</td></tr><tr><td class = \"rowNumber\" style = \"font-weight: bold; text-align: right;\">500</td><td style = \"text-align: right;\">0.0754443</td><td style = \"text-align: right;\">0.432551</td><td style = \"text-align: right;\">0.000153255</td><td style = \"text-align: right;\">0.0424343</td></tr></tbody></table></div>"
      ],
      "text/latex": [
       "\\begin{tabular}{r|cccc}\n",
       "\t& mean\\_eval & max\\_f & min\\_f & median\\_f\\\\\n",
       "\t\\hline\n",
       "\t& Float64 & Float64 & Float64 & Float64\\\\\n",
       "\t\\hline\n",
       "\t1 & 22.0251 & 406.9 & 0.447041 & 6.78992 \\\\\n",
       "\t2 & 3.61617 & 36.062 & 0.124031 & 1.96466 \\\\\n",
       "\t3 & 1.13189 & 3.18343 & 0.127583 & 1.07601 \\\\\n",
       "\t4 & 0.781777 & 1.6644 & 0.309661 & 0.711803 \\\\\n",
       "\t5 & 0.593735 & 0.935043 & 0.294026 & 0.588684 \\\\\n",
       "\t6 & 0.527621 & 0.766033 & 0.315916 & 0.518089 \\\\\n",
       "\t7 & 0.522381 & 0.745129 & 0.37027 & 0.527158 \\\\\n",
       "\t8 & 0.493569 & 0.807639 & 0.275269 & 0.498038 \\\\\n",
       "\t9 & 0.429047 & 0.598718 & 0.254738 & 0.43252 \\\\\n",
       "\t10 & 0.389763 & 0.515177 & 0.268521 & 0.388166 \\\\\n",
       "\t11 & 0.384828 & 0.794565 & 0.254907 & 0.368252 \\\\\n",
       "\t12 & 0.360932 & 0.66405 & 0.249716 & 0.346168 \\\\\n",
       "\t13 & 0.350562 & 0.600467 & 0.227025 & 0.333479 \\\\\n",
       "\t14 & 0.315959 & 0.449972 & 0.200366 & 0.30942 \\\\\n",
       "\t15 & 0.305003 & 0.550635 & 0.188084 & 0.290691 \\\\\n",
       "\t16 & 0.268375 & 0.50816 & 0.175118 & 0.260758 \\\\\n",
       "\t17 & 0.262002 & 0.52276 & 0.135338 & 0.263169 \\\\\n",
       "\t18 & 0.247108 & 0.40219 & 0.146739 & 0.233977 \\\\\n",
       "\t19 & 0.260899 & 0.890903 & 0.163155 & 0.230113 \\\\\n",
       "\t20 & 0.226297 & 0.535469 & 0.126746 & 0.218122 \\\\\n",
       "\t21 & 0.228721 & 0.46915 & 0.126006 & 0.200131 \\\\\n",
       "\t22 & 0.203057 & 0.329293 & 0.094152 & 0.203147 \\\\\n",
       "\t23 & 0.193795 & 0.374921 & 0.0899032 & 0.181989 \\\\\n",
       "\t24 & 0.18474 & 0.399056 & 0.0850235 & 0.172551 \\\\\n",
       "\t$\\dots$ & $\\dots$ & $\\dots$ & $\\dots$ & $\\dots$ \\\\\n",
       "\\end{tabular}\n"
      ],
      "text/plain": [
       "\u001b[1m500×4 DataFrame\u001b[0m\n",
       "\u001b[1m Row \u001b[0m│\u001b[1m mean_eval  \u001b[0m\u001b[1m max_f      \u001b[0m\u001b[1m min_f       \u001b[0m\u001b[1m median_f  \u001b[0m\n",
       "     │\u001b[90m Float64    \u001b[0m\u001b[90m Float64    \u001b[0m\u001b[90m Float64     \u001b[0m\u001b[90m Float64   \u001b[0m\n",
       "─────┼────────────────────────────────────────────────\n",
       "   1 │ 22.0251     406.9       0.447041     6.78992\n",
       "   2 │  3.61617     36.062     0.124031     1.96466\n",
       "   3 │  1.13189      3.18343   0.127583     1.07601\n",
       "   4 │  0.781777     1.6644    0.309661     0.711803\n",
       "   5 │  0.593735     0.935043  0.294026     0.588684\n",
       "   6 │  0.527621     0.766033  0.315916     0.518089\n",
       "   7 │  0.522381     0.745129  0.37027      0.527158\n",
       "   8 │  0.493569     0.807639  0.275269     0.498038\n",
       "  ⋮  │     ⋮           ⋮            ⋮           ⋮\n",
       " 494 │  0.13197      1.55455   0.000385237  0.0550304\n",
       " 495 │  0.0929212    0.480931  0.000562428  0.0534073\n",
       " 496 │  0.0957949    0.724942  0.00181208   0.0236198\n",
       " 497 │  0.0907079    0.682467  1.1188e-5    0.0402871\n",
       " 498 │  0.0870497    0.411671  0.00099613   0.0325288\n",
       " 499 │  0.0888973    0.60451   0.000355061  0.0320864\n",
       " 500 │  0.0754443    0.432551  0.000153255  0.0424343\n",
       "\u001b[36m                                      485 rows omitted\u001b[0m"
      ]
     },
     "metadata": {},
     "output_type": "display_data"
    }
   ],
   "source": [
    "DataFrame(thelogger.records)"
   ]
  }
 ],
 "metadata": {
  "kernelspec": {
   "display_name": "Julia 1.9.0",
   "language": "julia",
   "name": "julia-1.9"
  },
  "language_info": {
   "file_extension": ".jl",
   "mimetype": "application/julia",
   "name": "julia",
   "version": "1.9.0"
  },
  "vscode": {
   "interpreter": {
    "hash": "916dbcbb3f70747c44a77c7bcd40155683ae19c65e1c03b4aa3499c5328201f1"
   }
  }
 },
 "nbformat": 4,
 "nbformat_minor": 2
}
