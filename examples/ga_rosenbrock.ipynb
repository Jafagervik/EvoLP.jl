{
 "cells": [
  {
   "attachments": {},
   "cell_type": "markdown",
   "metadata": {},
   "source": [
    "# Genetic Algorithm\n",
    "\n",
    "This notebook showcases how to use the built-in Genetic Algorithm (GA)"
   ]
  },
  {
   "cell_type": "code",
   "execution_count": 1,
   "metadata": {},
   "outputs": [],
   "source": [
    "using Statistics\n",
    "using EvoLP\n",
    "using OrderedCollections"
   ]
  },
  {
   "attachments": {},
   "cell_type": "markdown",
   "metadata": {},
   "source": [
    "For this example we will use the **Rosenbrock** function:"
   ]
  },
  {
   "cell_type": "code",
   "execution_count": 2,
   "metadata": {},
   "outputs": [
    {
     "data": {
      "text/latex": [
       "\\begin{verbatim}\n",
       "rosenbrock(x; a=1, b=5)\n",
       "\\end{verbatim}\n",
       "\\textbf{Rosenbrock} benchmark function. With $a=1$ and $b=5$, minimum is at $f([a, a^2]) = 0$\n",
       "\n",
       "$$f(x) = (a - x_1)^2 + b(x_2 - x_1^2)^2$$\n"
      ],
      "text/markdown": [
       "```\n",
       "rosenbrock(x; a=1, b=5)\n",
       "```\n",
       "\n",
       "**Rosenbrock** benchmark function. With $a=1$ and $b=5$, minimum is at $f([a, a^2]) = 0$\n",
       "\n",
       "$$\n",
       "f(x) = (a - x_1)^2 + b(x_2 - x_1^2)^2\n",
       "$$\n"
      ],
      "text/plain": [
       "\u001b[36m  rosenbrock(x; a=1, b=5)\u001b[39m\n",
       "\n",
       "  \u001b[1mRosenbrock\u001b[22m benchmark function. With \u001b[35ma=1\u001b[39m and \u001b[35mb=5\u001b[39m, minimum is at \u001b[35mf([a, a^2]) =\n",
       "  0\u001b[39m\n",
       "\n",
       "\u001b[35m  f(x) = (a - x_1)^2 + b(x_2 - x_1^2)^2\u001b[39m"
      ]
     },
     "metadata": {},
     "output_type": "display_data"
    }
   ],
   "source": [
    "@doc rosenbrock"
   ]
  },
  {
   "attachments": {},
   "cell_type": "markdown",
   "metadata": {},
   "source": [
    "In a GA, we use vectors as _individuals_.\n",
    "\n",
    "Let's start creating the population. For that, we can use a generator. Let's use the normal generator:"
   ]
  },
  {
   "cell_type": "code",
   "execution_count": 3,
   "metadata": {},
   "outputs": [
    {
     "data": {
      "text/latex": [
       "\\begin{verbatim}\n",
       "rand_pop_normal(n, μ, Σ)\n",
       "\\end{verbatim}\n",
       "Generate a population of \\texttt{n} vector individuals using a normal distribution with means \\texttt{μ} and covariance \\texttt{Σ}.\n",
       "\n",
       "\\texttt{μ} expects a vector of length \\emph{l} (i.e. length of an individual) while \\texttt{Σ} expects an \\emph{l x l} matrix of covariances\n",
       "\n"
      ],
      "text/markdown": [
       "```\n",
       "rand_pop_normal(n, μ, Σ)\n",
       "```\n",
       "\n",
       "Generate a population of `n` vector individuals using a normal distribution with means `μ` and covariance `Σ`.\n",
       "\n",
       "`μ` expects a vector of length *l* (i.e. length of an individual) while `Σ` expects an *l x l* matrix of covariances\n"
      ],
      "text/plain": [
       "\u001b[36m  rand_pop_normal(n, μ, Σ)\u001b[39m\n",
       "\n",
       "  Generate a population of \u001b[36mn\u001b[39m vector individuals using a normal distribution\n",
       "  with means \u001b[36mμ\u001b[39m and covariance \u001b[36mΣ\u001b[39m.\n",
       "\n",
       "  \u001b[36mμ\u001b[39m expects a vector of length \u001b[4ml\u001b[24m (i.e. length of an individual) while \u001b[36mΣ\u001b[39m\n",
       "  expects an \u001b[4ml x l\u001b[24m matrix of covariances"
      ]
     },
     "metadata": {},
     "output_type": "display_data"
    }
   ],
   "source": [
    "@doc rand_pop_normal"
   ]
  },
  {
   "cell_type": "code",
   "execution_count": 4,
   "metadata": {},
   "outputs": [
    {
     "data": {
      "text/plain": [
       "3-element Vector{Vector{Float64}}:\n",
       " [1.9508235863205539, 0.06400112093452046]\n",
       " [-0.4771474992721217, 1.6597904116187647]\n",
       " [-0.2619635641463636, -0.02039804264693687]"
      ]
     },
     "metadata": {},
     "output_type": "display_data"
    }
   ],
   "source": [
    "pop_size = 50\n",
    "population = rand_pop_normal(pop_size, [0, 0], [1 0; 0 1])\n",
    "first(population, 3)"
   ]
  },
  {
   "attachments": {},
   "cell_type": "markdown",
   "metadata": {},
   "source": [
    "In a GA, we have _selection_, _crossover_ and _mutation_.\n",
    "\n",
    "We can easily set up these operators using the built-ins provided by EvoLP.\n",
    "\n",
    "Let's use rank based selection and single point crossover:"
   ]
  },
  {
   "cell_type": "code",
   "execution_count": 5,
   "metadata": {},
   "outputs": [
    {
     "data": {
      "text/plain": [
       "SinglePointCrossover()"
      ]
     },
     "metadata": {},
     "output_type": "display_data"
    }
   ],
   "source": [
    "S = RankBasedSelectionGenerational()\n",
    "C = SinglePointCrossover()"
   ]
  },
  {
   "attachments": {},
   "cell_type": "markdown",
   "metadata": {},
   "source": [
    "For mutation, we can use a Gaussian approach:"
   ]
  },
  {
   "cell_type": "code",
   "execution_count": 6,
   "metadata": {},
   "outputs": [
    {
     "data": {
      "text/latex": [
       "Gaussian mutation with standard deviation \\texttt{σ}.\n",
       "\n"
      ],
      "text/markdown": [
       "Gaussian mutation with standard deviation `σ`.\n"
      ],
      "text/plain": [
       "  Gaussian mutation with standard deviation \u001b[36mσ\u001b[39m."
      ]
     },
     "metadata": {},
     "output_type": "display_data"
    }
   ],
   "source": [
    "@doc GaussianMutation"
   ]
  },
  {
   "cell_type": "code",
   "execution_count": 7,
   "metadata": {},
   "outputs": [
    {
     "data": {
      "text/plain": [
       "GaussianMutation(0.65)"
      ]
     },
     "metadata": {},
     "output_type": "display_data"
    }
   ],
   "source": [
    "M = GaussianMutation(0.65)"
   ]
  },
  {
   "attachments": {},
   "cell_type": "markdown",
   "metadata": {},
   "source": [
    "We can use the `Logbook` to record statistics about our run:"
   ]
  },
  {
   "cell_type": "code",
   "execution_count": 8,
   "metadata": {},
   "outputs": [
    {
     "data": {
      "text/plain": [
       "Logbook(LittleDict{AbstractString, Function, Vector{AbstractString}, Vector{Function}}(\"mean_eval\" => Statistics.mean, \"max_f\" => maximum, \"min_f\" => minimum, \"median_f\" => Statistics.median), NamedTuple{(:mean_eval, :max_f, :min_f, :median_f)}[])"
      ]
     },
     "metadata": {},
     "output_type": "display_data"
    }
   ],
   "source": [
    "statnames = [\"mean_eval\", \"max_f\", \"min_f\", \"median_f\"]\n",
    "fns = [mean, maximum, minimum, median]\n",
    "thedict = LittleDict(statnames, fns)\n",
    "thelogger = Logbook(thedict)"
   ]
  },
  {
   "attachments": {},
   "cell_type": "markdown",
   "metadata": {},
   "source": [
    "And now we're ready to use the `GA` built-in algorithm:"
   ]
  },
  {
   "cell_type": "code",
   "execution_count": 9,
   "metadata": {},
   "outputs": [
    {
     "data": {
      "text/latex": [
       "\\begin{verbatim}\n",
       "GA(f::Function, pop, k_max, S, C, M)\n",
       "GA(logbook::Logbook, f::Function, pop, k_max, S, C, M)\n",
       "\\end{verbatim}\n",
       "Generational Genetic Algorithm.\n",
       "\n",
       "\\subsection{Arguments}\n",
       "\\begin{itemize}\n",
       "\\item \\texttt{f}: Objective function to minimise\n",
       "\n",
       "\n",
       "\\item \\texttt{pop}: Population—a list of individuals.\n",
       "\n",
       "\n",
       "\\item \\texttt{k\\_max}: maximum iterations\n",
       "\n",
       "\n",
       "\\item \\texttt{S::SelectionMethod}: a selection method. See selection.\n",
       "\n",
       "\n",
       "\\item \\texttt{C::CrossoverMethod}: a crossover method. See crossover.\n",
       "\n",
       "\n",
       "\\item \\texttt{M::MutationMethod}: a mutation method. See mutation.\n",
       "\n",
       "\\end{itemize}\n",
       "Returns a \\texttt{Result} type of the form:\n",
       "\n",
       "$$\\big( f(x^*), x^*, pop, k_{max}, f_{calls} \\big)$$\n"
      ],
      "text/markdown": [
       "```\n",
       "GA(f::Function, pop, k_max, S, C, M)\n",
       "GA(logbook::Logbook, f::Function, pop, k_max, S, C, M)\n",
       "```\n",
       "\n",
       "Generational Genetic Algorithm.\n",
       "\n",
       "## Arguments\n",
       "\n",
       "  * `f`: Objective function to minimise\n",
       "  * `pop`: Population—a list of individuals.\n",
       "  * `k_max`: maximum iterations\n",
       "  * `S::SelectionMethod`: a selection method. See selection.\n",
       "  * `C::CrossoverMethod`: a crossover method. See crossover.\n",
       "  * `M::MutationMethod`: a mutation method. See mutation.\n",
       "\n",
       "Returns a `Result` type of the form:\n",
       "\n",
       "$$\n",
       "\\big( f(x^*), x^*, pop, k_{max}, f_{calls} \\big)\n",
       "$$\n"
      ],
      "text/plain": [
       "\u001b[36m  GA(f::Function, pop, k_max, S, C, M)\u001b[39m\n",
       "\u001b[36m  GA(logbook::Logbook, f::Function, pop, k_max, S, C, M)\u001b[39m\n",
       "\n",
       "  Generational Genetic Algorithm.\n",
       "\n",
       "\u001b[1m  Arguments\u001b[22m\n",
       "\u001b[1m  ===========\u001b[22m\n",
       "\n",
       "    •  \u001b[36mf\u001b[39m: Objective function to minimise\n",
       "\n",
       "    •  \u001b[36mpop\u001b[39m: Population—a list of individuals.\n",
       "\n",
       "    •  \u001b[36mk_max\u001b[39m: maximum iterations\n",
       "\n",
       "    •  \u001b[36mS::SelectionMethod\u001b[39m: a selection method. See selection.\n",
       "\n",
       "    •  \u001b[36mC::CrossoverMethod\u001b[39m: a crossover method. See crossover.\n",
       "\n",
       "    •  \u001b[36mM::MutationMethod\u001b[39m: a mutation method. See mutation.\n",
       "\n",
       "  Returns a \u001b[36mResult\u001b[39m type of the form:\n",
       "\n",
       "\u001b[35m  \\big( f(x^*), x^*, pop, k_{max}, f_{calls} \\big)\u001b[39m"
      ]
     },
     "metadata": {},
     "output_type": "display_data"
    }
   ],
   "source": [
    "@doc GA"
   ]
  },
  {
   "cell_type": "code",
   "execution_count": 10,
   "metadata": {},
   "outputs": [],
   "source": [
    "result = GA(thelogger, rosenbrock, population, 200, S, C, M);"
   ]
  },
  {
   "attachments": {},
   "cell_type": "markdown",
   "metadata": {},
   "source": [
    "The output was suppressed so that we can analyse each part of the result separately:"
   ]
  },
  {
   "cell_type": "code",
   "execution_count": 11,
   "metadata": {},
   "outputs": [
    {
     "name": "stdout",
     "output_type": "stream",
     "text": [
      "optimum(result) = 0.009004347905246778\n",
      "optimizer(result) = [1.0176751433433628, 0.9939687236823952]\n"
     ]
    },
    {
     "name": "stdout",
     "output_type": "stream",
     "text": [
      "f_calls(result) = 20050\n",
      "thelogger.records[end] = (mean_eval = 24.994362694190258, max_f = 353.97613737583487, min_f = 0.009004347905246778, median_f = 5.53320307967787)\n"
     ]
    },
    {
     "data": {
      "text/plain": [
       "(mean_eval = 24.994362694190258, max_f = 353.97613737583487, min_f = 0.009004347905246778, median_f = 5.53320307967787)"
      ]
     },
     "metadata": {},
     "output_type": "display_data"
    }
   ],
   "source": [
    "@show optimum(result)\n",
    "\n",
    "@show optimizer(result)\n",
    "\n",
    "@show f_calls(result)\n",
    "\n",
    "@show thelogger.records[end]"
   ]
  }
 ],
 "metadata": {
  "kernelspec": {
   "display_name": "Julia 1.8.3",
   "language": "julia",
   "name": "julia-1.8"
  },
  "language_info": {
   "file_extension": ".jl",
   "mimetype": "application/julia",
   "name": "julia",
   "version": "1.8.3"
  },
  "orig_nbformat": 4,
  "vscode": {
   "interpreter": {
    "hash": "916dbcbb3f70747c44a77c7bcd40155683ae19c65e1c03b4aa3499c5328201f1"
   }
  }
 },
 "nbformat": 4,
 "nbformat_minor": 2
}
