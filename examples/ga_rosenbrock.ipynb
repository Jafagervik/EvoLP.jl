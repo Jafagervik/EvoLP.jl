{
 "cells": [
  {
   "cell_type": "markdown",
   "metadata": {},
   "source": [
    "# Genetic Algorithm\n",
    "\n",
    "This notebook showcases how to use the built-in Genetic Algorithm (GA)"
   ]
  },
  {
   "cell_type": "code",
   "execution_count": 1,
   "metadata": {},
   "outputs": [],
   "source": [
    "using Statistics\n",
    "using EvoLP\n",
    "using OrderedCollections"
   ]
  },
  {
   "cell_type": "markdown",
   "metadata": {},
   "source": [
    "For this example we will use the **Rosenbrock** function:"
   ]
  },
  {
   "cell_type": "code",
   "execution_count": 2,
   "metadata": {},
   "outputs": [
    {
     "data": {
      "text/latex": [
       "\\begin{verbatim}\n",
       "rosenbrock(x; a=1, b=5)\n",
       "\\end{verbatim}\n",
       "\\textbf{Rosenbrock} benchmark function. With $a=1$ and $b=5$, minimum is at $f([a, a^2]) = 0$\n",
       "\n",
       "$$f(x) = (a - x_1)^2 + b(x_2 - x_1^2)^2$$\n"
      ],
      "text/markdown": [
       "```\n",
       "rosenbrock(x; a=1, b=5)\n",
       "```\n",
       "\n",
       "**Rosenbrock** benchmark function. With $a=1$ and $b=5$, minimum is at $f([a, a^2]) = 0$\n",
       "\n",
       "$$\n",
       "f(x) = (a - x_1)^2 + b(x_2 - x_1^2)^2\n",
       "$$\n"
      ],
      "text/plain": [
       "\u001b[36m  rosenbrock(x; a=1, b=5)\u001b[39m\n",
       "\n",
       "  \u001b[1mRosenbrock\u001b[22m benchmark function. With \u001b[35ma=1\u001b[39m and \u001b[35mb=5\u001b[39m, minimum is at \u001b[35mf([a, a^2]) =\n",
       "  0\u001b[39m\n",
       "\n",
       "\u001b[35m  f(x) = (a - x_1)^2 + b(x_2 - x_1^2)^2\u001b[39m"
      ]
     },
     "metadata": {},
     "output_type": "display_data"
    }
   ],
   "source": [
    "@doc rosenbrock"
   ]
  },
  {
   "cell_type": "markdown",
   "metadata": {},
   "source": [
    "In a GA, we use vectors as _individuals_.\n",
    "\n",
    "Let's start creating the population. For that, we can use a generator. Let's use the normal generator:"
   ]
  },
  {
   "cell_type": "code",
   "execution_count": 3,
   "metadata": {},
   "outputs": [
    {
     "data": {
      "text/latex": [
       "\\begin{verbatim}\n",
       "normal_rand_vector_pop(n, μ, Σ; rng=Random.GLOBAL_RNG)\n",
       "\\end{verbatim}\n",
       "Generate a population of \\texttt{n} vector individuals using a normal distribution with means \\texttt{μ} and covariance \\texttt{Σ}.\n",
       "\n",
       "\\texttt{μ} expects a vector of length \\emph{l} (i.e. length of an individual) while \\texttt{Σ} expects an \\emph{l x l} matrix of covariances.\n",
       "\n",
       "\\section{Examples}\n",
       "\\begin{verbatim}\n",
       "julia> normal_rand_vector_pop(3, [0, 0], [1 0; 0 1])\n",
       "3-element Vector{Vector{Float64}}:\n",
       " [-0.15290525182234904, 0.8715880371871617]\n",
       " [-1.1283800329864322, -0.9256584563613383]\n",
       " [-0.5384758126777555, -0.8141702145510666]\n",
       "\\end{verbatim}\n"
      ],
      "text/markdown": [
       "```\n",
       "normal_rand_vector_pop(n, μ, Σ; rng=Random.GLOBAL_RNG)\n",
       "```\n",
       "\n",
       "Generate a population of `n` vector individuals using a normal distribution with means `μ` and covariance `Σ`.\n",
       "\n",
       "`μ` expects a vector of length *l* (i.e. length of an individual) while `Σ` expects an *l x l* matrix of covariances.\n",
       "\n",
       "# Examples\n",
       "\n",
       "```julia\n",
       "julia> normal_rand_vector_pop(3, [0, 0], [1 0; 0 1])\n",
       "3-element Vector{Vector{Float64}}:\n",
       " [-0.15290525182234904, 0.8715880371871617]\n",
       " [-1.1283800329864322, -0.9256584563613383]\n",
       " [-0.5384758126777555, -0.8141702145510666]\n",
       "```\n"
      ],
      "text/plain": [
       "\u001b[36m  normal_rand_vector_pop(n, μ, Σ; rng=Random.GLOBAL_RNG)\u001b[39m\n",
       "\n",
       "  Generate a population of \u001b[36mn\u001b[39m vector individuals using a normal distribution\n",
       "  with means \u001b[36mμ\u001b[39m and covariance \u001b[36mΣ\u001b[39m.\n",
       "\n",
       "  \u001b[36mμ\u001b[39m expects a vector of length \u001b[4ml\u001b[24m (i.e. length of an individual) while \u001b[36mΣ\u001b[39m\n",
       "  expects an \u001b[4ml x l\u001b[24m matrix of covariances.\n",
       "\n",
       "\u001b[1m  Examples\u001b[22m\n",
       "\u001b[1m  ≡≡≡≡≡≡≡≡≡≡\u001b[22m\n",
       "\n",
       "\u001b[36m  julia> normal_rand_vector_pop(3, [0, 0], [1 0; 0 1])\u001b[39m\n",
       "\u001b[36m  3-element Vector{Vector{Float64}}:\u001b[39m\n",
       "\u001b[36m   [-0.15290525182234904, 0.8715880371871617]\u001b[39m\n",
       "\u001b[36m   [-1.1283800329864322, -0.9256584563613383]\u001b[39m\n",
       "\u001b[36m   [-0.5384758126777555, -0.8141702145510666]\u001b[39m"
      ]
     },
     "metadata": {},
     "output_type": "display_data"
    }
   ],
   "source": [
    "@doc normal_rand_vector_pop"
   ]
  },
  {
   "cell_type": "code",
   "execution_count": 4,
   "metadata": {},
   "outputs": [
    {
     "data": {
      "text/plain": [
       "3-element Vector{Vector{Float64}}:\n",
       " [-1.6427111696272696, 0.5882958618620507]\n",
       " [-1.0327502018102739, -0.12553291195289634]\n",
       " [0.16879891668759264, -0.41216354050954684]"
      ]
     },
     "metadata": {},
     "output_type": "display_data"
    }
   ],
   "source": [
    "pop_size = 50\n",
    "population = normal_rand_vector_pop(pop_size, [0, 0], [1 0; 0 1])\n",
    "first(population, 3)"
   ]
  },
  {
   "cell_type": "markdown",
   "metadata": {},
   "source": [
    "In a GA, we have _selection_, _crossover_ and _mutation_.\n",
    "\n",
    "We can easily set up these operators using the built-ins provided by EvoLP.\n",
    "\n",
    "Let's use rank based selection and interpolation crossover with 0.5 as the scaling factor:"
   ]
  },
  {
   "cell_type": "code",
   "execution_count": 5,
   "metadata": {},
   "outputs": [
    {
     "data": {
      "text/latex": [
       "Interpolation crossover with scaling parameter \\texttt{λ}.\n",
       "\n"
      ],
      "text/markdown": [
       "Interpolation crossover with scaling parameter `λ`.\n"
      ],
      "text/plain": [
       "  Interpolation crossover with scaling parameter \u001b[36mλ\u001b[39m."
      ]
     },
     "metadata": {},
     "output_type": "display_data"
    }
   ],
   "source": [
    "@doc InterpolationCrossover"
   ]
  },
  {
   "cell_type": "code",
   "execution_count": 6,
   "metadata": {},
   "outputs": [
    {
     "data": {
      "text/plain": [
       "InterpolationCrossover(0.5)"
      ]
     },
     "metadata": {},
     "output_type": "display_data"
    }
   ],
   "source": [
    "S = RankBasedSelectionGenerational()\n",
    "C = InterpolationCrossover(0.5)"
   ]
  },
  {
   "cell_type": "markdown",
   "metadata": {},
   "source": [
    "For mutation, we can use a Gaussian approach:"
   ]
  },
  {
   "cell_type": "code",
   "execution_count": 7,
   "metadata": {},
   "outputs": [
    {
     "data": {
      "text/latex": [
       "Gaussian mutation with standard deviation \\texttt{σ}, which should be a real number.\n",
       "\n"
      ],
      "text/markdown": [
       "Gaussian mutation with standard deviation `σ`, which should be a real number.\n"
      ],
      "text/plain": [
       "  Gaussian mutation with standard deviation \u001b[36mσ\u001b[39m, which should be a real number."
      ]
     },
     "metadata": {},
     "output_type": "display_data"
    }
   ],
   "source": [
    "@doc GaussianMutation"
   ]
  },
  {
   "cell_type": "code",
   "execution_count": 8,
   "metadata": {},
   "outputs": [
    {
     "data": {
      "text/plain": [
       "GaussianMutation(0.7)"
      ]
     },
     "metadata": {},
     "output_type": "display_data"
    }
   ],
   "source": [
    "M = GaussianMutation(0.7)"
   ]
  },
  {
   "cell_type": "markdown",
   "metadata": {},
   "source": [
    "We can use the `Logbook` to record statistics about our run:"
   ]
  },
  {
   "cell_type": "code",
   "execution_count": 9,
   "metadata": {},
   "outputs": [
    {
     "data": {
      "text/plain": [
       "Logbook(LittleDict{AbstractString, Function, Vector{AbstractString}, Vector{Function}}(\"mean_eval\" => Statistics.mean, \"max_f\" => maximum, \"min_f\" => minimum, \"median_f\" => Statistics.median), NamedTuple{(:mean_eval, :max_f, :min_f, :median_f)}[])"
      ]
     },
     "metadata": {},
     "output_type": "display_data"
    }
   ],
   "source": [
    "statnames = [\"mean_eval\", \"max_f\", \"min_f\", \"median_f\"]\n",
    "fns = [mean, maximum, minimum, median]\n",
    "thedict = LittleDict(statnames, fns)\n",
    "thelogger = Logbook(thedict)"
   ]
  },
  {
   "cell_type": "markdown",
   "metadata": {},
   "source": [
    "And now we're ready to use the `GA` built-in algorithm:"
   ]
  },
  {
   "cell_type": "code",
   "execution_count": 10,
   "metadata": {},
   "outputs": [
    {
     "data": {
      "text/latex": [
       "\\begin{verbatim}\n",
       "GA(f::Function, pop, k_max, S, C, M)\n",
       "GA(logbook::Logbook, f::Function, pop, k_max, S, C, M)\n",
       "\\end{verbatim}\n",
       "Generational Genetic Algorithm.\n",
       "\n",
       "\\subsection{Arguments}\n",
       "\\begin{itemize}\n",
       "\\item \\texttt{f}: Objective function to minimise\n",
       "\n",
       "\n",
       "\\item \\texttt{pop}: Population—a list of individuals.\n",
       "\n",
       "\n",
       "\\item \\texttt{k\\_max}: maximum iterations\n",
       "\n",
       "\n",
       "\\item \\texttt{S::SelectionMethod}: a selection method. See selection.\n",
       "\n",
       "\n",
       "\\item \\texttt{C::CrossoverMethod}: a crossover method. See crossover.\n",
       "\n",
       "\n",
       "\\item \\texttt{M::MutationMethod}: a mutation method. See mutation.\n",
       "\n",
       "\\end{itemize}\n",
       "Returns a \\texttt{Result} type of the form:\n",
       "\n",
       "$$\\big( f(x^*), x^*, pop, k_{max}, f_{calls} \\big)$$\n"
      ],
      "text/markdown": [
       "```\n",
       "GA(f::Function, pop, k_max, S, C, M)\n",
       "GA(logbook::Logbook, f::Function, pop, k_max, S, C, M)\n",
       "```\n",
       "\n",
       "Generational Genetic Algorithm.\n",
       "\n",
       "## Arguments\n",
       "\n",
       "  * `f`: Objective function to minimise\n",
       "  * `pop`: Population—a list of individuals.\n",
       "  * `k_max`: maximum iterations\n",
       "  * `S::SelectionMethod`: a selection method. See selection.\n",
       "  * `C::CrossoverMethod`: a crossover method. See crossover.\n",
       "  * `M::MutationMethod`: a mutation method. See mutation.\n",
       "\n",
       "Returns a `Result` type of the form:\n",
       "\n",
       "$$\n",
       "\\big( f(x^*), x^*, pop, k_{max}, f_{calls} \\big)\n",
       "$$\n"
      ],
      "text/plain": [
       "\u001b[36m  GA(f::Function, pop, k_max, S, C, M)\u001b[39m\n",
       "\u001b[36m  GA(logbook::Logbook, f::Function, pop, k_max, S, C, M)\u001b[39m\n",
       "\n",
       "  Generational Genetic Algorithm.\n",
       "\n",
       "\u001b[1m  Arguments\u001b[22m\n",
       "\u001b[1m  ===========\u001b[22m\n",
       "\n",
       "    •  \u001b[36mf\u001b[39m: Objective function to minimise\n",
       "\n",
       "    •  \u001b[36mpop\u001b[39m: Population—a list of individuals.\n",
       "\n",
       "    •  \u001b[36mk_max\u001b[39m: maximum iterations\n",
       "\n",
       "    •  \u001b[36mS::SelectionMethod\u001b[39m: a selection method. See selection.\n",
       "\n",
       "    •  \u001b[36mC::CrossoverMethod\u001b[39m: a crossover method. See crossover.\n",
       "\n",
       "    •  \u001b[36mM::MutationMethod\u001b[39m: a mutation method. See mutation.\n",
       "\n",
       "  Returns a \u001b[36mResult\u001b[39m type of the form:\n",
       "\n",
       "\u001b[35m  \\big( f(x^*), x^*, pop, k_{max}, f_{calls} \\big)\u001b[39m"
      ]
     },
     "metadata": {},
     "output_type": "display_data"
    }
   ],
   "source": [
    "@doc GA"
   ]
  },
  {
   "cell_type": "code",
   "execution_count": 11,
   "metadata": {},
   "outputs": [],
   "source": [
    "result = GA(thelogger, rosenbrock, population, 300, S, C, M);"
   ]
  },
  {
   "cell_type": "markdown",
   "metadata": {},
   "source": [
    "The output was suppressed so that we can analyse each part of the result separately:"
   ]
  },
  {
   "cell_type": "code",
   "execution_count": 12,
   "metadata": {},
   "outputs": [
    {
     "name": "stdout",
     "output_type": "stream",
     "text": [
      "optimum(result) = 0.019865167619196974\n",
      "optimizer(result) = [0.8673659191990879, 0.7736467155644884]\n",
      "f_calls(result) = 30050\n",
      "thelogger.records[end] = (mean_eval = 15.113532690769519, max_f = 268.03367553524595, min_f = 0.019865167619196974, median_f = 3.3583402289395234)\n"
     ]
    },
    {
     "data": {
      "text/plain": [
       "(mean_eval = 15.113532690769519, max_f = 268.03367553524595, min_f = 0.019865167619196974, median_f = 3.3583402289395234)"
      ]
     },
     "metadata": {},
     "output_type": "display_data"
    }
   ],
   "source": [
    "@show optimum(result)\n",
    "\n",
    "@show optimizer(result)\n",
    "\n",
    "@show f_calls(result)\n",
    "\n",
    "@show thelogger.records[end]"
   ]
  }
 ],
 "metadata": {
  "kernelspec": {
   "display_name": "Julia 1.8.5",
   "language": "julia",
   "name": "julia-1.8"
  },
  "language_info": {
   "file_extension": ".jl",
   "mimetype": "application/julia",
   "name": "julia",
   "version": "1.8.3"
  },
  "vscode": {
   "interpreter": {
    "hash": "916dbcbb3f70747c44a77c7bcd40155683ae19c65e1c03b4aa3499c5328201f1"
   }
  }
 },
 "nbformat": 4,
 "nbformat_minor": 2
}
