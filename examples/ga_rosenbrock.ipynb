{
 "cells": [
  {
   "attachments": {},
   "cell_type": "markdown",
   "metadata": {},
   "source": [
    "# Genetic Algorithm\n",
    "\n",
    "This notebook showcases how to use the built-in Genetic Algorithm (GA)"
   ]
  },
  {
   "cell_type": "code",
   "execution_count": 1,
   "metadata": {},
   "outputs": [],
   "source": [
    "using Statistics\n",
    "using EvoLP\n",
    "using OrderedCollections\n",
    "using DataFrames"
   ]
  },
  {
   "attachments": {},
   "cell_type": "markdown",
   "metadata": {},
   "source": [
    "For this example we will use the **Rosenbrock** function:"
   ]
  },
  {
   "cell_type": "code",
   "execution_count": 2,
   "metadata": {},
   "outputs": [
    {
     "data": {
      "text/latex": [
       "\\begin{verbatim}\n",
       "rosenbrock(x; b=100)\n",
       "\\end{verbatim}\n",
       "\\begin{quote}\n",
       "\\textbf{compat}\n",
       "\n",
       "Changed since EvoLP 1.3\n",
       "\n",
       "This is the $d$-dimensional Rosenbrock function. In previous releases, it was 2d only and had an additional keyword argument \\texttt{a}.\n",
       "\n",
       "Update your workflow accordingly.\n",
       "\n",
       "\\end{quote}\n",
       "The $d$-dimensional \\textbf{Rosenbrock} \\emph{banana} benchmark function. With $b=100$, minimum is at $f([1, \\dots, 1]) = 0$\n",
       "\n",
       "$$f(x) = \\sum_{i=1}^{d-1} \\left[b(x_{i+1} - x_i^2)^2 + (x_i - 1)^2 \\right]$$\n"
      ],
      "text/markdown": [
       "```\n",
       "rosenbrock(x; b=100)\n",
       "```\n",
       "\n",
       "!!! compat \"Changed since EvoLP 1.3\"\n",
       "    This is the $d$-dimensional Rosenbrock function. In previous releases, it was 2d only and had an additional keyword argument `a`.\n",
       "\n",
       "    Update your workflow accordingly.\n",
       "\n",
       "\n",
       "The $d$-dimensional **Rosenbrock** *banana* benchmark function. With $b=100$, minimum is at $f([1, \\dots, 1]) = 0$\n",
       "\n",
       "$$\n",
       "f(x) = \\sum_{i=1}^{d-1} \\left[b(x_{i+1} - x_i^2)^2 + (x_i - 1)^2 \\right]\n",
       "$$\n"
      ],
      "text/plain": [
       "\u001b[36m  rosenbrock(x; b=100)\u001b[39m\n",
       "\n",
       "\u001b[39m\u001b[1m  │ \u001b[22m\u001b[39m\u001b[1mChanged since EvoLP 1.3\u001b[22m\n",
       "\u001b[39m\u001b[1m  │\u001b[22m\n",
       "\u001b[39m\u001b[1m  │\u001b[22m  This is the \u001b[35md\u001b[39m-dimensional Rosenbrock function. In previous\n",
       "\u001b[39m\u001b[1m  │\u001b[22m  releases, it was 2d only and had an additional keyword argument \u001b[36ma\u001b[39m.\n",
       "\u001b[39m\u001b[1m  │\u001b[22m\n",
       "\u001b[39m\u001b[1m  │\u001b[22m  Update your workflow accordingly.\n",
       "\n",
       "  The \u001b[35md\u001b[39m-dimensional \u001b[1mRosenbrock\u001b[22m \u001b[4mbanana\u001b[24m benchmark function. With \u001b[35mb=100\u001b[39m, minimum\n",
       "  is at \u001b[35mf([1, \\dots, 1]) = 0\u001b[39m\n",
       "\n",
       "\u001b[35m  f(x) = \\sum_{i=1}^{d-1} \\left[b(x_{i+1} - x_i^2)^2 + (x_i - 1)^2 \\right]\u001b[39m"
      ]
     },
     "metadata": {},
     "output_type": "display_data"
    }
   ],
   "source": [
    "@doc rosenbrock"
   ]
  },
  {
   "attachments": {},
   "cell_type": "markdown",
   "metadata": {},
   "source": [
    "In a GA, we use vectors as _individuals_.\n",
    "\n",
    "Let's start creating the population. For that, we can use a generator. Let's use the uniform generator:"
   ]
  },
  {
   "cell_type": "code",
   "execution_count": 3,
   "metadata": {},
   "outputs": [
    {
     "data": {
      "text/latex": [
       "\\begin{verbatim}\n",
       "unif_rand_vector_pop(n, lb, ub; rng=Random.GLOBAL_RNG)\n",
       "\\end{verbatim}\n",
       "Generate a population of \\texttt{n} vector individuals using a uniformly random distribution between lower bounds \\texttt{lb} and upper bounds \\texttt{ub}.\n",
       "\n",
       "Both \\texttt{lb} and \\texttt{ub} must be arrays of the same dimensions.\n",
       "\n",
       "\\section{Examples}\n",
       "\\begin{verbatim}\n",
       "julia> unif_rand_vector_pop(3, [-1, -1], [1, 1])\n",
       "3-element Vector{Vector{Float64}}:\n",
       " [-0.16338687344459046, 0.31576097298524064]\n",
       " [-0.941510876597899, 0.8219576462978224]\n",
       " [-0.377090051761797, -0.28434454028992096]\n",
       "\\end{verbatim}\n"
      ],
      "text/markdown": [
       "```\n",
       "unif_rand_vector_pop(n, lb, ub; rng=Random.GLOBAL_RNG)\n",
       "```\n",
       "\n",
       "Generate a population of `n` vector individuals using a uniformly random distribution between lower bounds `lb` and upper bounds `ub`.\n",
       "\n",
       "Both `lb` and `ub` must be arrays of the same dimensions.\n",
       "\n",
       "# Examples\n",
       "\n",
       "```julia\n",
       "julia> unif_rand_vector_pop(3, [-1, -1], [1, 1])\n",
       "3-element Vector{Vector{Float64}}:\n",
       " [-0.16338687344459046, 0.31576097298524064]\n",
       " [-0.941510876597899, 0.8219576462978224]\n",
       " [-0.377090051761797, -0.28434454028992096]\n",
       "```\n"
      ],
      "text/plain": [
       "\u001b[36m  unif_rand_vector_pop(n, lb, ub; rng=Random.GLOBAL_RNG)\u001b[39m\n",
       "\n",
       "  Generate a population of \u001b[36mn\u001b[39m vector individuals using a uniformly random\n",
       "  distribution between lower bounds \u001b[36mlb\u001b[39m and upper bounds \u001b[36mub\u001b[39m.\n",
       "\n",
       "  Both \u001b[36mlb\u001b[39m and \u001b[36mub\u001b[39m must be arrays of the same dimensions.\n",
       "\n",
       "\u001b[1m  Examples\u001b[22m\n",
       "\u001b[1m  ≡≡≡≡≡≡≡≡≡≡\u001b[22m\n",
       "\n",
       "\u001b[36m  julia> unif_rand_vector_pop(3, [-1, -1], [1, 1])\u001b[39m\n",
       "\u001b[36m  3-element Vector{Vector{Float64}}:\u001b[39m\n",
       "\u001b[36m   [-0.16338687344459046, 0.31576097298524064]\u001b[39m\n",
       "\u001b[36m   [-0.941510876597899, 0.8219576462978224]\u001b[39m\n",
       "\u001b[36m   [-0.377090051761797, -0.28434454028992096]\u001b[39m"
      ]
     },
     "metadata": {},
     "output_type": "display_data"
    }
   ],
   "source": [
    "@doc unif_rand_vector_pop"
   ]
  },
  {
   "cell_type": "code",
   "execution_count": 4,
   "metadata": {},
   "outputs": [
    {
     "data": {
      "text/plain": [
       "3-element Vector{Vector{Float64}}:\n",
       " [0.013224350621951597, -1.3678998860345195]\n",
       " [0.7605835675636268, -0.2944462429647383]\n",
       " [1.42885988866536, 1.3307125626289422]"
      ]
     },
     "metadata": {},
     "output_type": "display_data"
    }
   ],
   "source": [
    "pop_size = 30\n",
    "population = unif_rand_vector_pop(pop_size, [-2.048, -2.048], [2.048, 2.048])\n",
    "first(population, 3)"
   ]
  },
  {
   "attachments": {},
   "cell_type": "markdown",
   "metadata": {},
   "source": [
    "In a GA, we have _selection_, _crossover_ and _mutation_.\n",
    "\n",
    "We can easily set up these operators using the built-ins provided by EvoLP.\n",
    "\n",
    "Let's use rank based selection and interpolation crossover:"
   ]
  },
  {
   "cell_type": "code",
   "execution_count": 5,
   "metadata": {},
   "outputs": [
    {
     "data": {
      "text/latex": [
       "Interpolation crossover with scaling parameter \\texttt{λ}.\n",
       "\n"
      ],
      "text/markdown": [
       "Interpolation crossover with scaling parameter `λ`.\n"
      ],
      "text/plain": [
       "  Interpolation crossover with scaling parameter \u001b[36mλ\u001b[39m."
      ]
     },
     "metadata": {},
     "output_type": "display_data"
    }
   ],
   "source": [
    "@doc InterpolationCrossover"
   ]
  },
  {
   "cell_type": "code",
   "execution_count": 6,
   "metadata": {},
   "outputs": [
    {
     "data": {
      "text/plain": [
       "InterpolationCrossover(0.5)"
      ]
     },
     "metadata": {},
     "output_type": "display_data"
    }
   ],
   "source": [
    "S = RankBasedSelectionGenerational()\n",
    "C = InterpolationCrossover(0.5)"
   ]
  },
  {
   "attachments": {},
   "cell_type": "markdown",
   "metadata": {},
   "source": [
    "For mutation, we can use a Gaussian approach:"
   ]
  },
  {
   "cell_type": "code",
   "execution_count": 7,
   "metadata": {},
   "outputs": [
    {
     "data": {
      "text/latex": [
       "Gaussian mutation with standard deviation \\texttt{σ}, which should be a real number.\n",
       "\n"
      ],
      "text/markdown": [
       "Gaussian mutation with standard deviation `σ`, which should be a real number.\n"
      ],
      "text/plain": [
       "  Gaussian mutation with standard deviation \u001b[36mσ\u001b[39m, which should be a real number."
      ]
     },
     "metadata": {},
     "output_type": "display_data"
    }
   ],
   "source": [
    "@doc GaussianMutation"
   ]
  },
  {
   "cell_type": "code",
   "execution_count": 8,
   "metadata": {},
   "outputs": [
    {
     "data": {
      "text/plain": [
       "GaussianMutation(0.01)"
      ]
     },
     "metadata": {},
     "output_type": "display_data"
    }
   ],
   "source": [
    "M = GaussianMutation(0.01)"
   ]
  },
  {
   "attachments": {},
   "cell_type": "markdown",
   "metadata": {},
   "source": [
    "We can use the default `Logbook` to record many statistics about our run:"
   ]
  },
  {
   "cell_type": "code",
   "execution_count": 9,
   "metadata": {},
   "outputs": [
    {
     "data": {
      "text/plain": [
       "Logbook(LittleDict{AbstractString, Function, Vector{AbstractString}, Vector{Function}}(\"min_f\" => minimum, \"mean_f\" => Statistics.mean, \"median_f\" => Statistics.median, \"max_f\" => maximum, \"std\" => Statistics.std), NamedTuple{(:min_f, :mean_f, :median_f, :max_f, :std)}[])"
      ]
     },
     "metadata": {},
     "output_type": "display_data"
    }
   ],
   "source": [
    "thelogger = Logbook()"
   ]
  },
  {
   "attachments": {},
   "cell_type": "markdown",
   "metadata": {},
   "source": [
    "And now we're ready to use the `GA` built-in algorithm:"
   ]
  },
  {
   "cell_type": "code",
   "execution_count": 10,
   "metadata": {},
   "outputs": [
    {
     "data": {
      "text/latex": [
       "\\begin{verbatim}\n",
       "GA(f, pop, k_max, S, C, M)\n",
       "GA(logbook::Logbook, f, population, k_max, S, C, M)\n",
       "GA(notebooks::Vector{Logbook}, f, population, k_max, S, C, M)\n",
       "\\end{verbatim}\n",
       "Generational Genetic Algorithm.\n",
       "\n",
       "\\subsection{Arguments}\n",
       "\\begin{itemize}\n",
       "\\item \\texttt{f::Function}: objective function to \\textbf{minimise}.\n",
       "\n",
       "\n",
       "\\item \\texttt{population::AbstractVector}: a list of vector individuals.\n",
       "\n",
       "\n",
       "\\item \\texttt{k\\_max::Integer}: number of iterations.\n",
       "\n",
       "\n",
       "\\item \\texttt{S::SelectionMethod}: one of the available \\href{@ref}{\\texttt{SelectionMethod}}.\n",
       "\n",
       "\n",
       "\\item \\texttt{C::CrossoverMethod}: one of the available \\href{@ref}{\\texttt{CrossoverMethod}}.\n",
       "\n",
       "\n",
       "\\item \\texttt{M::MutationMethod}: one of the available \\href{@ref}{\\texttt{MutationMethod}}.\n",
       "\n",
       "\\end{itemize}\n",
       "Returns a \\href{@ref}{\\texttt{Result}}.\n",
       "\n"
      ],
      "text/markdown": [
       "```\n",
       "GA(f, pop, k_max, S, C, M)\n",
       "GA(logbook::Logbook, f, population, k_max, S, C, M)\n",
       "GA(notebooks::Vector{Logbook}, f, population, k_max, S, C, M)\n",
       "```\n",
       "\n",
       "Generational Genetic Algorithm.\n",
       "\n",
       "## Arguments\n",
       "\n",
       "  * `f::Function`: objective function to **minimise**.\n",
       "  * `population::AbstractVector`: a list of vector individuals.\n",
       "  * `k_max::Integer`: number of iterations.\n",
       "  * `S::SelectionMethod`: one of the available [`SelectionMethod`](@ref).\n",
       "  * `C::CrossoverMethod`: one of the available [`CrossoverMethod`](@ref).\n",
       "  * `M::MutationMethod`: one of the available [`MutationMethod`](@ref).\n",
       "\n",
       "Returns a [`Result`](@ref).\n"
      ],
      "text/plain": [
       "\u001b[36m  GA(f, pop, k_max, S, C, M)\u001b[39m\n",
       "\u001b[36m  GA(logbook::Logbook, f, population, k_max, S, C, M)\u001b[39m\n",
       "\u001b[36m  GA(notebooks::Vector{Logbook}, f, population, k_max, S, C, M)\u001b[39m\n",
       "\n",
       "  Generational Genetic Algorithm.\n",
       "\n",
       "\u001b[1m  Arguments\u001b[22m\n",
       "\u001b[1m  ===========\u001b[22m\n",
       "\n",
       "    •  \u001b[36mf::Function\u001b[39m: objective function to \u001b[1mminimise\u001b[22m.\n",
       "\n",
       "    •  \u001b[36mpopulation::AbstractVector\u001b[39m: a list of vector individuals.\n",
       "\n",
       "    •  \u001b[36mk_max::Integer\u001b[39m: number of iterations.\n",
       "\n",
       "    •  \u001b[36mS::SelectionMethod\u001b[39m: one of the available \u001b[36mSelectionMethod\u001b[39m.\n",
       "\n",
       "    •  \u001b[36mC::CrossoverMethod\u001b[39m: one of the available \u001b[36mCrossoverMethod\u001b[39m.\n",
       "\n",
       "    •  \u001b[36mM::MutationMethod\u001b[39m: one of the available \u001b[36mMutationMethod\u001b[39m.\n",
       "\n",
       "  Returns a \u001b[36mResult\u001b[39m."
      ]
     },
     "metadata": {},
     "output_type": "display_data"
    }
   ],
   "source": [
    "@doc GA"
   ]
  },
  {
   "cell_type": "code",
   "execution_count": 11,
   "metadata": {},
   "outputs": [],
   "source": [
    "result = GA(thelogger, rosenbrock, population, 100, S, C, M);"
   ]
  },
  {
   "attachments": {},
   "cell_type": "markdown",
   "metadata": {},
   "source": [
    "The output was suppressed so that we can analyse each part of the result separately:"
   ]
  },
  {
   "cell_type": "code",
   "execution_count": 12,
   "metadata": {},
   "outputs": [
    {
     "name": "stdout",
     "output_type": "stream",
     "text": [
      "optimum(result) = 0.15049342789954512\n",
      "optimizer(result) = "
     ]
    },
    {
     "name": "stdout",
     "output_type": "stream",
     "text": [
      "[0.5858877850983488, 0.3651832142159951]\n",
      "f_calls(result) = 3000\n",
      "runtime(result) = 0.757843669\n",
      "thelogger.records[end] = (min_f = 0.15049342789954512, mean_f = 0.18900618533625962, median_f = 0.17928194152771926, max_f = 0.31767976898711214, std = 0.03682181655004641)\n"
     ]
    },
    {
     "data": {
      "text/plain": [
       "(min_f = 0.15049342789954512, mean_f = 0.18900618533625962, median_f = 0.17928194152771926, max_f = 0.31767976898711214, std = 0.03682181655004641)"
      ]
     },
     "metadata": {},
     "output_type": "display_data"
    }
   ],
   "source": [
    "@show optimum(result)\n",
    "\n",
    "@show optimizer(result)\n",
    "\n",
    "@show f_calls(result)\n",
    "\n",
    "@show runtime(result)\n",
    "\n",
    "@show thelogger.records[end]"
   ]
  },
  {
   "cell_type": "markdown",
   "metadata": {},
   "source": [
    "For further analysis, we can export the records directly to a DataFrame:"
   ]
  },
  {
   "cell_type": "code",
   "execution_count": 13,
   "metadata": {},
   "outputs": [
    {
     "data": {
      "text/html": [
       "<div><div style = \"float: left;\"><span>100×5 DataFrame</span></div><div style = \"float: right;\"><span style = \"font-style: italic;\">75 rows omitted</span></div><div style = \"clear: both;\"></div></div><div class = \"data-frame\" style = \"overflow-x: scroll;\"><table class = \"data-frame\" style = \"margin-bottom: 6px;\"><thead><tr class = \"header\"><th class = \"rowNumber\" style = \"font-weight: bold; text-align: right;\">Row</th><th style = \"text-align: left;\">min_f</th><th style = \"text-align: left;\">mean_f</th><th style = \"text-align: left;\">median_f</th><th style = \"text-align: left;\">max_f</th><th style = \"text-align: left;\">std</th></tr><tr class = \"subheader headerLastRow\"><th class = \"rowNumber\" style = \"font-weight: bold; text-align: right;\"></th><th title = \"Float64\" style = \"text-align: left;\">Float64</th><th title = \"Float64\" style = \"text-align: left;\">Float64</th><th title = \"Float64\" style = \"text-align: left;\">Float64</th><th title = \"Float64\" style = \"text-align: left;\">Float64</th><th title = \"Float64\" style = \"text-align: left;\">Float64</th></tr></thead><tbody><tr><td class = \"rowNumber\" style = \"font-weight: bold; text-align: right;\">1</td><td style = \"text-align: right;\">0.424001</td><td style = \"text-align: right;\">331.463</td><td style = \"text-align: right;\">139.988</td><td style = \"text-align: right;\">1627.38</td><td style = \"text-align: right;\">439.756</td></tr><tr><td class = \"rowNumber\" style = \"font-weight: bold; text-align: right;\">2</td><td style = \"text-align: right;\">0.321719</td><td style = \"text-align: right;\">84.7211</td><td style = \"text-align: right;\">35.0588</td><td style = \"text-align: right;\">808.533</td><td style = \"text-align: right;\">152.371</td></tr><tr><td class = \"rowNumber\" style = \"font-weight: bold; text-align: right;\">3</td><td style = \"text-align: right;\">0.578831</td><td style = \"text-align: right;\">29.2711</td><td style = \"text-align: right;\">10.1089</td><td style = \"text-align: right;\">126.64</td><td style = \"text-align: right;\">37.2353</td></tr><tr><td class = \"rowNumber\" style = \"font-weight: bold; text-align: right;\">4</td><td style = \"text-align: right;\">0.275801</td><td style = \"text-align: right;\">16.4307</td><td style = \"text-align: right;\">7.51019</td><td style = \"text-align: right;\">56.5675</td><td style = \"text-align: right;\">17.7872</td></tr><tr><td class = \"rowNumber\" style = \"font-weight: bold; text-align: right;\">5</td><td style = \"text-align: right;\">0.568604</td><td style = \"text-align: right;\">10.9749</td><td style = \"text-align: right;\">5.36025</td><td style = \"text-align: right;\">46.42</td><td style = \"text-align: right;\">11.7371</td></tr><tr><td class = \"rowNumber\" style = \"font-weight: bold; text-align: right;\">6</td><td style = \"text-align: right;\">0.560855</td><td style = \"text-align: right;\">5.25174</td><td style = \"text-align: right;\">3.50996</td><td style = \"text-align: right;\">16.0154</td><td style = \"text-align: right;\">3.93378</td></tr><tr><td class = \"rowNumber\" style = \"font-weight: bold; text-align: right;\">7</td><td style = \"text-align: right;\">0.673143</td><td style = \"text-align: right;\">3.01429</td><td style = \"text-align: right;\">2.09055</td><td style = \"text-align: right;\">9.83939</td><td style = \"text-align: right;\">2.31038</td></tr><tr><td class = \"rowNumber\" style = \"font-weight: bold; text-align: right;\">8</td><td style = \"text-align: right;\">0.689797</td><td style = \"text-align: right;\">1.65877</td><td style = \"text-align: right;\">1.5351</td><td style = \"text-align: right;\">2.7963</td><td style = \"text-align: right;\">0.656081</td></tr><tr><td class = \"rowNumber\" style = \"font-weight: bold; text-align: right;\">9</td><td style = \"text-align: right;\">0.717406</td><td style = \"text-align: right;\">1.28313</td><td style = \"text-align: right;\">1.21127</td><td style = \"text-align: right;\">2.48201</td><td style = \"text-align: right;\">0.46378</td></tr><tr><td class = \"rowNumber\" style = \"font-weight: bold; text-align: right;\">10</td><td style = \"text-align: right;\">0.652706</td><td style = \"text-align: right;\">1.11213</td><td style = \"text-align: right;\">1.10816</td><td style = \"text-align: right;\">1.73029</td><td style = \"text-align: right;\">0.241371</td></tr><tr><td class = \"rowNumber\" style = \"font-weight: bold; text-align: right;\">11</td><td style = \"text-align: right;\">0.507502</td><td style = \"text-align: right;\">0.969944</td><td style = \"text-align: right;\">0.964709</td><td style = \"text-align: right;\">1.51044</td><td style = \"text-align: right;\">0.269514</td></tr><tr><td class = \"rowNumber\" style = \"font-weight: bold; text-align: right;\">12</td><td style = \"text-align: right;\">0.495272</td><td style = \"text-align: right;\">0.776201</td><td style = \"text-align: right;\">0.781809</td><td style = \"text-align: right;\">1.36232</td><td style = \"text-align: right;\">0.196155</td></tr><tr><td class = \"rowNumber\" style = \"font-weight: bold; text-align: right;\">13</td><td style = \"text-align: right;\">0.390855</td><td style = \"text-align: right;\">0.646091</td><td style = \"text-align: right;\">0.62481</td><td style = \"text-align: right;\">0.935771</td><td style = \"text-align: right;\">0.125244</td></tr><tr><td style = \"text-align: right;\">&vellip;</td><td style = \"text-align: right;\">&vellip;</td><td style = \"text-align: right;\">&vellip;</td><td style = \"text-align: right;\">&vellip;</td><td style = \"text-align: right;\">&vellip;</td><td style = \"text-align: right;\">&vellip;</td></tr><tr><td class = \"rowNumber\" style = \"font-weight: bold; text-align: right;\">89</td><td style = \"text-align: right;\">0.16483</td><td style = \"text-align: right;\">0.202979</td><td style = \"text-align: right;\">0.197376</td><td style = \"text-align: right;\">0.25829</td><td style = \"text-align: right;\">0.0282863</td></tr><tr><td class = \"rowNumber\" style = \"font-weight: bold; text-align: right;\">90</td><td style = \"text-align: right;\">0.15945</td><td style = \"text-align: right;\">0.196681</td><td style = \"text-align: right;\">0.185501</td><td style = \"text-align: right;\">0.309251</td><td style = \"text-align: right;\">0.0352191</td></tr><tr><td class = \"rowNumber\" style = \"font-weight: bold; text-align: right;\">91</td><td style = \"text-align: right;\">0.169475</td><td style = \"text-align: right;\">0.193792</td><td style = \"text-align: right;\">0.189621</td><td style = \"text-align: right;\">0.235921</td><td style = \"text-align: right;\">0.020302</td></tr><tr><td class = \"rowNumber\" style = \"font-weight: bold; text-align: right;\">92</td><td style = \"text-align: right;\">0.159016</td><td style = \"text-align: right;\">0.205035</td><td style = \"text-align: right;\">0.19602</td><td style = \"text-align: right;\">0.295628</td><td style = \"text-align: right;\">0.0382538</td></tr><tr><td class = \"rowNumber\" style = \"font-weight: bold; text-align: right;\">93</td><td style = \"text-align: right;\">0.159358</td><td style = \"text-align: right;\">0.199532</td><td style = \"text-align: right;\">0.180159</td><td style = \"text-align: right;\">0.36422</td><td style = \"text-align: right;\">0.0459587</td></tr><tr><td class = \"rowNumber\" style = \"font-weight: bold; text-align: right;\">94</td><td style = \"text-align: right;\">0.154831</td><td style = \"text-align: right;\">0.194999</td><td style = \"text-align: right;\">0.179632</td><td style = \"text-align: right;\">0.258159</td><td style = \"text-align: right;\">0.032853</td></tr><tr><td class = \"rowNumber\" style = \"font-weight: bold; text-align: right;\">95</td><td style = \"text-align: right;\">0.159695</td><td style = \"text-align: right;\">0.207588</td><td style = \"text-align: right;\">0.186078</td><td style = \"text-align: right;\">0.43715</td><td style = \"text-align: right;\">0.062134</td></tr><tr><td class = \"rowNumber\" style = \"font-weight: bold; text-align: right;\">96</td><td style = \"text-align: right;\">0.162542</td><td style = \"text-align: right;\">0.19567</td><td style = \"text-align: right;\">0.178905</td><td style = \"text-align: right;\">0.378391</td><td style = \"text-align: right;\">0.0436431</td></tr><tr><td class = \"rowNumber\" style = \"font-weight: bold; text-align: right;\">97</td><td style = \"text-align: right;\">0.156782</td><td style = \"text-align: right;\">0.190401</td><td style = \"text-align: right;\">0.176745</td><td style = \"text-align: right;\">0.27377</td><td style = \"text-align: right;\">0.0333979</td></tr><tr><td class = \"rowNumber\" style = \"font-weight: bold; text-align: right;\">98</td><td style = \"text-align: right;\">0.155761</td><td style = \"text-align: right;\">0.182491</td><td style = \"text-align: right;\">0.176289</td><td style = \"text-align: right;\">0.279162</td><td style = \"text-align: right;\">0.0277508</td></tr><tr><td class = \"rowNumber\" style = \"font-weight: bold; text-align: right;\">99</td><td style = \"text-align: right;\">0.14453</td><td style = \"text-align: right;\">0.182192</td><td style = \"text-align: right;\">0.177637</td><td style = \"text-align: right;\">0.233579</td><td style = \"text-align: right;\">0.0217481</td></tr><tr><td class = \"rowNumber\" style = \"font-weight: bold; text-align: right;\">100</td><td style = \"text-align: right;\">0.150493</td><td style = \"text-align: right;\">0.189006</td><td style = \"text-align: right;\">0.179282</td><td style = \"text-align: right;\">0.31768</td><td style = \"text-align: right;\">0.0368218</td></tr></tbody></table></div>"
      ],
      "text/latex": [
       "\\begin{tabular}{r|ccccc}\n",
       "\t& min\\_f & mean\\_f & median\\_f & max\\_f & std\\\\\n",
       "\t\\hline\n",
       "\t& Float64 & Float64 & Float64 & Float64 & Float64\\\\\n",
       "\t\\hline\n",
       "\t1 & 0.424001 & 331.463 & 139.988 & 1627.38 & 439.756 \\\\\n",
       "\t2 & 0.321719 & 84.7211 & 35.0588 & 808.533 & 152.371 \\\\\n",
       "\t3 & 0.578831 & 29.2711 & 10.1089 & 126.64 & 37.2353 \\\\\n",
       "\t4 & 0.275801 & 16.4307 & 7.51019 & 56.5675 & 17.7872 \\\\\n",
       "\t5 & 0.568604 & 10.9749 & 5.36025 & 46.42 & 11.7371 \\\\\n",
       "\t6 & 0.560855 & 5.25174 & 3.50996 & 16.0154 & 3.93378 \\\\\n",
       "\t7 & 0.673143 & 3.01429 & 2.09055 & 9.83939 & 2.31038 \\\\\n",
       "\t8 & 0.689797 & 1.65877 & 1.5351 & 2.7963 & 0.656081 \\\\\n",
       "\t9 & 0.717406 & 1.28313 & 1.21127 & 2.48201 & 0.46378 \\\\\n",
       "\t10 & 0.652706 & 1.11213 & 1.10816 & 1.73029 & 0.241371 \\\\\n",
       "\t11 & 0.507502 & 0.969944 & 0.964709 & 1.51044 & 0.269514 \\\\\n",
       "\t12 & 0.495272 & 0.776201 & 0.781809 & 1.36232 & 0.196155 \\\\\n",
       "\t13 & 0.390855 & 0.646091 & 0.62481 & 0.935771 & 0.125244 \\\\\n",
       "\t14 & 0.393487 & 0.594971 & 0.56802 & 0.982952 & 0.150938 \\\\\n",
       "\t15 & 0.362621 & 0.504929 & 0.495753 & 0.856886 & 0.103034 \\\\\n",
       "\t16 & 0.339333 & 0.449095 & 0.41891 & 0.732457 & 0.10298 \\\\\n",
       "\t17 & 0.338631 & 0.417042 & 0.388115 & 0.732254 & 0.0831714 \\\\\n",
       "\t18 & 0.334546 & 0.389736 & 0.375195 & 0.544251 & 0.048989 \\\\\n",
       "\t19 & 0.323284 & 0.382934 & 0.356292 & 0.634234 & 0.0740311 \\\\\n",
       "\t20 & 0.309528 & 0.366051 & 0.353285 & 0.476305 & 0.0355932 \\\\\n",
       "\t21 & 0.315364 & 0.357994 & 0.347795 & 0.426119 & 0.0296261 \\\\\n",
       "\t22 & 0.315059 & 0.35642 & 0.349747 & 0.455395 & 0.0306216 \\\\\n",
       "\t23 & 0.314326 & 0.353548 & 0.346576 & 0.431449 & 0.0304138 \\\\\n",
       "\t24 & 0.312525 & 0.340043 & 0.335884 & 0.410791 & 0.0233633 \\\\\n",
       "\t$\\dots$ & $\\dots$ & $\\dots$ & $\\dots$ & $\\dots$ & $\\dots$ \\\\\n",
       "\\end{tabular}\n"
      ],
      "text/plain": [
       "\u001b[1m100×5 DataFrame\u001b[0m\n",
       "\u001b[1m Row \u001b[0m│\u001b[1m min_f    \u001b[0m\u001b[1m mean_f     \u001b[0m\u001b[1m median_f   \u001b[0m\u001b[1m max_f       \u001b[0m\u001b[1m std         \u001b[0m\n",
       "     │\u001b[90m Float64  \u001b[0m\u001b[90m Float64    \u001b[0m\u001b[90m Float64    \u001b[0m\u001b[90m Float64     \u001b[0m\u001b[90m Float64     \u001b[0m\n",
       "─────┼────────────────────────────────────────────────────────────\n",
       "   1 │ 0.424001  331.463     139.988     1627.38      439.756\n",
       "   2 │ 0.321719   84.7211     35.0588     808.533     152.371\n",
       "   3 │ 0.578831   29.2711     10.1089     126.64       37.2353\n",
       "   4 │ 0.275801   16.4307      7.51019     56.5675     17.7872\n",
       "   5 │ 0.568604   10.9749      5.36025     46.42       11.7371\n",
       "   6 │ 0.560855    5.25174     3.50996     16.0154      3.93378\n",
       "   7 │ 0.673143    3.01429     2.09055      9.83939     2.31038\n",
       "   8 │ 0.689797    1.65877     1.5351       2.7963      0.656081\n",
       "  ⋮  │    ⋮          ⋮           ⋮            ⋮            ⋮\n",
       "  94 │ 0.154831    0.194999    0.179632     0.258159    0.032853\n",
       "  95 │ 0.159695    0.207588    0.186078     0.43715     0.062134\n",
       "  96 │ 0.162542    0.19567     0.178905     0.378391    0.0436431\n",
       "  97 │ 0.156782    0.190401    0.176745     0.27377     0.0333979\n",
       "  98 │ 0.155761    0.182491    0.176289     0.279162    0.0277508\n",
       "  99 │ 0.14453     0.182192    0.177637     0.233579    0.0217481\n",
       " 100 │ 0.150493    0.189006    0.179282     0.31768     0.0368218\n",
       "\u001b[36m                                                   85 rows omitted\u001b[0m"
      ]
     },
     "metadata": {},
     "output_type": "display_data"
    }
   ],
   "source": [
    "DataFrame(thelogger.records)"
   ]
  }
 ],
 "metadata": {
  "kernelspec": {
   "display_name": "Julia 1.9.2",
   "language": "julia",
   "name": "julia-1.9"
  },
  "language_info": {
   "file_extension": ".jl",
   "mimetype": "application/julia",
   "name": "julia",
   "version": "1.9.2"
  },
  "vscode": {
   "interpreter": {
    "hash": "916dbcbb3f70747c44a77c7bcd40155683ae19c65e1c03b4aa3499c5328201f1"
   }
  }
 },
 "nbformat": 4,
 "nbformat_minor": 2
}
