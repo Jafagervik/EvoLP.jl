{
 "cells": [
  {
   "attachments": {},
   "cell_type": "markdown",
   "metadata": {},
   "source": [
    "# Genetic Algorithm for combinatorial optimisation\n",
    "\n",
    "This notebook showcases how to use some of the building blocks provided by EvoLP to solve a combinatorial problem."
   ]
  },
  {
   "cell_type": "code",
   "execution_count": 1,
   "metadata": {},
   "outputs": [],
   "source": [
    "using Statistics\n",
    "using EvoLP\n",
    "using OrderedCollections"
   ]
  },
  {
   "attachments": {},
   "cell_type": "markdown",
   "metadata": {},
   "source": [
    "In this example,  we will solve the 8-queen problem.\n",
    "This is a constraint satisfaction problem in which the goal is to place 8 queens in a chess board such that neither of them _check_ each other."
   ]
  },
  {
   "attachments": {},
   "cell_type": "markdown",
   "metadata": {},
   "source": [
    "![One queen on the board](8-queens01.png)"
   ]
  },
  {
   "attachments": {},
   "cell_type": "markdown",
   "metadata": {},
   "source": [
    "In the figure above, we have placed a queen represented by a blue dot. All conflicting cells have been highlighted. The problem becomes harder when we add more queens to the board:"
   ]
  },
  {
   "attachments": {},
   "cell_type": "markdown",
   "metadata": {},
   "source": [
    "![2 queens on the board](8-queens02.png)"
   ]
  },
  {
   "attachments": {},
   "cell_type": "markdown",
   "metadata": {},
   "source": [
    "We can solve this problem using a Genetic Algorithm (GA) that deals with the constraints."
   ]
  },
  {
   "attachments": {},
   "cell_type": "markdown",
   "metadata": {},
   "source": [
    "## Implementing the solution"
   ]
  },
  {
   "attachments": {},
   "cell_type": "markdown",
   "metadata": {},
   "source": [
    "To implement the solution, we need to deal with the constraints in some way."
   ]
  },
  {
   "attachments": {},
   "cell_type": "markdown",
   "metadata": {},
   "source": [
    "In a GA, we use vectors as individuals.\n",
    "In this case, our individuals are **permutations** of the numbers 1 to 8"
   ]
  },
  {
   "cell_type": "code",
   "execution_count": 3,
   "metadata": {},
   "outputs": [
    {
     "data": {
      "text/latex": [
       "\\begin{verbatim}\n",
       "rand_pop_int_perm(n, d, pool)\n",
       "\\end{verbatim}\n",
       "Generate a population of \\texttt{n} permutation vector individuals, of size \\texttt{d} and with values sampled from \\texttt{pool}.\n",
       "\n",
       "Usually \\texttt{d} would be equal to \\texttt{length(pool)}.\n",
       "\n"
      ],
      "text/markdown": [
       "```\n",
       "rand_pop_int_perm(n, d, pool)\n",
       "```\n",
       "\n",
       "Generate a population of `n` permutation vector individuals, of size `d` and with values sampled from `pool`.\n",
       "\n",
       "Usually `d` would be equal to `length(pool)`.\n"
      ],
      "text/plain": [
       "\u001b[36m  rand_pop_int_perm(n, d, pool)\u001b[39m\n",
       "\n",
       "  Generate a population of \u001b[36mn\u001b[39m permutation vector individuals, of size \u001b[36md\u001b[39m and\n",
       "  with values sampled from \u001b[36mpool\u001b[39m.\n",
       "\n",
       "  Usually \u001b[36md\u001b[39m would be equal to \u001b[36mlength(pool)\u001b[39m."
      ]
     },
     "metadata": {},
     "output_type": "display_data"
    }
   ],
   "source": [
    "@doc rand_pop_int_perm"
   ]
  },
  {
   "cell_type": "code",
   "execution_count": 4,
   "metadata": {},
   "outputs": [
    {
     "data": {
      "text/plain": [
       "3-element Vector{Vector{Int64}}:\n",
       " [4, 6, 2, 5, 8, 1, 3, 7]\n",
       " [2, 4, 7, 3, 1, 6, 8, 5]\n",
       " [6, 7, 8, 1, 5, 4, 3, 2]"
      ]
     },
     "metadata": {},
     "output_type": "display_data"
    }
   ],
   "source": [
    "pop_size = 100\n",
    "population = rand_pop_int_perm(pop_size, 8, 1:8)\n",
    "first(population, 3)"
   ]
  },
  {
   "attachments": {},
   "cell_type": "markdown",
   "metadata": {},
   "source": [
    "In a GA, we have selection, crossover and mutation.\n",
    "\n",
    "However, since we're dealing with permutations, we are restricted to use some specific operators that do not violate our constraints:"
   ]
  },
  {
   "cell_type": "code",
   "execution_count": 5,
   "metadata": {},
   "outputs": [
    {
     "data": {
      "text/latex": [
       "Tournament parent selection with tournament size \\texttt{k}.\n",
       "\n"
      ],
      "text/markdown": [
       "Tournament parent selection with tournament size `k`.\n"
      ],
      "text/plain": [
       "  Tournament parent selection with tournament size \u001b[36mk\u001b[39m."
      ]
     },
     "metadata": {},
     "output_type": "display_data"
    }
   ],
   "source": [
    "@doc TournamentSelectionSteady"
   ]
  },
  {
   "cell_type": "code",
   "execution_count": 6,
   "metadata": {},
   "outputs": [
    {
     "data": {
      "text/latex": [
       "Order 1 crossover (OX1) for permutation-based individuals.\n",
       "\n"
      ],
      "text/markdown": [
       "Order 1 crossover (OX1) for permutation-based individuals.\n"
      ],
      "text/plain": [
       "  Order 1 crossover (OX1) for permutation-based individuals."
      ]
     },
     "metadata": {},
     "output_type": "display_data"
    }
   ],
   "source": [
    "@doc OrderOneCrossover"
   ]
  },
  {
   "cell_type": "code",
   "execution_count": 7,
   "metadata": {},
   "outputs": [
    {
     "data": {
      "text/latex": [
       "Swap mutation for permutation-based individuals.\n",
       "\n"
      ],
      "text/markdown": [
       "Swap mutation for permutation-based individuals.\n"
      ],
      "text/plain": [
       "  Swap mutation for permutation-based individuals."
      ]
     },
     "metadata": {},
     "output_type": "display_data"
    }
   ],
   "source": [
    "@doc SwapMutation"
   ]
  },
  {
   "cell_type": "code",
   "execution_count": 8,
   "metadata": {},
   "outputs": [],
   "source": [
    "S = TournamentSelectionSteady(5);\n",
    "C = OrderOneCrossover();\n",
    "M = SwapMutation();"
   ]
  },
  {
   "attachments": {},
   "cell_type": "markdown",
   "metadata": {},
   "source": [
    "We can use the `Logbook` to record statistics about our run:"
   ]
  },
  {
   "cell_type": "code",
   "execution_count": 9,
   "metadata": {},
   "outputs": [
    {
     "data": {
      "text/plain": [
       "Logbook(LittleDict{AbstractString, Function, Vector{AbstractString}, Vector{Function}}(\"mean_eval\" => Statistics.mean, \"max_f\" => maximum, \"min_f\" => minimum, \"median_f\" => Statistics.median), NamedTuple{(:mean_eval, :max_f, :min_f, :median_f)}[])"
      ]
     },
     "metadata": {},
     "output_type": "display_data"
    }
   ],
   "source": [
    "statnames = [\"mean_eval\", \"max_f\", \"min_f\", \"median_f\"]\n",
    "fns = [mean, maximum, minimum, median]\n",
    "thedict = LittleDict(statnames, fns)\n",
    "thelogger = Logbook(thedict)"
   ]
  },
  {
   "attachments": {},
   "cell_type": "markdown",
   "metadata": {},
   "source": [
    "And now we are ready to use all our building blocks to construct our algorithm:"
   ]
  },
  {
   "cell_type": "code",
   "execution_count": 10,
   "metadata": {},
   "outputs": [
    {
     "data": {
      "text/plain": [
       "mySteadyGA (generic function with 1 method)"
      ]
     },
     "metadata": {},
     "output_type": "display_data"
    }
   ],
   "source": [
    "function mySteadyGA(logbook, f, pop, k_max, S, C, M, mrate)\n",
    "    n = length(pop)\n",
    "    for _ in 1:k_max\n",
    "        fitnesses = f.(pop)\n",
    "        parents = select(S, fitnesses)  # this will return 2 parents\n",
    "        parents = vcat(parents, select(S, fitnesses))  # add two more parents\n",
    "        offspring = [cross(C, pop[parents[1]], pop[parents[2]])]  # get first kid\n",
    "        offspring = vcat(offspring, [cross(C, pop[parents[3]], pop[parents[4]])])  # get 2nd\n",
    "        pop = vcat(pop, offspring)\n",
    "        # mutation loop\n",
    "        for i in eachindex(pop)\n",
    "            if rand() <= mrate\n",
    "                pop[i] = mutate(M, pop[i])\n",
    "            end\n",
    "        end\n",
    "        fitnesses = f.(pop)\n",
    "\n",
    "        compute!(logbook, fitnesses)\n",
    "        worst1 = argmax(fitnesses)\n",
    "        deleteat!(pop, worst1)\n",
    "        deleteat!(fitnesses, worst1)\n",
    "        worst2 = argmax(fitnesses)\n",
    "        deleteat!(pop, worst2)\n",
    "        deleteat!(fitnesses, worst2)\n",
    "    end\n",
    "\n",
    "    best, best_i = findmin(f, pop)\n",
    "    n_evals = 2 * k_max * n + n\n",
    "    result = Result(best, pop[best_i], pop, k_max, n_evals)\n",
    "    return result\n",
    "end"
   ]
  },
  {
   "cell_type": "code",
   "execution_count": 11,
   "metadata": {},
   "outputs": [
    {
     "data": {
      "text/plain": [
       "check_constraints (generic function with 1 method)"
      ]
     },
     "metadata": {},
     "output_type": "display_data"
    }
   ],
   "source": [
    "# now we do sum of constraints as the function\n",
    "function check_constraints(x)\n",
    "    # row constraint\n",
    "    # no row constraint due to permutation phenotype\n",
    "    # column constraint\n",
    "    # no column constraint due to single-dimension\n",
    "    # cross constraint\n",
    "    # [i, j]\n",
    "    # [i-1, j-1] = top-left diag\n",
    "    # [i-1, j+1] = top-right diag\n",
    "    # [i+1, j-1] = bottom-left diag\n",
    "    # [i+1, j+1] = bottom-right diag\n",
    "\n",
    "    # rows are values in x\n",
    "    # columns are indices from 1:8\n",
    "    fitness = []\n",
    "    for q in 1:8\n",
    "        tl = collect(zip(x[q]:-1:1, q:-1:1))\n",
    "        tr = collect(zip(x[q]:-1:1, q:1:8))\n",
    "        bl = collect(zip(x[q]:1:8, q:-1:1))\n",
    "        br = collect(zip(x[q]:1:8, q:1:8))\n",
    "\n",
    "        constraints = Set(vcat(tl, tr, bl, br))\n",
    "        delete!(constraints, (x[q], q))\n",
    "        q_fit = sum([(i, j) in constraints ? 1 : 0 for (i, j) in zip(x, 1:8)])\n",
    "        push!(fitness, q_fit)\n",
    "    end\n",
    "\n",
    "    return sum(fitness)\n",
    "end"
   ]
  },
  {
   "cell_type": "code",
   "execution_count": 14,
   "metadata": {},
   "outputs": [],
   "source": [
    "result  = mySteadyGA(thelogger, check_constraints, population, 10000, S, C, M, 0.8);"
   ]
  },
  {
   "cell_type": "code",
   "execution_count": 15,
   "metadata": {},
   "outputs": [
    {
     "name": "stdout",
     "output_type": "stream",
     "text": [
      "optimum(result) = 0\n",
      "optimizer(result) = Any[6, 3, 7, 2, 8, 5, 1, 4]\n",
      "f_calls(result) = 2000100\n",
      "thelogger.records[end] = (mean_eval = 9.92156862745098, max_f = 26, min_f = 0, median_f = 10.0)\n"
     ]
    },
    {
     "data": {
      "text/plain": [
       "(mean_eval = 9.92156862745098, max_f = 26, min_f = 0, median_f = 10.0)"
      ]
     },
     "metadata": {},
     "output_type": "display_data"
    }
   ],
   "source": [
    "@show optimum(result)\n",
    "@show optimizer(result)\n",
    "@show f_calls(result)\n",
    "@show thelogger.records[end]"
   ]
  },
  {
   "cell_type": "code",
   "execution_count": 109,
   "metadata": {},
   "outputs": [
    {
     "data": {
      "text/plain": [
       "drawboard (generic function with 1 method)"
      ]
     },
     "metadata": {},
     "output_type": "display_data"
    }
   ],
   "source": [
    "function drawboard(x)\n",
    "    b = fill(\"◻\",8,8)\n",
    "    for i in 1:2:8\n",
    "        b[i,2:2:8] .= \"◼\"\n",
    "    end\n",
    "    for i in 2:2:8\n",
    "        b[i, 1:2:8] .= \"◼\"\n",
    "    end\n",
    "    for (i,j) in zip(x,1:8)\n",
    "        b[i, j] = \"♛\"\n",
    "    end\n",
    "    for i in 1:8\n",
    "        println(join(b[i,:]))\n",
    "    end\n",
    "end"
   ]
  },
  {
   "cell_type": "code",
   "execution_count": 110,
   "metadata": {},
   "outputs": [
    {
     "name": "stdout",
     "output_type": "stream",
     "text": [
      "◻◼◻◼◻◼♛◼\n",
      "◼◻◼♛◼◻◼◻\n",
      "◻♛◻◼◻◼◻◼\n",
      "◼◻◼◻◼◻◼♛\n",
      "◻◼◻◼◻♛◻◼\n",
      "♛◻◼◻◼◻◼◻\n",
      "◻◼♛◼◻◼◻◼\n",
      "◼◻◼◻♛◻◼◻\n"
     ]
    }
   ],
   "source": [
    "drawboard(optimizer(result))"
   ]
  }
 ],
 "metadata": {
  "kernelspec": {
   "display_name": "Julia 1.8.5",
   "language": "julia",
   "name": "julia-1.8"
  },
  "language_info": {
   "file_extension": ".jl",
   "mimetype": "application/julia",
   "name": "julia",
   "version": "1.8.5"
  },
  "orig_nbformat": 4
 },
 "nbformat": 4,
 "nbformat_minor": 2
}
